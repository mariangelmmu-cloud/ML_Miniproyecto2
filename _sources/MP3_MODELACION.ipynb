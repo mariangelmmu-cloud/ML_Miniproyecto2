{
 "cells": [
  {
   "cell_type": "markdown",
   "id": "b4619639",
   "metadata": {},
   "source": [
    "# ***Modelos de Clasificación y Predicción***"
   ]
  },
  {
   "cell_type": "markdown",
   "id": "e830da2b",
   "metadata": {},
   "source": [
    "En primer lugar se hace uso de la librería `sklearnex` para optimizar el tiempo de ejecución de las funciones del paquete sklearn."
   ]
  },
  {
   "cell_type": "code",
   "execution_count": 1,
   "id": "bd43f007",
   "metadata": {},
   "outputs": [
    {
     "name": "stderr",
     "output_type": "stream",
     "text": [
      "Extension for Scikit-learn* enabled (https://github.com/uxlfoundation/scikit-learn-intelex)\n"
     ]
    }
   ],
   "source": [
    "from sklearnex import patch_sklearn\n",
    "patch_sklearn()"
   ]
  },
  {
   "cell_type": "markdown",
   "id": "898e48c4",
   "metadata": {},
   "source": [
    "Se importan las librerías a usar en esta sección."
   ]
  },
  {
   "cell_type": "code",
   "execution_count": 2,
   "id": "42562bd0",
   "metadata": {},
   "outputs": [],
   "source": [
    "import numpy as np\n",
    "import pandas as pd\n",
    "import matplotlib.pyplot as plt\n",
    "from sklearn.model_selection import train_test_split, GridSearchCV, KFold\n",
    "from sklearn.linear_model import Ridge, Lasso\n",
    "from sklearn.preprocessing import StandardScaler, OneHotEncoder\n",
    "from sklearn.pipeline import Pipeline\n",
    "from sklearn.compose import ColumnTransformer\n",
    "from sklearn.pipeline import Pipeline\n",
    "from sklearn.linear_model import LogisticRegression\n",
    "from sklearn.metrics import classification_report, confusion_matrix\n",
    "from sklearn.metrics import mean_absolute_error, mean_squared_error, r2_score\n"
   ]
  },
  {
   "cell_type": "markdown",
   "id": "555ae844",
   "metadata": {},
   "source": [
    "Aquí leemos el `.csv` creado en la sección anterior para poder optimizar el tiempo generla de ejecución  del proyecto y la memoria RAM."
   ]
  },
  {
   "cell_type": "code",
   "execution_count": 3,
   "id": "2747aa0f",
   "metadata": {},
   "outputs": [],
   "source": [
    "df = pd.read_csv(\"MP3_MODELOS.csv\")"
   ]
  },
  {
   "cell_type": "markdown",
   "id": "892775bd",
   "metadata": {},
   "source": [
    "Observamos de cerca de nuevo del dataframe para corroborar que es el mismo y no ha habído algún error."
   ]
  },
  {
   "cell_type": "code",
   "execution_count": 4,
   "id": "4d003fb9",
   "metadata": {},
   "outputs": [
    {
     "name": "stdout",
     "output_type": "stream",
     "text": [
      "<class 'pandas.core.frame.DataFrame'>\n",
      "RangeIndex: 388777 entries, 0 to 388776\n",
      "Data columns (total 18 columns):\n",
      " #   Column        Non-Null Count   Dtype  \n",
      "---  ------        --------------   -----  \n",
      " 0   region        388777 non-null  object \n",
      " 1   price         388777 non-null  float64\n",
      " 2   year          388777 non-null  float64\n",
      " 3   manufacturer  388777 non-null  object \n",
      " 4   model         388777 non-null  object \n",
      " 5   condition     388777 non-null  object \n",
      " 6   cylinders     388777 non-null  int64  \n",
      " 7   fuel          388777 non-null  object \n",
      " 8   odometer      388777 non-null  float64\n",
      " 9   title_status  388777 non-null  object \n",
      " 10  transmission  388777 non-null  object \n",
      " 11  drive         388777 non-null  object \n",
      " 12  type          388777 non-null  object \n",
      " 13  paint_color   388777 non-null  object \n",
      " 14  state         388777 non-null  object \n",
      " 15  lat           388777 non-null  float64\n",
      " 16  long          388777 non-null  float64\n",
      " 17  high_demand   388777 non-null  int64  \n",
      "dtypes: float64(5), int64(2), object(11)\n",
      "memory usage: 53.4+ MB\n"
     ]
    }
   ],
   "source": [
    "df.info()"
   ]
  },
  {
   "cell_type": "code",
   "execution_count": 5,
   "id": "09e98316",
   "metadata": {},
   "outputs": [
    {
     "data": {
      "text/html": [
       "<div>\n",
       "<style scoped>\n",
       "    .dataframe tbody tr th:only-of-type {\n",
       "        vertical-align: middle;\n",
       "    }\n",
       "\n",
       "    .dataframe tbody tr th {\n",
       "        vertical-align: top;\n",
       "    }\n",
       "\n",
       "    .dataframe thead th {\n",
       "        text-align: right;\n",
       "    }\n",
       "</style>\n",
       "<table border=\"1\" class=\"dataframe\">\n",
       "  <thead>\n",
       "    <tr style=\"text-align: right;\">\n",
       "      <th></th>\n",
       "      <th>region</th>\n",
       "      <th>price</th>\n",
       "      <th>year</th>\n",
       "      <th>manufacturer</th>\n",
       "      <th>model</th>\n",
       "      <th>condition</th>\n",
       "      <th>cylinders</th>\n",
       "      <th>fuel</th>\n",
       "      <th>odometer</th>\n",
       "      <th>title_status</th>\n",
       "      <th>transmission</th>\n",
       "      <th>drive</th>\n",
       "      <th>type</th>\n",
       "      <th>paint_color</th>\n",
       "      <th>state</th>\n",
       "      <th>lat</th>\n",
       "      <th>long</th>\n",
       "      <th>high_demand</th>\n",
       "    </tr>\n",
       "  </thead>\n",
       "  <tbody>\n",
       "    <tr>\n",
       "      <th>0</th>\n",
       "      <td>prescott</td>\n",
       "      <td>6000.0</td>\n",
       "      <td>2013.0</td>\n",
       "      <td>ford</td>\n",
       "      <td>f-150</td>\n",
       "      <td>condition_missing</td>\n",
       "      <td>4</td>\n",
       "      <td>gas</td>\n",
       "      <td>85548.0</td>\n",
       "      <td>clean</td>\n",
       "      <td>automatic</td>\n",
       "      <td>drive_missing</td>\n",
       "      <td>type_missing</td>\n",
       "      <td>paint_missing</td>\n",
       "      <td>az</td>\n",
       "      <td>34.6019</td>\n",
       "      <td>-112.420000</td>\n",
       "      <td>0</td>\n",
       "    </tr>\n",
       "    <tr>\n",
       "      <th>1</th>\n",
       "      <td>fayetteville</td>\n",
       "      <td>11900.0</td>\n",
       "      <td>2013.0</td>\n",
       "      <td>ford</td>\n",
       "      <td>f-150</td>\n",
       "      <td>condition_missing</td>\n",
       "      <td>4</td>\n",
       "      <td>gas</td>\n",
       "      <td>85548.0</td>\n",
       "      <td>clean</td>\n",
       "      <td>automatic</td>\n",
       "      <td>drive_missing</td>\n",
       "      <td>type_missing</td>\n",
       "      <td>paint_missing</td>\n",
       "      <td>Other</td>\n",
       "      <td>36.1716</td>\n",
       "      <td>-93.380217</td>\n",
       "      <td>0</td>\n",
       "    </tr>\n",
       "    <tr>\n",
       "      <th>2</th>\n",
       "      <td>florida keys</td>\n",
       "      <td>21000.0</td>\n",
       "      <td>2013.0</td>\n",
       "      <td>ford</td>\n",
       "      <td>f-150</td>\n",
       "      <td>condition_missing</td>\n",
       "      <td>8</td>\n",
       "      <td>gas</td>\n",
       "      <td>85548.0</td>\n",
       "      <td>clean</td>\n",
       "      <td>automatic</td>\n",
       "      <td>drive_missing</td>\n",
       "      <td>type_missing</td>\n",
       "      <td>paint_missing</td>\n",
       "      <td>fl</td>\n",
       "      <td>25.0800</td>\n",
       "      <td>-80.440000</td>\n",
       "      <td>1</td>\n",
       "    </tr>\n",
       "    <tr>\n",
       "      <th>3</th>\n",
       "      <td>worcester / central MA</td>\n",
       "      <td>1500.0</td>\n",
       "      <td>2013.0</td>\n",
       "      <td>ford</td>\n",
       "      <td>f-150</td>\n",
       "      <td>condition_missing</td>\n",
       "      <td>6</td>\n",
       "      <td>gas</td>\n",
       "      <td>85548.0</td>\n",
       "      <td>clean</td>\n",
       "      <td>automatic</td>\n",
       "      <td>drive_missing</td>\n",
       "      <td>type_missing</td>\n",
       "      <td>paint_missing</td>\n",
       "      <td>ma</td>\n",
       "      <td>42.2600</td>\n",
       "      <td>-71.800000</td>\n",
       "      <td>0</td>\n",
       "    </tr>\n",
       "    <tr>\n",
       "      <th>4</th>\n",
       "      <td>greensboro</td>\n",
       "      <td>4900.0</td>\n",
       "      <td>2013.0</td>\n",
       "      <td>ford</td>\n",
       "      <td>f-150</td>\n",
       "      <td>condition_missing</td>\n",
       "      <td>4</td>\n",
       "      <td>gas</td>\n",
       "      <td>85548.0</td>\n",
       "      <td>clean</td>\n",
       "      <td>automatic</td>\n",
       "      <td>drive_missing</td>\n",
       "      <td>type_missing</td>\n",
       "      <td>paint_missing</td>\n",
       "      <td>nc</td>\n",
       "      <td>36.0700</td>\n",
       "      <td>-79.820200</td>\n",
       "      <td>0</td>\n",
       "    </tr>\n",
       "  </tbody>\n",
       "</table>\n",
       "</div>"
      ],
      "text/plain": [
       "                   region    price    year manufacturer  model  \\\n",
       "0                prescott   6000.0  2013.0         ford  f-150   \n",
       "1            fayetteville  11900.0  2013.0         ford  f-150   \n",
       "2            florida keys  21000.0  2013.0         ford  f-150   \n",
       "3  worcester / central MA   1500.0  2013.0         ford  f-150   \n",
       "4              greensboro   4900.0  2013.0         ford  f-150   \n",
       "\n",
       "           condition  cylinders fuel  odometer title_status transmission  \\\n",
       "0  condition_missing          4  gas   85548.0        clean    automatic   \n",
       "1  condition_missing          4  gas   85548.0        clean    automatic   \n",
       "2  condition_missing          8  gas   85548.0        clean    automatic   \n",
       "3  condition_missing          6  gas   85548.0        clean    automatic   \n",
       "4  condition_missing          4  gas   85548.0        clean    automatic   \n",
       "\n",
       "           drive          type    paint_color  state      lat        long  \\\n",
       "0  drive_missing  type_missing  paint_missing     az  34.6019 -112.420000   \n",
       "1  drive_missing  type_missing  paint_missing  Other  36.1716  -93.380217   \n",
       "2  drive_missing  type_missing  paint_missing     fl  25.0800  -80.440000   \n",
       "3  drive_missing  type_missing  paint_missing     ma  42.2600  -71.800000   \n",
       "4  drive_missing  type_missing  paint_missing     nc  36.0700  -79.820200   \n",
       "\n",
       "   high_demand  \n",
       "0            0  \n",
       "1            0  \n",
       "2            1  \n",
       "3            0  \n",
       "4            0  "
      ]
     },
     "execution_count": 5,
     "metadata": {},
     "output_type": "execute_result"
    }
   ],
   "source": [
    "df.head()"
   ]
  },
  {
   "cell_type": "markdown",
   "id": "050ca236",
   "metadata": {},
   "source": [
    "Efectivamente es el dataframe inidcado con todods los cambios realizados anteriormente."
   ]
  },
  {
   "cell_type": "markdown",
   "id": "d89ed3b0",
   "metadata": {},
   "source": [
    "## ***1. Modelos***"
   ]
  },
  {
   "cell_type": "markdown",
   "id": "b0616ad1",
   "metadata": {},
   "source": [
    "Ahora iniciamos a crear los difernetes modelos propuestos en el proyecto. Se realizan modelos con regularización y con regularización para ambos casos: clasificación y regresión."
   ]
  },
  {
   "cell_type": "markdown",
   "id": "8db9cd8f",
   "metadata": {},
   "source": [
    "### ***1.1. Regresión: Predicción de la variable `Price`***"
   ]
  },
  {
   "cell_type": "markdown",
   "id": "8319924d",
   "metadata": {},
   "source": [
    "Iniciamos con `regresión` con el fin de predecir la variable `price`."
   ]
  },
  {
   "cell_type": "markdown",
   "id": "064ec074",
   "metadata": {},
   "source": [
    "### ***1.1.1. Sin regularización:***"
   ]
  },
  {
   "cell_type": "markdown",
   "id": "6f8607c0",
   "metadata": {},
   "source": [
    "#### ***1.1.1.1. Modelo de regresión lineal simple (OLS)***"
   ]
  },
  {
   "cell_type": "markdown",
   "id": "381c171d",
   "metadata": {},
   "source": [
    "Seleccionamos la variable objetivo y las predictoras."
   ]
  },
  {
   "cell_type": "code",
   "execution_count": 6,
   "id": "fac21bff",
   "metadata": {},
   "outputs": [],
   "source": [
    "X = df.drop([\"price\", \"high_demand\"], axis=1)   \n",
    "y = df[\"price\"]"
   ]
  },
  {
   "cell_type": "markdown",
   "id": "75dbfbec",
   "metadata": {},
   "source": [
    "Separamos el conjunto de entrenamiento del conjunto de test."
   ]
  },
  {
   "cell_type": "code",
   "execution_count": 7,
   "id": "def99bca",
   "metadata": {},
   "outputs": [],
   "source": [
    "X_train, X_test, y_train, y_test = train_test_split(X, y, test_size=0.2, random_state=42)"
   ]
  },
  {
   "cell_type": "markdown",
   "id": "7e9e3b73",
   "metadata": {},
   "source": [
    "Agrupamos las variables según su naturaleza: numérica o categórica."
   ]
  },
  {
   "cell_type": "code",
   "execution_count": 8,
   "id": "7902495c",
   "metadata": {},
   "outputs": [],
   "source": [
    "num_features = X.select_dtypes(include=[\"int64\", \"float64\"]).columns\n",
    "cat_features = X.select_dtypes(include=[\"object\", \"category\"]).columns"
   ]
  },
  {
   "cell_type": "markdown",
   "id": "90bbd2ad",
   "metadata": {},
   "source": [
    "Aquí tenemos el pipeline en el que se hacen las tranformaciones necesarias para hacer el modelo, teniendo en cuenta el tipo particular de las variables. "
   ]
  },
  {
   "cell_type": "code",
   "execution_count": 9,
   "id": "3342165a",
   "metadata": {},
   "outputs": [],
   "source": [
    "\n",
    "from sklearn.compose import ColumnTransformer\n",
    "from sklearn.preprocessing import OneHotEncoder\n",
    "\n",
    "num_transformer = StandardScaler()\n",
    "\n",
    "\n",
    "cat_transformer = OneHotEncoder(handle_unknown=\"ignore\")\n",
    "\n",
    "preprocessor = ColumnTransformer(\n",
    "    transformers=[\n",
    "        (\"num\", num_transformer, num_features),\n",
    "        (\"cat\", cat_transformer, cat_features)\n",
    "    ]\n",
    ")\n"
   ]
  },
  {
   "cell_type": "markdown",
   "id": "e2aab902",
   "metadata": {},
   "source": [
    "Se crea el pipeline del modelo de regresión lineal simple (OLS)."
   ]
  },
  {
   "cell_type": "code",
   "execution_count": 10,
   "id": "b12de40b",
   "metadata": {},
   "outputs": [],
   "source": [
    "from sklearn.linear_model import LinearRegression\n",
    "ols_pipeline = Pipeline([\n",
    "    (\"preprocessor\", preprocessor),\n",
    "    (\"ols\", LinearRegression())\n",
    "])"
   ]
  },
  {
   "cell_type": "markdown",
   "id": "cbee0cf3",
   "metadata": {},
   "source": [
    "Ahora entrenamos el modelo y nos arroja los valores de R cuadrado para el conjunto de entrenamiento y de test."
   ]
  },
  {
   "cell_type": "code",
   "execution_count": 11,
   "id": "be414443",
   "metadata": {},
   "outputs": [
    {
     "name": "stdout",
     "output_type": "stream",
     "text": [
      "R² en entrenamiento: 0.56262705529975\n",
      "R² en test: 0.5673023002838422\n"
     ]
    }
   ],
   "source": [
    "ols_pipeline.fit(X_train, y_train)\n",
    "\n",
    "print(\"R² en entrenamiento:\", ols_pipeline.score(X_train, y_train))\n",
    "print(\"R² en test:\", ols_pipeline.score(X_test, y_test))"
   ]
  },
  {
   "cell_type": "markdown",
   "id": "11ff751f",
   "metadata": {},
   "source": [
    "Al entrenar el modelo de regresión lineal (OLS), obtenemos valores de R² de aproximadamente 0.56 tanto para el conjunto de entrenamiento como para el de test. Esto indica que el modelo tiene un desempeño consistente en ambos conjuntos, lo cual sugiere que no está sobreajustado. Sin embargo, también refleja que el modelo solo explica cerca del 56% de la varianza del precio, por lo que hay margen de mejora. "
   ]
  },
  {
   "cell_type": "code",
   "execution_count": 12,
   "id": "847b77cf",
   "metadata": {},
   "outputs": [
    {
     "name": "stdout",
     "output_type": "stream",
     "text": [
      "                       MAE          RMSE        R2\n",
      "Entrenamiento  6315.122016  10160.537736  0.562627\n",
      "Test           6318.228425  10122.925468  0.567302\n"
     ]
    }
   ],
   "source": [
    "# Predicciones\n",
    "y_train_pred = ols_pipeline.predict(X_train)\n",
    "y_test_pred = ols_pipeline.predict(X_test)\n",
    "\n",
    "# Calcular métricas\n",
    "metrics = {\n",
    "    'MAE': [mean_absolute_error(y_train, y_train_pred),\n",
    "            mean_absolute_error(y_test, y_test_pred)],\n",
    "    'RMSE': [np.sqrt(mean_squared_error(y_train, y_train_pred)),\n",
    "             np.sqrt(mean_squared_error(y_test, y_test_pred))],\n",
    "    'R2': [r2_score(y_train, y_train_pred),\n",
    "           r2_score(y_test, y_test_pred)]\n",
    "}\n",
    "\n",
    "# Crear DataFrame\n",
    "metrics_df = pd.DataFrame(metrics, index=['Entrenamiento', 'Test'])\n",
    "print(metrics_df)"
   ]
  },
  {
   "cell_type": "markdown",
   "id": "6eb57ab7",
   "metadata": {},
   "source": [
    "El modelo OLS fue evaluado con métricas MAE, RMSE y R² para los conjuntos de entrenamiento y test. Los resultados son muy similares entre ambos conjuntos, lo cual indica que el modelo generaliza bien y no hay sobreajuste. El MAE está en torno a los 6300 y el RMSE cerca de 10100, lo que implica que, en promedio, las predicciones del precio se desvían unos $6,300–$10,100 del valor real. El R² cercano a 0.56 sigue indicando que el modelo explica alrededor del 56% de la varianza. "
   ]
  },
  {
   "cell_type": "code",
   "execution_count": 13,
   "id": "9a0a9ef0",
   "metadata": {},
   "outputs": [
    {
     "data": {
      "image/png": "[encoded data removed]",
      "text/plain": [
       "<Figure size 576x576 with 1 Axes>"
      ]
     },
     "metadata": {
      "needs_background": "light"
     },
     "output_type": "display_data"
    }
   ],
   "source": [
    "plt.figure(figsize=(8, 8))\n",
    "\n",
    "# Gráfico de entrenamiento\n",
    "plt.scatter(y_train, y_train_pred, color='blue', alpha=0.5, label='Entrenamiento')\n",
    "\n",
    "# Gráfico de test\n",
    "plt.scatter(y_test, y_test_pred, color='red', alpha=0.5, label='Test')\n",
    "\n",
    "# Línea diagonal perfecta\n",
    "min_val = min(min(y_train), min(y_test))\n",
    "max_val = max(max(y_train), max(y_test))\n",
    "plt.plot([min_val, max_val], [min_val, max_val], color='black', linestyle='--', label='Predicción perfecta')\n",
    "\n",
    "plt.xlabel(\"Valores reales\")\n",
    "plt.ylabel(\"Valores predichos\")\n",
    "plt.title(\"Valores Predichos vs Valores Reales\")\n",
    "plt.legend()\n",
    "plt.grid(True)\n",
    "plt.show()"
   ]
  },
  {
   "cell_type": "markdown",
   "id": "d7c3b1df",
   "metadata": {},
   "source": [
    "En este gráfico se comparan los valores reales de los precios de los autos con los valores predichos por el modelo, tanto para el conjunto de entrenamiento como para el de prueba. La línea negra representa una predicción perfecta, es decir, donde los valores predichos coinciden exactamente con los reales. Aunque se observa cierta alineación con esta línea, la mayoría de los puntos están dispersos por debajo de ella, especialmente para valores altos, lo que sugiere que el modelo tiende a subestimar precios elevados. Sin embargo, la distribución no muestra un sobreajuste evidente, ya que los patrones en entrenamiento y test son similares.\n"
   ]
  },
  {
   "cell_type": "markdown",
   "id": "babda53d",
   "metadata": {},
   "source": [
    "### ***1.1.2. Con regularización:***"
   ]
  },
  {
   "cell_type": "markdown",
   "id": "5f9065b7",
   "metadata": {},
   "source": [
    "### **1.1.2.1. Modelo Ridge**"
   ]
  },
  {
   "cell_type": "markdown",
   "id": "9aee75c5",
   "metadata": {},
   "source": [
    "#### ***1.1.2.1.1.  Grridsearch***"
   ]
  },
  {
   "cell_type": "markdown",
   "id": "93c19371",
   "metadata": {},
   "source": [
    "Se realiza la separación entre las variables predictoras (`X`) y la variable objetivo (`y`), que en este caso es el precio del auto. Se eliminan del conjunto de predictores tanto el precio como la columna `high_demand`, ya que no se deben usar variables que se desea predecir o que estén directamente relacionadas con la variable objetivo."
   ]
  },
  {
   "cell_type": "code",
   "execution_count": null,
   "id": "e3d358cd",
   "metadata": {},
   "outputs": [],
   "source": [
    "X = df.drop([\"price\", \"high_demand\"], axis=1)   \n",
    "y = df[\"price\"]"
   ]
  },
  {
   "cell_type": "markdown",
   "id": "34288898",
   "metadata": {},
   "source": [
    "Se lleva a cabo la división del conjunto de datos en entrenamiento y prueba utilizando `train_test_split`. Se destina un 20% de los datos para test y el resto para entrenamiento. Además, se establece una semilla para garantizar reproducibilidad."
   ]
  },
  {
   "cell_type": "code",
   "execution_count": 15,
   "id": "12145c19",
   "metadata": {},
   "outputs": [],
   "source": [
    "X_train, X_test, y_train, y_test = train_test_split(X, y, test_size=0.2, random_state=42)"
   ]
  },
  {
   "cell_type": "markdown",
   "id": "988306c0",
   "metadata": {},
   "source": [
    "Se identifican qué columnas del dataset son numéricas y cuáles son categóricas. "
   ]
  },
  {
   "cell_type": "code",
   "execution_count": 16,
   "id": "dc2ff9af",
   "metadata": {},
   "outputs": [],
   "source": [
    "num_features = X.select_dtypes(include=[\"int64\", \"float64\"]).columns\n",
    "cat_features = X.select_dtypes(include=[\"object\", \"category\"]).columns"
   ]
  },
  {
   "cell_type": "markdown",
   "id": "f889aca7",
   "metadata": {},
   "source": [
    "Se definen dos transformadores: uno para las variables numéricas (`StandardScaler`) que normaliza sus valores, y otro para las categóricas (`OneHotEncoder`) que convierte variables categóricas a variables dummy. Luego se combinan ambos transformadores en un `ColumnTransformer` para que el preprocesamiento se aplique automáticamente a cada tipo de columna."
   ]
  },
  {
   "cell_type": "code",
   "execution_count": 17,
   "id": "ba9f1085",
   "metadata": {},
   "outputs": [],
   "source": [
    "# Transformador para las numéricas: escalado\n",
    "from sklearn.compose import ColumnTransformer\n",
    "from sklearn.preprocessing import OneHotEncoder\n",
    "\n",
    "\n",
    "num_transformer = StandardScaler()\n",
    "\n",
    "# Transformador para las categóricas: one-hot encoding\n",
    "cat_transformer = OneHotEncoder(handle_unknown=\"ignore\")\n",
    "\n",
    "# Combinar en un ColumnTransformer\n",
    "preprocessor = ColumnTransformer(\n",
    "    transformers=[\n",
    "        (\"num\", num_transformer, num_features),\n",
    "        (\"cat\", cat_transformer, cat_features)\n",
    "    ]\n",
    ")\n"
   ]
  },
  {
   "cell_type": "markdown",
   "id": "42be5548",
   "metadata": {},
   "source": [
    "Se construye un pipeline que integra el preprocesamiento anterior con un modelo de regresión Ridge. Este pipeline permite que todos los pasos —desde escalar y codificar los datos hasta entrenar el modelo— se ejecuten de forma encadenada, haciendo el proceso más limpio y reproducible."
   ]
  },
  {
   "cell_type": "code",
   "execution_count": 18,
   "id": "1753f162",
   "metadata": {},
   "outputs": [],
   "source": [
    "pipeline_ridge = Pipeline([\n",
    "    (\"preprocessor\", preprocessor),  # preprocesa numéricas y categóricas\n",
    "    (\"ridge\", Ridge(max_iter=3000, tol=0.01, random_state=42))               # modelo Ridge\n",
    "])"
   ]
  },
  {
   "cell_type": "markdown",
   "id": "867a7497",
   "metadata": {},
   "source": [
    "Se realiza una búsqueda de hiperparámetros para el modelo Ridge utilizando `GridSearchCV`. Se define un rango de valores para el parámetro `alpha`, que es el que controla la regularización. El modelo probará cada uno de estos valores con validación cruzada de 5 folds y utilizará como métrica de evaluación el R². Al usar un pipeline, todo el flujo desde el preprocesamiento hasta el entrenamiento se prueba en cada combinación."
   ]
  },
  {
   "cell_type": "code",
   "execution_count": 19,
   "id": "eeb59b30",
   "metadata": {},
   "outputs": [],
   "source": [
    "param_grid = {\"ridge__alpha\": [0.1, 1, 10, 100]}\n",
    "ridge_grid = GridSearchCV(\n",
    "    pipeline_ridge,\n",
    "    param_grid,\n",
    "    cv=5,\n",
    "    scoring=\"r2\",   \n",
    "    n_jobs=-1\n",
    ")"
   ]
  },
  {
   "cell_type": "markdown",
   "id": "6022446e",
   "metadata": {},
   "source": [
    "Aquí simplemente se compara el tamaño del conjunto de entrenamiento antes y después de aplicar el preprocesamiento. Se observa cómo pasa de 16 columnas originales a 514, lo cual se debe a que las variables categóricas fueron transformadas con OneHotEncoding, generando muchas columnas nuevas. Esto es importante para tener en cuenta la dimensionalidad final con la que entrenará el modelo."
   ]
  },
  {
   "cell_type": "code",
   "execution_count": 20,
   "id": "0bfa7cb7",
   "metadata": {},
   "outputs": [
    {
     "name": "stdout",
     "output_type": "stream",
     "text": [
      "Shape original de X_train: (311021, 16)\n",
      "Shape después de OneHot + Escalado: (311021, 514)\n"
     ]
    }
   ],
   "source": [
    "print(\"Shape original de X_train:\", X_train.shape)\n",
    "\n",
    "X_train_transformed = pipeline_ridge.named_steps[\"preprocessor\"].fit_transform(X_train)\n",
    "print(\"Shape después de OneHot + Escalado:\", X_train_transformed.shape)"
   ]
  },
  {
   "cell_type": "markdown",
   "id": "86ac9f7c",
   "metadata": {},
   "source": [
    "En esta parte se entrena finalmente el modelo Ridge con `GridSearchCV`, es decir, se prueba cada valor de `alpha` definido antes y se determina cuál da el mejor resultado. "
   ]
  },
  {
   "cell_type": "code",
   "execution_count": 21,
   "id": "f91c2bcd",
   "metadata": {},
   "outputs": [
    {
     "name": "stdout",
     "output_type": "stream",
     "text": [
      "Mejor alpha encontrado: {'ridge__alpha': 100}\n",
      "Mejor score CV: 0.5583047300695639\n",
      "R² en entrenamiento: 0.5587669644929232\n",
      "R² en test: 0.5640019403628391\n"
     ]
    }
   ],
   "source": [
    "ridge_grid.fit(X_train, y_train)\n",
    "\n",
    "print(\"Mejor alpha encontrado:\", ridge_grid.best_params_)\n",
    "print(\"Mejor score CV:\", ridge_grid.best_score_)\n",
    "print(\"R² en entrenamiento:\", ridge_grid.score(X_train, y_train))\n",
    "print(\"R² en test:\", ridge_grid.score(X_test, y_test))\n"
   ]
  },
  {
   "cell_type": "markdown",
   "id": "420fc534",
   "metadata": {},
   "source": [
    "En este caso, el mejor valor fue `100`. Los resultados muestran que el modelo generaliza bien, ya que los valores de R² en entrenamiento y test son bastante similares, alrededor de 0.55."
   ]
  },
  {
   "cell_type": "code",
   "execution_count": 22,
   "id": "81f06829",
   "metadata": {},
   "outputs": [
    {
     "name": "stdout",
     "output_type": "stream",
     "text": [
      "                       MAE          RMSE        R2\n",
      "Entrenamiento  6335.125731  10205.275805  0.558767\n",
      "Test           6334.344406  10161.457950  0.564002\n"
     ]
    }
   ],
   "source": [
    "import pandas as pd\n",
    "from sklearn.metrics import mean_absolute_error, mean_squared_error, r2_score\n",
    "import numpy as np\n",
    "\n",
    "# Predicciones\n",
    "y_train_pred = ridge_grid.predict(X_train)\n",
    "y_test_pred = ridge_grid.predict(X_test)\n",
    "\n",
    "# Calcular métricas\n",
    "metrics = {\n",
    "    'MAE': [mean_absolute_error(y_train, y_train_pred),\n",
    "            mean_absolute_error(y_test, y_test_pred)],\n",
    "    'RMSE': [np.sqrt(mean_squared_error(y_train, y_train_pred)),\n",
    "             np.sqrt(mean_squared_error(y_test, y_test_pred))],\n",
    "    'R2': [r2_score(y_train, y_train_pred),\n",
    "           r2_score(y_test, y_test_pred)]\n",
    "}\n",
    "\n",
    "# Crear DataFrame\n",
    "metrics_df = pd.DataFrame(metrics, index=['Entrenamiento', 'Test'])\n",
    "print(metrics_df)"
   ]
  },
  {
   "cell_type": "markdown",
   "id": "6b48d811",
   "metadata": {},
   "source": [
    "Se generan las predicciones del modelo Ridge para los datos de entrenamiento y test, y luego se calculan Sres métricas clave: MAE, RMSE y R². Los resultados indican que el error promedio (MAE) y el error cuadrático medio (RMSE) son bastante similares entre entrenamiento y test, lo cual sugiere que el modelo no está sobreajustado. El R² es de aproximadamente 0.56 para ambos conjuntos, lo que significa que el modelo explica alrededor del 56% de la variabilidad del precio. Si bien no es un modelo extremadamente preciso, muestra un desempeño estable y consistente entre entrenamiento y validación."
   ]
  },
  {
   "cell_type": "markdown",
   "id": "d701aa4d",
   "metadata": {},
   "source": [
    "Aquí se grafica la relación entre los valores reales y los valores predichos por el modelo Ridge. "
   ]
  },
  {
   "cell_type": "code",
   "execution_count": 23,
   "id": "9230d231",
   "metadata": {},
   "outputs": [
    {
     "data": {
      "image/png": "[encoded data removed]",
      "text/plain": [
       "<Figure size 576x576 with 1 Axes>"
      ]
     },
     "metadata": {
      "needs_background": "light"
     },
     "output_type": "display_data"
    }
   ],
   "source": [
    "plt.figure(figsize=(8, 8))\n",
    "\n",
    "# Gráfico de entrenamiento\n",
    "plt.scatter(y_train, y_train_pred, color='blue', alpha=0.5, label='Entrenamiento')\n",
    "\n",
    "# Gráfico de test\n",
    "plt.scatter(y_test, y_test_pred, color='red', alpha=0.5, label='Test')\n",
    "\n",
    "# Línea diagonal perfecta\n",
    "min_val = min(min(y_train), min(y_test))\n",
    "max_val = max(max(y_train), max(y_test))\n",
    "plt.plot([min_val, max_val], [min_val, max_val], color='black', linestyle='--', label='Predicción perfecta')\n",
    "\n",
    "plt.xlabel(\"Valores reales\")\n",
    "plt.ylabel(\"Valores predichos\")\n",
    "plt.title(\"Valores Predichos vs Valores Reales\")\n",
    "plt.legend()\n",
    "plt.grid(True)\n",
    "plt.show()"
   ]
  },
  {
   "cell_type": "markdown",
   "id": "e492fb69",
   "metadata": {},
   "source": [
    "Los puntos en azul representan el conjunto de entrenamiento, mientras que los rojos corresponden al de test. La línea negra representa una predicción perfecta, es decir, donde los valores reales y predichos coinciden exactamente. La dispersión de los puntos alrededor de esta línea muestra que el modelo tiende a subestimar o sobreestimar ciertos precios, especialmente en valores altos. Aun así, la mayoría de los puntos se concentran cerca de la diagonal, lo cual visualmente confirma que el modelo tiene una precisión razonable, aunque claramente hay margen para mejorar, especialmente en los extremos del rango de precios."
   ]
  },
  {
   "cell_type": "markdown",
   "id": "af12ebed",
   "metadata": {},
   "source": [
    "### ***1.1.2.1.2. Validación cruzada estratificada***"
   ]
  },
  {
   "cell_type": "markdown",
   "id": "29abafaf",
   "metadata": {},
   "source": [
    "Se crea un pipeline con dos componentes principales: el preprocesador y el modelo de regresión Ridge."
   ]
  },
  {
   "cell_type": "code",
   "execution_count": 24,
   "id": "955b763a",
   "metadata": {},
   "outputs": [],
   "source": [
    "pipeline_ridge_vc = Pipeline([\n",
    "    (\"preprocessor\", preprocessor), \n",
    "    (\"ridge\", Ridge(max_iter=3000, tol=0.01, random_state=42))            \n",
    "])\n",
    "\n",
    "kf = KFold(n_splits=5, shuffle=True, random_state=42)"
   ]
  },
  {
   "cell_type": "markdown",
   "id": "1c5c77d6",
   "metadata": {},
   "source": [
    "A continuación se configura una búsqueda de hiperparámetros utilizando `GridSearchCV`, donde se prueban diferentes valores de `alpha`, que es el parámetro de regularización del modelo Ridge. Esta búsqueda se hace mediante validación cruzada para determinar qué valor de `alpha` permite obtener el mejor desempeño según la métrica `R²`, la cual evalúa qué tan bien se ajusta el modelo a los datos.\n"
   ]
  },
  {
   "cell_type": "code",
   "execution_count": 25,
   "id": "fb950d0c",
   "metadata": {},
   "outputs": [],
   "source": [
    "param_grid = {\"ridge__alpha\": [0.1, 1, 10, 100]}\n",
    "ridge_vc = GridSearchCV(\n",
    "    pipeline_ridge,\n",
    "    param_grid,\n",
    "    cv=kf,\n",
    "    scoring=\"r2\",  \n",
    "    n_jobs=-1\n",
    ")"
   ]
  },
  {
   "cell_type": "markdown",
   "id": "13b45df2",
   "metadata": {},
   "source": [
    "Después de realizar la búsqueda, se entrena el modelo utilizando el mejor valor de `alpha` encontrado. Se imprimen los resultados del mejor modelo, incluyendo el valor óptimo de `alpha`, el puntaje de validación cruzada y el coeficiente de determinación `R²` tanto en los datos de entrenamiento como en los de prueba. Esto ayuda a identificar si el modelo generaliza bien o si existe un posible sobreajuste.\n"
   ]
  },
  {
   "cell_type": "code",
   "execution_count": 26,
   "id": "9643c77b",
   "metadata": {},
   "outputs": [
    {
     "name": "stdout",
     "output_type": "stream",
     "text": [
      "Mejor alpha encontrado: {'ridge__alpha': 100}\n",
      "Mejor score CV: 0.5582238352730701\n",
      "R² en entrenamiento: 0.5587669644929232\n",
      "R² en test: 0.5640019403628391\n"
     ]
    }
   ],
   "source": [
    "ridge_vc.fit(X_train, y_train)\n",
    "\n",
    "print(\"Mejor alpha encontrado:\", ridge_vc.best_params_)\n",
    "print(\"Mejor score CV:\", ridge_vc.best_score_)\n",
    "print(\"R² en entrenamiento:\", ridge_vc.score(X_train, y_train))\n",
    "print(\"R² en test:\", ridge_vc.score(X_test, y_test))"
   ]
  },
  {
   "cell_type": "markdown",
   "id": "99ab0c94",
   "metadata": {},
   "source": [
    "El modelo Ridge se ajusta con los datos de entrenamiento y se imprime información clave para evaluar su desempeño. Se muestra el mejor valor del hiperparámetro alpha, que en este caso es 100, y el mejor score promedio obtenido durante la validación cruzada, que es aproximadamente 0.558. También se reportan los valores de R² para los datos de entrenamiento y prueba, que son muy similares (alrededor de 0.56), lo que indica que el modelo generaliza bien y no está sobreajustado. Este nivel de R² sugiere que el modelo explica un poco más de la mitad de la variabilidad en los datos, lo que es aceptable pero indica que podría mejorarse.\n"
   ]
  },
  {
   "cell_type": "markdown",
   "id": "3433863a",
   "metadata": {},
   "source": [
    "Luego, se importan librerías para calcular métricas y manipular datos. Se hacen predicciones con el modelo entrenado tanto sobre el conjunto de entrenamiento como sobre el de prueba. Se calculan tres métricas importantes: MAE, que indica el error promedio absoluto; RMSE, que penaliza errores grandes y refleja la desviación estándar de los errores; y R², que mide qué proporción de la variabilidad en los datos es explicada por el modelo. Estas métricas se organizan en un DataFrame para facilitar la comparación entre entrenamiento y prueba.\n"
   ]
  },
  {
   "cell_type": "code",
   "execution_count": 27,
   "id": "046b6f10",
   "metadata": {},
   "outputs": [
    {
     "name": "stdout",
     "output_type": "stream",
     "text": [
      "                       MAE          RMSE        R2\n",
      "Entrenamiento  6335.125731  10205.275805  0.558767\n",
      "Test           6334.344406  10161.457950  0.564002\n"
     ]
    }
   ],
   "source": [
    "import pandas as pd\n",
    "from sklearn.metrics import mean_absolute_error, mean_squared_error, r2_score\n",
    "import numpy as np\n",
    "\n",
    "# Predicciones\n",
    "y_train_pred = ridge_vc.predict(X_train)\n",
    "y_test_pred = ridge_vc.predict(X_test)\n",
    "\n",
    "# Calcular métricas\n",
    "metrics = {\n",
    "    'MAE': [mean_absolute_error(y_train, y_train_pred),\n",
    "            mean_absolute_error(y_test, y_test_pred)],\n",
    "    'RMSE': [np.sqrt(mean_squared_error(y_train, y_train_pred)),\n",
    "             np.sqrt(mean_squared_error(y_test, y_test_pred))],\n",
    "    'R2': [r2_score(y_train, y_train_pred),\n",
    "           r2_score(y_test, y_test_pred)]\n",
    "}\n",
    "\n",
    "# Crear DataFrame\n",
    "metrics_df = pd.DataFrame(metrics, index=['Entrenamiento', 'Test'])\n",
    "print(metrics_df)"
   ]
  },
  {
   "cell_type": "markdown",
   "id": "697d1c34",
   "metadata": {},
   "source": [
    "Al analizar las métricas, se observa que el MAE y RMSE son muy similares en entrenamiento y prueba, con valores cercanos a 6300 y 10000, respectivamente. Esto sugiere que el modelo tiene un comportamiento consistente y no está sobreajustando los datos. Los valores de R² también se mantienen alrededor de 0.56, confirmando que el modelo tiene una capacidad moderada para explicar la variabilidad de los datos. En resumen, el modelo es estable y generaliza adecuadamente, pero hay espacio para mejorar la precisión del ajuste."
   ]
  },
  {
   "cell_type": "markdown",
   "id": "642aba59",
   "metadata": {},
   "source": [
    "Se genera un gráfico de dispersión que compara los valores reales con los valores predichos por el modelo, tanto para los datos de entrenamiento como para los de prueba. Los puntos azules representan las predicciones sobre el conjunto de entrenamiento, mientras que los rojos corresponden a las predicciones sobre el conjunto de prueba. Se añade además una línea diagonal punteada que representa la predicción perfecta, es decir, cuando el valor predicho es exactamente igual al valor real.\n"
   ]
  },
  {
   "cell_type": "code",
   "execution_count": 28,
   "id": "0756297b",
   "metadata": {},
   "outputs": [
    {
     "data": {
      "image/png": "[encoded data removed]",
      "text/plain": [
       "<Figure size 576x576 with 1 Axes>"
      ]
     },
     "metadata": {
      "needs_background": "light"
     },
     "output_type": "display_data"
    }
   ],
   "source": [
    "plt.figure(figsize=(8, 8))\n",
    "\n",
    "# Gráfico de entrenamiento\n",
    "plt.scatter(y_train, y_train_pred, color='blue', alpha=0.5, label='Entrenamiento')\n",
    "\n",
    "# Gráfico de test\n",
    "plt.scatter(y_test, y_test_pred, color='red', alpha=0.5, label='Test')\n",
    "\n",
    "# Línea diagonal perfecta\n",
    "min_val = min(min(y_train), min(y_test))\n",
    "max_val = max(max(y_train), max(y_test))\n",
    "plt.plot([min_val, max_val], [min_val, max_val], color='black', linestyle='--', label='Predicción perfecta')\n",
    "\n",
    "plt.xlabel(\"Valores reales\")\n",
    "plt.ylabel(\"Valores predichos\")\n",
    "plt.title(\"Valores Predichos vs Valores Reales\")\n",
    "plt.legend()\n",
    "plt.grid(True)\n",
    "plt.show()"
   ]
  },
  {
   "cell_type": "markdown",
   "id": "c0f4c7f8",
   "metadata": {},
   "source": [
    "Al observar el gráfico, se nota que la mayoría de las predicciones se agrupan cerca del eje horizontal, especialmente para valores reales bajos, y se alejan conforme aumentan los valores reales. Esto indica que el modelo tiende a predecir mejor para valores más pequeños, pero pierde precisión en valores más altos, donde las predicciones se dispersan y no siguen la línea de la predicción perfecta. La concentración de puntos cerca del eje también sugiere que el modelo podría estar subestimando algunos valores grandes. En general, el gráfico confirma que el modelo tiene un desempeño moderado y que existe margen para mejorar su capacidad de predicción en los valores más altos."
   ]
  },
  {
   "cell_type": "markdown",
   "id": "911eecbd",
   "metadata": {},
   "source": [
    "### ***1.1.2.2. Modelo de lasso***"
   ]
  },
  {
   "cell_type": "markdown",
   "id": "d501ef30",
   "metadata": {},
   "source": [
    "#### ***1.1.2.2.1. Gridsearch***"
   ]
  },
  {
   "cell_type": "markdown",
   "id": "fab124e6",
   "metadata": {},
   "source": [
    "En este fragmento, se ajusta el conjunto de datos eliminando la columna 'high_demand' y renombrando la variable objetivo como 'price'. Esto prepara los datos para entrenar el modelo con la variable objetivo correcta, ya que se busca predecir el precio de los productos en lugar de su demanda. Luego, se realiza la división de los datos en conjuntos de entrenamiento y prueba, usando el 20% de los datos para la prueba y el resto para el entrenamiento, con una semilla fija para garantizar la reproducibilidad de los resultados.\n"
   ]
  },
  {
   "cell_type": "code",
   "execution_count": 29,
   "id": "6e333da9",
   "metadata": {},
   "outputs": [],
   "source": [
    "X = df.drop([\"price\", \"high_demand\"], axis=1)   \n",
    "y = df[\"price\"]"
   ]
  },
  {
   "cell_type": "code",
   "execution_count": 30,
   "id": "b4efd2f2",
   "metadata": {},
   "outputs": [],
   "source": [
    "X_train, X_test, y_train, y_test = train_test_split(X, y, test_size=0.2, random_state=42)"
   ]
  },
  {
   "cell_type": "markdown",
   "id": "a3ccaf5e",
   "metadata": {},
   "source": [
    "Posteriormente, se identifican las características numéricas y categóricas dentro del conjunto de datos. Las numéricas son aquellas de tipo `int64` y `float64`, mientras que las categóricas incluyen las de tipo `object` y `category`. Esto es necesario para aplicar transformaciones adecuadas a cada tipo de variable durante el preprocesamiento.\n"
   ]
  },
  {
   "cell_type": "code",
   "execution_count": 31,
   "id": "46ce4979",
   "metadata": {},
   "outputs": [],
   "source": [
    "num_features = X.select_dtypes(include=[\"int64\", \"float64\"]).columns\n",
    "cat_features = X.select_dtypes(include=[\"object\", \"category\"]).columns"
   ]
  },
  {
   "cell_type": "markdown",
   "id": "1b3dbf2b",
   "metadata": {},
   "source": [
    "A continuación, se preparan las transformaciones para las características numéricas y categóricas. Para las numéricas, se utiliza un `StandardScaler` para escalarlas y ponerlas en la misma escala, mientras que para las categóricas, se emplea el `OneHotEncoder`, que convierte las categorías en variables binarias. Luego, se agrupan estas transformaciones en un `ColumnTransformer` que aplicará las transformaciones adecuadas a cada tipo de variable en el conjunto de datos.\n"
   ]
  },
  {
   "cell_type": "code",
   "execution_count": 32,
   "id": "9d22fb2a",
   "metadata": {},
   "outputs": [],
   "source": [
    "# Transformador para las numéricas: escalado\n",
    "from sklearn.compose import ColumnTransformer\n",
    "from sklearn.preprocessing import OneHotEncoder\n",
    "\n",
    "\n",
    "num_transformer = StandardScaler()\n",
    "\n",
    "# Transformador para las categóricas: one-hot encoding\n",
    "cat_transformer = OneHotEncoder(handle_unknown=\"ignore\")\n",
    "\n",
    "# Combinar en un ColumnTransformer\n",
    "preprocessor = ColumnTransformer(\n",
    "    transformers=[\n",
    "        (\"num\", num_transformer, num_features),\n",
    "        (\"cat\", cat_transformer, cat_features)\n",
    "    ]\n",
    ")"
   ]
  },
  {
   "cell_type": "markdown",
   "id": "39713f7c",
   "metadata": {},
   "source": [
    "El siguiente paso es crear un pipeline que incluye el preprocesamiento de los datos y la aplicación del modelo Lasso. El pipeline asegura que las transformaciones y el ajuste del modelo se realicen de manera ordenada y consistente, y facilita el entrenamiento y evaluación del modelo. Además, el modelo Lasso se configura con un número máximo de iteraciones y una tolerancia en el proceso de optimización.\n"
   ]
  },
  {
   "cell_type": "code",
   "execution_count": 33,
   "id": "f25c60cc",
   "metadata": {},
   "outputs": [],
   "source": [
    "pipeline_lasso = Pipeline([\n",
    "    (\"preprocessor\", preprocessor),\n",
    "    (\"lasso\", Lasso(max_iter=3000, tol=0.01, random_state=42))\n",
    "])"
   ]
  },
  {
   "cell_type": "markdown",
   "id": "3f894962",
   "metadata": {},
   "source": [
    "Se configura una búsqueda con `GridSearchCV` para encontrar el mejor valor del parámetro `alpha` del modelo Lasso. Este parámetro controla la regularización del modelo, y se prueban varios valores: 0.1, 1, 10 y 100. La validación cruzada (con 5 particiones) y el uso del coeficiente de determinación `R²` como métrica permiten encontrar el valor de `alpha` que mejor optimiza el desempeño del modelo."
   ]
  },
  {
   "cell_type": "code",
   "execution_count": 34,
   "id": "b0c0bf81",
   "metadata": {},
   "outputs": [],
   "source": [
    "param_grid = {\"lasso__alpha\": [ 0.1, 1, 10, 100]}\n",
    "\n",
    "lasso_grid = GridSearchCV(\n",
    "    pipeline_lasso,\n",
    "    param_grid,\n",
    "    cv=5,\n",
    "    scoring=\"r2\",\n",
    "    n_jobs=-1\n",
    ")"
   ]
  },
  {
   "cell_type": "markdown",
   "id": "7ec12fbb",
   "metadata": {},
   "source": [
    "Se imprime la forma original del conjunto de entrenamiento `X_train`, que tiene 311,021 muestras y 16 características. Luego, se aplica el preprocesamiento y escalado (OneHot + StandardScaler) al conjunto de entrenamiento. El resultado es un conjunto de datos transformado con 311,021 muestras y 514 características. Esta transformación es esperada, ya que el proceso de OneHot Encoding para las variables categóricas genera nuevas columnas para cada categoría, lo que aumenta el número de características.\n"
   ]
  },
  {
   "cell_type": "code",
   "execution_count": 35,
   "id": "29cd17fb",
   "metadata": {},
   "outputs": [
    {
     "name": "stdout",
     "output_type": "stream",
     "text": [
      "Shape original de X_train: (311021, 16)\n",
      "Shape después de OneHot + Escalado: (311021, 514)\n"
     ]
    }
   ],
   "source": [
    "print(\"Shape original de X_train:\", X_train.shape)\n",
    "\n",
    "X_train_transformed = pipeline_lasso.named_steps[\"preprocessor\"].fit_transform(X_train)\n",
    "print(\"Shape después de OneHot + Escalado:\", X_train_transformed.shape)"
   ]
  },
  {
   "cell_type": "markdown",
   "id": "cea33ac5",
   "metadata": {},
   "source": [
    "A continuación, se ajusta el modelo Lasso utilizando `GridSearchCV`. "
   ]
  },
  {
   "cell_type": "code",
   "execution_count": 36,
   "id": "d54fc621",
   "metadata": {},
   "outputs": [
    {
     "name": "stdout",
     "output_type": "stream",
     "text": [
      "Mejor alpha encontrado: {'lasso__alpha': 0.1}\n",
      "Mejor score CV: 0.5613681991133682\n",
      "R² en entrenamiento: 0.5625693870457783\n",
      "R² en test: 0.5673326618207271\n"
     ]
    }
   ],
   "source": [
    "lasso_grid.fit(X_train, y_train)\n",
    "\n",
    "print(\"Mejor alpha encontrado:\", lasso_grid.best_params_)\n",
    "print(\"Mejor score CV:\", lasso_grid.best_score_)\n",
    "print(\"R² en entrenamiento:\", lasso_grid.score(X_train, y_train))\n",
    "print(\"R² en test:\", lasso_grid.score(X_test, y_test))"
   ]
  },
  {
   "cell_type": "markdown",
   "id": "d08254b1",
   "metadata": {},
   "source": [
    "Se imprime el mejor valor de `alpha` encontrado, que es 0.1, junto con el puntaje de validación cruzada asociado (aproximadamente 0.563), lo que indica que este valor de `alpha` genera un modelo con un buen rendimiento. También se muestran los valores de R² tanto en el conjunto de entrenamiento como en el de prueba. El modelo tiene un R² en entrenamiento de 0.562 y en prueba de 0.567, lo que indica que el modelo generaliza bastante bien y no tiene sobreajuste, ya que el R² es muy similar en ambos conjuntos.\n"
   ]
  },
  {
   "cell_type": "code",
   "execution_count": 37,
   "id": "c799b6b2",
   "metadata": {},
   "outputs": [
    {
     "name": "stdout",
     "output_type": "stream",
     "text": [
      "                       MAE          RMSE        R2\n",
      "Entrenamiento  6313.494953  10161.207555  0.562569\n",
      "Test           6315.551874  10122.570309  0.567333\n"
     ]
    }
   ],
   "source": [
    "y_train_pred = lasso_grid.predict(X_train)\n",
    "y_test_pred = lasso_grid.predict(X_test)\n",
    "\n",
    "metrics = {\n",
    "    'MAE': [mean_absolute_error(y_train, y_train_pred),\n",
    "            mean_absolute_error(y_test, y_test_pred)],\n",
    "    'RMSE': [np.sqrt(mean_squared_error(y_train, y_train_pred)),\n",
    "             np.sqrt(mean_squared_error(y_test, y_test_pred))],\n",
    "    'R2': [r2_score(y_train, y_train_pred),\n",
    "           r2_score(y_test, y_test_pred)]\n",
    "}\n",
    "\n",
    "metrics_df = pd.DataFrame(metrics, index=['Entrenamiento', 'Test'])\n",
    "print(metrics_df)"
   ]
  },
  {
   "cell_type": "markdown",
   "id": "753a098d",
   "metadata": {},
   "source": [
    "Se generan las predicciones del modelo tanto para el conjunto de entrenamiento como para el de prueba. Los resultados de las métricas muestran que el modelo tiene un MAE y RMSE similares para entrenamiento y prueba, lo cual sugiere que el modelo es consistente en ambos conjuntos. Además, el valor de R² es también cercano entre los conjuntos, confirmando que el modelo no está sobreajustado y tiene un buen desempeño general."
   ]
  },
  {
   "cell_type": "markdown",
   "id": "6e12cb1e",
   "metadata": {},
   "source": [
    "El gráfico generado muestra las predicciones del modelo frente a los valores reales tanto para el conjunto de entrenamiento como para el de prueba. Los puntos azules corresponden a las predicciones sobre el conjunto de entrenamiento, mientras que los puntos rojos representan las predicciones sobre el conjunto de prueba. Además, se dibuja una línea diagonal negra que indica la \"predicción perfecta\", donde los valores predichos coinciden exactamente con los valores reales.\n"
   ]
  },
  {
   "cell_type": "code",
   "execution_count": 38,
   "id": "5030e683",
   "metadata": {},
   "outputs": [
    {
     "data": {
      "image/png": "[encoded data removed]",
      "text/plain": [
       "<Figure size 576x576 with 1 Axes>"
      ]
     },
     "metadata": {
      "needs_background": "light"
     },
     "output_type": "display_data"
    }
   ],
   "source": [
    "plt.figure(figsize=(8, 8))\n",
    "\n",
    "# Gráfico de entrenamiento\n",
    "plt.scatter(y_train, y_train_pred, color='blue', alpha=0.5, label='Entrenamiento')\n",
    "\n",
    "# Gráfico de test\n",
    "plt.scatter(y_test, y_test_pred, color='red', alpha=0.5, label='Test')\n",
    "\n",
    "# Línea diagonal perfecta\n",
    "min_val = min(min(y_train), min(y_test))\n",
    "max_val = max(max(y_train), max(y_test))\n",
    "plt.plot([min_val, max_val], [min_val, max_val], color='black', linestyle='--', label='Predicción perfecta')\n",
    "\n",
    "plt.xlabel(\"Valores reales\")\n",
    "plt.ylabel(\"Valores predichos\")\n",
    "plt.title(\"Valores Predichos vs Valores Reales\")\n",
    "plt.legend()\n",
    "plt.grid(True)\n",
    "plt.show()"
   ]
  },
  {
   "cell_type": "markdown",
   "id": "3a205b6f",
   "metadata": {},
   "source": [
    "Al observar el gráfico, se puede notar que los puntos están más concentrados cerca del eje horizontal, lo que sugiere que el modelo predice mejor para los valores más bajos de la variable objetivo. Para los valores más altos, las predicciones se dispersan más y no siguen de cerca la línea de predicción perfecta. Esto es un indicio de que el modelo tiene más dificultades para predecir correctamente los valores altos, lo cual es una limitación importante que podría mejorarse. Además, la dispersión en el conjunto de prueba (puntos rojos) es un poco mayor que en el conjunto de entrenamiento (puntos azules), lo que podría señalar que el modelo no es tan preciso en general para nuevos datos, aunque sigue mostrando un rendimiento relativamente bueno en general.\n"
   ]
  },
  {
   "cell_type": "markdown",
   "id": "335a259b",
   "metadata": {},
   "source": [
    "### ***1.1.2.2.2. Validación cruzada estratificada***"
   ]
  },
  {
   "cell_type": "markdown",
   "id": "8e5d2216",
   "metadata": {},
   "source": [
    "Inicialmente se repite el mismo procedimiento como los modelos anteriores."
   ]
  },
  {
   "cell_type": "code",
   "execution_count": null,
   "id": "7c10cf96",
   "metadata": {},
   "outputs": [],
   "source": [
    "X = df.drop([\"price\", \"high_demand\"], axis=1)   \n",
    "y = df[\"price\"]"
   ]
  },
  {
   "cell_type": "code",
   "execution_count": 40,
   "id": "3cd6a267",
   "metadata": {},
   "outputs": [],
   "source": [
    "X_train, X_test, y_train, y_test = train_test_split(X, y, test_size=0.2, random_state=42)"
   ]
  },
  {
   "cell_type": "code",
   "execution_count": 41,
   "id": "c52eaef6",
   "metadata": {},
   "outputs": [],
   "source": [
    "num_features = X.select_dtypes(include=[\"int64\", \"float64\"]).columns\n",
    "cat_features = X.select_dtypes(include=[\"object\", \"category\"]).columns"
   ]
  },
  {
   "cell_type": "code",
   "execution_count": 42,
   "id": "9b8a7484",
   "metadata": {},
   "outputs": [],
   "source": [
    "# Transformador para las numéricas: escalado\n",
    "from sklearn.compose import ColumnTransformer\n",
    "from sklearn.preprocessing import OneHotEncoder\n",
    "\n",
    "\n",
    "num_transformer = StandardScaler()\n",
    "\n",
    "# Transformador para las categóricas: one-hot encoding\n",
    "cat_transformer = OneHotEncoder(handle_unknown=\"ignore\")\n",
    "\n",
    "# Combinar en un ColumnTransformer\n",
    "preprocessor = ColumnTransformer(\n",
    "    transformers=[\n",
    "        (\"num\", num_transformer, num_features),\n",
    "        (\"cat\", cat_transformer, cat_features)\n",
    "    ]\n",
    ")"
   ]
  },
  {
   "cell_type": "markdown",
   "id": "5b393221",
   "metadata": {},
   "source": [
    "En esta celda se crea un pipeline para el modelo Lasso, que incluye el preprocesamiento de los datos y la regresión Lasso con parámetros específicos como el número máximo de iteraciones y la tolerancia. Además, se define una validación cruzada utilizando la técnica KFold con 5 particiones para evaluar el modelo de manera más robusta. Se configura también una búsqueda en malla (`GridSearchCV`) para probar diferentes valores del parámetro `alpha` de Lasso (0.1, 1, 10, 100) y se utiliza la métrica `R²` para seleccionar el mejor modelo.\n"
   ]
  },
  {
   "cell_type": "code",
   "execution_count": 43,
   "id": "548a1eeb",
   "metadata": {},
   "outputs": [],
   "source": [
    "pipeline_lasso_vc = Pipeline([\n",
    "    (\"preprocessor\", preprocessor),\n",
    "    (\"lasso\", Lasso(max_iter=3000, tol=0.01, random_state=42))\n",
    "])\n",
    "\n",
    "# Definir KFold\n",
    "kf = KFold(n_splits=5, shuffle=True, random_state=42)"
   ]
  },
  {
   "cell_type": "code",
   "execution_count": 44,
   "id": "58b1b44b",
   "metadata": {},
   "outputs": [],
   "source": [
    "param_grid = {\"lasso__alpha\": [ 0.1, 1, 10, 100]}\n",
    "\n",
    "lasso_vc = GridSearchCV(\n",
    "    pipeline_lasso_vc,\n",
    "    param_grid,\n",
    "    cv=kf,\n",
    "    scoring=\"r2\",\n",
    "    n_jobs=-1\n",
    ")"
   ]
  },
  {
   "cell_type": "code",
   "execution_count": 45,
   "id": "fe58e90c",
   "metadata": {},
   "outputs": [
    {
     "name": "stdout",
     "output_type": "stream",
     "text": [
      "Mejor alpha encontrado: {'lasso__alpha': 0.1}\n",
      "Mejor score CV: 0.5612215608649432\n",
      "R² en entrenamiento: 0.5625693870457783\n",
      "R² en test: 0.5673326618207271\n"
     ]
    }
   ],
   "source": [
    "lasso_vc.fit(X_train, y_train)\n",
    "\n",
    "print(\"Mejor alpha encontrado:\", lasso_vc.best_params_)\n",
    "print(\"Mejor score CV:\", lasso_vc.best_score_)\n",
    "print(\"R² en entrenamiento:\", lasso_vc.score(X_train, y_train))\n",
    "print(\"R² en test:\", lasso_vc.score(X_test, y_test))"
   ]
  },
  {
   "cell_type": "markdown",
   "id": "d6d5cc90",
   "metadata": {},
   "source": [
    "En el modelo Lasso se ajusta usando los mejores parámetros encontrados durante la búsqueda en malla. Se muestra el mejor valor de `alpha` (0.1), junto con el mejor puntaje de validación cruzada, que es aproximadamente 0.563. Luego se imprime el rendimiento del modelo en los datos de entrenamiento y prueba, con un `R²` de 0.562 en entrenamiento y 0.567 en prueba. Estos valores son bastante cercanos, lo que indica que el modelo generaliza bien sin sobreajustarse, y que es capaz de explicar alrededor del 56% de la variabilidad en los datos de prueba. Esto sugiere que el modelo tiene un buen desempeño, pero aún hay espacio para mejorar, especialmente en la predicción de valores más altos."
   ]
  },
  {
   "cell_type": "code",
   "execution_count": 46,
   "id": "f24ba468",
   "metadata": {},
   "outputs": [
    {
     "name": "stdout",
     "output_type": "stream",
     "text": [
      "                       MAE          RMSE        R2\n",
      "Entrenamiento  6313.494953  10161.207555  0.562569\n",
      "Test           6315.551874  10122.570309  0.567333\n"
     ]
    }
   ],
   "source": [
    "from sklearn.metrics import mean_absolute_error, mean_squared_error, r2_score\n",
    "\n",
    "y_train_pred = lasso_vc.predict(X_train)\n",
    "y_test_pred = lasso_vc.predict(X_test)\n",
    "\n",
    "metrics = {\n",
    "    'MAE': [mean_absolute_error(y_train, y_train_pred),\n",
    "            mean_absolute_error(y_test, y_test_pred)],\n",
    "    'RMSE': [np.sqrt(mean_squared_error(y_train, y_train_pred)),\n",
    "             np.sqrt(mean_squared_error(y_test, y_test_pred))],\n",
    "    'R2': [r2_score(y_train, y_train_pred),\n",
    "           r2_score(y_test, y_test_pred)]\n",
    "}\n",
    "\n",
    "metrics_df = pd.DataFrame(metrics, index=['Entrenamiento', 'Test'])\n",
    "print(metrics_df)"
   ]
  },
  {
   "cell_type": "markdown",
   "id": "31236c54",
   "metadata": {},
   "source": [
    "Se calculan varias métricas de desempeño para evaluar cómo se comporta el modelo Lasso. Se obtiene el MAE (Error Absoluto Medio) y el RMSE (Raíz del Error Cuadrático Medio) tanto en el conjunto de entrenamiento como en el de prueba, lo que permite analizar el error promedio y el impacto de los errores grandes. Además, se calcula el `R²`, que mide la proporción de la variabilidad de los datos que el modelo es capaz de explicar. Los resultados muestran que el MAE y el RMSE son similares tanto en entrenamiento como en prueba, lo que sugiere que el modelo es consistente en ambos conjuntos. El valor de `R²` está alrededor de 0.56, lo que indica que el modelo explica un poco más de la mitad de la variabilidad en los datos, lo cual es un buen comienzo, pero aún tiene espacio para mejorar.\n"
   ]
  },
  {
   "cell_type": "code",
   "execution_count": 47,
   "id": "3c3296c4",
   "metadata": {},
   "outputs": [
    {
     "data": {
      "image/png": "[encoded data removed]",
      "text/plain": [
       "<Figure size 576x576 with 1 Axes>"
      ]
     },
     "metadata": {
      "needs_background": "light"
     },
     "output_type": "display_data"
    }
   ],
   "source": [
    "plt.figure(figsize=(8, 8))\n",
    "\n",
    "# Gráfico de entrenamiento\n",
    "plt.scatter(y_train, y_train_pred, color='blue', alpha=0.5, label='Entrenamiento')\n",
    "\n",
    "# Gráfico de test\n",
    "plt.scatter(y_test, y_test_pred, color='red', alpha=0.5, label='Test')\n",
    "\n",
    "# Línea diagonal perfecta\n",
    "min_val = min(min(y_train), min(y_test))\n",
    "max_val = max(max(y_train), max(y_test))\n",
    "plt.plot([min_val, max_val], [min_val, max_val], color='black', linestyle='--', label='Predicción perfecta')\n",
    "\n",
    "plt.xlabel(\"Valores reales\")\n",
    "plt.ylabel(\"Valores predichos\")\n",
    "plt.title(\"Valores Predichos vs Valores Reales\")\n",
    "plt.legend()\n",
    "plt.grid(True)\n",
    "plt.show()"
   ]
  },
  {
   "cell_type": "markdown",
   "id": "81ba68f1",
   "metadata": {},
   "source": [
    "En el gráfico, se puede observar que la mayoría de las predicciones, tanto en el conjunto de entrenamiento como en el de prueba, están bastante dispersas alrededor de la línea de predicción perfecta, especialmente para valores más bajos. Sin embargo, para valores más altos, las predicciones tienden a alejarse más de la línea, lo que sugiere que el modelo tiene más dificultades para predecir correctamente los valores más altos. Esta dispersión más notoria en el conjunto de prueba (puntos rojos) indica que el modelo no es perfecto y podría mejorar su capacidad de generalización. En general, el gráfico muestra un modelo que se comporta razonablemente bien, pero con margen para afinar su precisión, especialmente en los valores más altos de la variable objetivo."
   ]
  },
  {
   "cell_type": "markdown",
   "id": "711838f2",
   "metadata": {},
   "source": [
    "### ***1.2. Modelo de clasificación de la variable `high_demand`***"
   ]
  },
  {
   "cell_type": "markdown",
   "id": "f67ddc33",
   "metadata": {},
   "source": [
    "### ***1.2.1. Modelo de regresión logística***"
   ]
  },
  {
   "cell_type": "code",
   "execution_count": 48,
   "id": "aac0d041",
   "metadata": {},
   "outputs": [],
   "source": [
    "from sklearn.metrics import confusion_matrix, accuracy_score, precision_score, recall_score, f1_score\n",
    "from sklearn.metrics import roc_curve, roc_auc_score"
   ]
  },
  {
   "cell_type": "markdown",
   "id": "dc0cd6dc",
   "metadata": {},
   "source": [
    "### ***1.2.1.1. Sin regularización:***"
   ]
  },
  {
   "cell_type": "markdown",
   "id": "9041c43b",
   "metadata": {},
   "source": [
    "#### ***1.2.1.1.1. Modelo de regresión logística simple***"
   ]
  },
  {
   "cell_type": "markdown",
   "id": "72f651a4",
   "metadata": {},
   "source": [
    "Se realiza el mismo procedimiento anterior de los modelos."
   ]
  },
  {
   "cell_type": "code",
   "execution_count": 49,
   "id": "167ec2d0",
   "metadata": {},
   "outputs": [],
   "source": [
    "X = df.drop([\"high_demand\", \"price\"], axis=1)   \n",
    "y = df[\"high_demand\"]"
   ]
  },
  {
   "cell_type": "code",
   "execution_count": 50,
   "id": "055f6262",
   "metadata": {},
   "outputs": [],
   "source": [
    "X_train, X_test, y_train, y_test = train_test_split(X, y, test_size=0.2, random_state=42)"
   ]
  },
  {
   "cell_type": "code",
   "execution_count": 51,
   "id": "bbeebbe4",
   "metadata": {},
   "outputs": [],
   "source": [
    "num_features = X.select_dtypes(include=[\"int64\", \"float64\"]).columns\n",
    "cat_features = X.select_dtypes(include=[\"object\", \"category\"]).columns"
   ]
  },
  {
   "cell_type": "code",
   "execution_count": 52,
   "id": "65ee21c5",
   "metadata": {},
   "outputs": [],
   "source": [
    "from sklearn.linear_model import LogisticRegression\n",
    "\n",
    "log_clf = LogisticRegression(\n",
    "    penalty=None,     # sin regularización\n",
    "    solver=\"lbfgs\",   # recomendado para datasets pequeños/medianos\n",
    "    max_iter=3000,    # por si tarda en converger\n",
    "    random_state=42\n",
    ")"
   ]
  },
  {
   "cell_type": "code",
   "execution_count": 53,
   "id": "eaed251e",
   "metadata": {},
   "outputs": [],
   "source": [
    "num_transformer = StandardScaler()\n",
    "\n",
    "# Transformador para las categóricas: one-hot encoding\n",
    "cat_transformer = OneHotEncoder(handle_unknown=\"ignore\")\n",
    "\n",
    "# Combinar en un ColumnTransformer\n",
    "preprocessor = ColumnTransformer(\n",
    "    transformers=[\n",
    "        (\"num\", num_transformer, num_features),\n",
    "        (\"cat\", cat_transformer, cat_features)\n",
    "    ]\n",
    ")"
   ]
  },
  {
   "cell_type": "code",
   "execution_count": 54,
   "id": "09e15faa",
   "metadata": {},
   "outputs": [],
   "source": [
    "pipeline_logistico__simple = Pipeline([\n",
    "    (\"preprocessor\", preprocessor),             \n",
    "    ('logreg', LogisticRegression())          \n",
    "])"
   ]
  },
  {
   "cell_type": "markdown",
   "id": "a5e3de62",
   "metadata": {},
   "source": [
    "Se entrena el modelo de regresión logística utilizando el pipeline definido anteriormente. El modelo realiza el preprocesamiento de los datos (escalado de las variables numéricas y codificación OneHot de las variables categóricas), seguido del ajuste del modelo de regresión logística. "
   ]
  },
  {
   "cell_type": "code",
   "execution_count": 55,
   "id": "1544951f",
   "metadata": {},
   "outputs": [
    {
     "name": "stderr",
     "output_type": "stream",
     "text": [
      "c:\\Users\\Janus\\miniconda3\\envs\\ml_venv\\lib\\site-packages\\sklearn\\linear_model\\_logistic.py:465: ConvergenceWarning: lbfgs failed to converge (status=1):\n",
      "STOP: TOTAL NO. of ITERATIONS REACHED LIMIT.\n",
      "\n",
      "Increase the number of iterations (max_iter) or scale the data as shown in:\n",
      "    https://scikit-learn.org/stable/modules/preprocessing.html\n",
      "Please also refer to the documentation for alternative solver options:\n",
      "    https://scikit-learn.org/stable/modules/linear_model.html#logistic-regression\n",
      "  n_iter_i = _check_optimize_result(\n"
     ]
    },
    {
     "data": {
      "text/html": [
       "<style>#sk-container-id-1 {\n",
       "  /* Definition of color scheme common for light and dark mode */\n",
       "  --sklearn-color-text: #000;\n",
       "  --sklearn-color-text-muted: #666;\n",
       "  --sklearn-color-line: gray;\n",
       "  /* Definition of color scheme for unfitted estimators */\n",
       "  --sklearn-color-unfitted-level-0: #fff5e6;\n",
       "  --sklearn-color-unfitted-level-1: #f6e4d2;\n",
       "  --sklearn-color-unfitted-level-2: #ffe0b3;\n",
       "  --sklearn-color-unfitted-level-3: chocolate;\n",
       "  /* Definition of color scheme for fitted estimators */\n",
       "  --sklearn-color-fitted-level-0: #f0f8ff;\n",
       "  --sklearn-color-fitted-level-1: #d4ebff;\n",
       "  --sklearn-color-fitted-level-2: #b3dbfd;\n",
       "  --sklearn-color-fitted-level-3: cornflowerblue;\n",
       "\n",
       "  /* Specific color for light theme */\n",
       "  --sklearn-color-text-on-default-background: var(--sg-text-color, var(--theme-code-foreground, var(--jp-content-font-color1, black)));\n",
       "  --sklearn-color-background: var(--sg-background-color, var(--theme-background, var(--jp-layout-color0, white)));\n",
       "  --sklearn-color-border-box: var(--sg-text-color, var(--theme-code-foreground, var(--jp-content-font-color1, black)));\n",
       "  --sklearn-color-icon: #696969;\n",
       "\n",
       "  @media (prefers-color-scheme: dark) {\n",
       "    /* Redefinition of color scheme for dark theme */\n",
       "    --sklearn-color-text-on-default-background: var(--sg-text-color, var(--theme-code-foreground, var(--jp-content-font-color1, white)));\n",
       "    --sklearn-color-background: var(--sg-background-color, var(--theme-background, var(--jp-layout-color0, #111)));\n",
       "    --sklearn-color-border-box: var(--sg-text-color, var(--theme-code-foreground, var(--jp-content-font-color1, white)));\n",
       "    --sklearn-color-icon: #878787;\n",
       "  }\n",
       "}\n",
       "\n",
       "#sk-container-id-1 {\n",
       "  color: var(--sklearn-color-text);\n",
       "}\n",
       "\n",
       "#sk-container-id-1 pre {\n",
       "  padding: 0;\n",
       "}\n",
       "\n",
       "#sk-container-id-1 input.sk-hidden--visually {\n",
       "  border: 0;\n",
       "  clip: rect(1px 1px 1px 1px);\n",
       "  clip: rect(1px, 1px, 1px, 1px);\n",
       "  height: 1px;\n",
       "  margin: -1px;\n",
       "  overflow: hidden;\n",
       "  padding: 0;\n",
       "  position: absolute;\n",
       "  width: 1px;\n",
       "}\n",
       "\n",
       "#sk-container-id-1 div.sk-dashed-wrapped {\n",
       "  border: 1px dashed var(--sklearn-color-line);\n",
       "  margin: 0 0.4em 0.5em 0.4em;\n",
       "  box-sizing: border-box;\n",
       "  padding-bottom: 0.4em;\n",
       "  background-color: var(--sklearn-color-background);\n",
       "}\n",
       "\n",
       "#sk-container-id-1 div.sk-container {\n",
       "  /* jupyter's `normalize.less` sets `[hidden] { display: none; }`\n",
       "     but bootstrap.min.css set `[hidden] { display: none !important; }`\n",
       "     so we also need the `!important` here to be able to override the\n",
       "     default hidden behavior on the sphinx rendered scikit-learn.org.\n",
       "     See: https://github.com/scikit-learn/scikit-learn/issues/21755 */\n",
       "  display: inline-block !important;\n",
       "  position: relative;\n",
       "}\n",
       "\n",
       "#sk-container-id-1 div.sk-text-repr-fallback {\n",
       "  display: none;\n",
       "}\n",
       "\n",
       "div.sk-parallel-item,\n",
       "div.sk-serial,\n",
       "div.sk-item {\n",
       "  /* draw centered vertical line to link estimators */\n",
       "  background-image: linear-gradient(var(--sklearn-color-text-on-default-background), var(--sklearn-color-text-on-default-background));\n",
       "  background-size: 2px 100%;\n",
       "  background-repeat: no-repeat;\n",
       "  background-position: center center;\n",
       "}\n",
       "\n",
       "/* Parallel-specific style estimator block */\n",
       "\n",
       "#sk-container-id-1 div.sk-parallel-item::after {\n",
       "  content: \"\";\n",
       "  width: 100%;\n",
       "  border-bottom: 2px solid var(--sklearn-color-text-on-default-background);\n",
       "  flex-grow: 1;\n",
       "}\n",
       "\n",
       "#sk-container-id-1 div.sk-parallel {\n",
       "  display: flex;\n",
       "  align-items: stretch;\n",
       "  justify-content: center;\n",
       "  background-color: var(--sklearn-color-background);\n",
       "  position: relative;\n",
       "}\n",
       "\n",
       "#sk-container-id-1 div.sk-parallel-item {\n",
       "  display: flex;\n",
       "  flex-direction: column;\n",
       "}\n",
       "\n",
       "#sk-container-id-1 div.sk-parallel-item:first-child::after {\n",
       "  align-self: flex-end;\n",
       "  width: 50%;\n",
       "}\n",
       "\n",
       "#sk-container-id-1 div.sk-parallel-item:last-child::after {\n",
       "  align-self: flex-start;\n",
       "  width: 50%;\n",
       "}\n",
       "\n",
       "#sk-container-id-1 div.sk-parallel-item:only-child::after {\n",
       "  width: 0;\n",
       "}\n",
       "\n",
       "/* Serial-specific style estimator block */\n",
       "\n",
       "#sk-container-id-1 div.sk-serial {\n",
       "  display: flex;\n",
       "  flex-direction: column;\n",
       "  align-items: center;\n",
       "  background-color: var(--sklearn-color-background);\n",
       "  padding-right: 1em;\n",
       "  padding-left: 1em;\n",
       "}\n",
       "\n",
       "\n",
       "/* Toggleable style: style used for estimator/Pipeline/ColumnTransformer box that is\n",
       "clickable and can be expanded/collapsed.\n",
       "- Pipeline and ColumnTransformer use this feature and define the default style\n",
       "- Estimators will overwrite some part of the style using the `sk-estimator` class\n",
       "*/\n",
       "\n",
       "/* Pipeline and ColumnTransformer style (default) */\n",
       "\n",
       "#sk-container-id-1 div.sk-toggleable {\n",
       "  /* Default theme specific background. It is overwritten whether we have a\n",
       "  specific estimator or a Pipeline/ColumnTransformer */\n",
       "  background-color: var(--sklearn-color-background);\n",
       "}\n",
       "\n",
       "/* Toggleable label */\n",
       "#sk-container-id-1 label.sk-toggleable__label {\n",
       "  cursor: pointer;\n",
       "  display: flex;\n",
       "  width: 100%;\n",
       "  margin-bottom: 0;\n",
       "  padding: 0.5em;\n",
       "  box-sizing: border-box;\n",
       "  text-align: center;\n",
       "  align-items: start;\n",
       "  justify-content: space-between;\n",
       "  gap: 0.5em;\n",
       "}\n",
       "\n",
       "#sk-container-id-1 label.sk-toggleable__label .caption {\n",
       "  font-size: 0.6rem;\n",
       "  font-weight: lighter;\n",
       "  color: var(--sklearn-color-text-muted);\n",
       "}\n",
       "\n",
       "#sk-container-id-1 label.sk-toggleable__label-arrow:before {\n",
       "  /* Arrow on the left of the label */\n",
       "  content: \"▸\";\n",
       "  float: left;\n",
       "  margin-right: 0.25em;\n",
       "  color: var(--sklearn-color-icon);\n",
       "}\n",
       "\n",
       "#sk-container-id-1 label.sk-toggleable__label-arrow:hover:before {\n",
       "  color: var(--sklearn-color-text);\n",
       "}\n",
       "\n",
       "/* Toggleable content - dropdown */\n",
       "\n",
       "#sk-container-id-1 div.sk-toggleable__content {\n",
       "  max-height: 0;\n",
       "  max-width: 0;\n",
       "  overflow: hidden;\n",
       "  text-align: left;\n",
       "  /* unfitted */\n",
       "  background-color: var(--sklearn-color-unfitted-level-0);\n",
       "}\n",
       "\n",
       "#sk-container-id-1 div.sk-toggleable__content.fitted {\n",
       "  /* fitted */\n",
       "  background-color: var(--sklearn-color-fitted-level-0);\n",
       "}\n",
       "\n",
       "#sk-container-id-1 div.sk-toggleable__content pre {\n",
       "  margin: 0.2em;\n",
       "  border-radius: 0.25em;\n",
       "  color: var(--sklearn-color-text);\n",
       "  /* unfitted */\n",
       "  background-color: var(--sklearn-color-unfitted-level-0);\n",
       "}\n",
       "\n",
       "#sk-container-id-1 div.sk-toggleable__content.fitted pre {\n",
       "  /* unfitted */\n",
       "  background-color: var(--sklearn-color-fitted-level-0);\n",
       "}\n",
       "\n",
       "#sk-container-id-1 input.sk-toggleable__control:checked~div.sk-toggleable__content {\n",
       "  /* Expand drop-down */\n",
       "  max-height: 200px;\n",
       "  max-width: 100%;\n",
       "  overflow: auto;\n",
       "}\n",
       "\n",
       "#sk-container-id-1 input.sk-toggleable__control:checked~label.sk-toggleable__label-arrow:before {\n",
       "  content: \"▾\";\n",
       "}\n",
       "\n",
       "/* Pipeline/ColumnTransformer-specific style */\n",
       "\n",
       "#sk-container-id-1 div.sk-label input.sk-toggleable__control:checked~label.sk-toggleable__label {\n",
       "  color: var(--sklearn-color-text);\n",
       "  background-color: var(--sklearn-color-unfitted-level-2);\n",
       "}\n",
       "\n",
       "#sk-container-id-1 div.sk-label.fitted input.sk-toggleable__control:checked~label.sk-toggleable__label {\n",
       "  background-color: var(--sklearn-color-fitted-level-2);\n",
       "}\n",
       "\n",
       "/* Estimator-specific style */\n",
       "\n",
       "/* Colorize estimator box */\n",
       "#sk-container-id-1 div.sk-estimator input.sk-toggleable__control:checked~label.sk-toggleable__label {\n",
       "  /* unfitted */\n",
       "  background-color: var(--sklearn-color-unfitted-level-2);\n",
       "}\n",
       "\n",
       "#sk-container-id-1 div.sk-estimator.fitted input.sk-toggleable__control:checked~label.sk-toggleable__label {\n",
       "  /* fitted */\n",
       "  background-color: var(--sklearn-color-fitted-level-2);\n",
       "}\n",
       "\n",
       "#sk-container-id-1 div.sk-label label.sk-toggleable__label,\n",
       "#sk-container-id-1 div.sk-label label {\n",
       "  /* The background is the default theme color */\n",
       "  color: var(--sklearn-color-text-on-default-background);\n",
       "}\n",
       "\n",
       "/* On hover, darken the color of the background */\n",
       "#sk-container-id-1 div.sk-label:hover label.sk-toggleable__label {\n",
       "  color: var(--sklearn-color-text);\n",
       "  background-color: var(--sklearn-color-unfitted-level-2);\n",
       "}\n",
       "\n",
       "/* Label box, darken color on hover, fitted */\n",
       "#sk-container-id-1 div.sk-label.fitted:hover label.sk-toggleable__label.fitted {\n",
       "  color: var(--sklearn-color-text);\n",
       "  background-color: var(--sklearn-color-fitted-level-2);\n",
       "}\n",
       "\n",
       "/* Estimator label */\n",
       "\n",
       "#sk-container-id-1 div.sk-label label {\n",
       "  font-family: monospace;\n",
       "  font-weight: bold;\n",
       "  display: inline-block;\n",
       "  line-height: 1.2em;\n",
       "}\n",
       "\n",
       "#sk-container-id-1 div.sk-label-container {\n",
       "  text-align: center;\n",
       "}\n",
       "\n",
       "/* Estimator-specific */\n",
       "#sk-container-id-1 div.sk-estimator {\n",
       "  font-family: monospace;\n",
       "  border: 1px dotted var(--sklearn-color-border-box);\n",
       "  border-radius: 0.25em;\n",
       "  box-sizing: border-box;\n",
       "  margin-bottom: 0.5em;\n",
       "  /* unfitted */\n",
       "  background-color: var(--sklearn-color-unfitted-level-0);\n",
       "}\n",
       "\n",
       "#sk-container-id-1 div.sk-estimator.fitted {\n",
       "  /* fitted */\n",
       "  background-color: var(--sklearn-color-fitted-level-0);\n",
       "}\n",
       "\n",
       "/* on hover */\n",
       "#sk-container-id-1 div.sk-estimator:hover {\n",
       "  /* unfitted */\n",
       "  background-color: var(--sklearn-color-unfitted-level-2);\n",
       "}\n",
       "\n",
       "#sk-container-id-1 div.sk-estimator.fitted:hover {\n",
       "  /* fitted */\n",
       "  background-color: var(--sklearn-color-fitted-level-2);\n",
       "}\n",
       "\n",
       "/* Specification for estimator info (e.g. \"i\" and \"?\") */\n",
       "\n",
       "/* Common style for \"i\" and \"?\" */\n",
       "\n",
       ".sk-estimator-doc-link,\n",
       "a:link.sk-estimator-doc-link,\n",
       "a:visited.sk-estimator-doc-link {\n",
       "  float: right;\n",
       "  font-size: smaller;\n",
       "  line-height: 1em;\n",
       "  font-family: monospace;\n",
       "  background-color: var(--sklearn-color-background);\n",
       "  border-radius: 1em;\n",
       "  height: 1em;\n",
       "  width: 1em;\n",
       "  text-decoration: none !important;\n",
       "  margin-left: 0.5em;\n",
       "  text-align: center;\n",
       "  /* unfitted */\n",
       "  border: var(--sklearn-color-unfitted-level-1) 1pt solid;\n",
       "  color: var(--sklearn-color-unfitted-level-1);\n",
       "}\n",
       "\n",
       ".sk-estimator-doc-link.fitted,\n",
       "a:link.sk-estimator-doc-link.fitted,\n",
       "a:visited.sk-estimator-doc-link.fitted {\n",
       "  /* fitted */\n",
       "  border: var(--sklearn-color-fitted-level-1) 1pt solid;\n",
       "  color: var(--sklearn-color-fitted-level-1);\n",
       "}\n",
       "\n",
       "/* On hover */\n",
       "div.sk-estimator:hover .sk-estimator-doc-link:hover,\n",
       ".sk-estimator-doc-link:hover,\n",
       "div.sk-label-container:hover .sk-estimator-doc-link:hover,\n",
       ".sk-estimator-doc-link:hover {\n",
       "  /* unfitted */\n",
       "  background-color: var(--sklearn-color-unfitted-level-3);\n",
       "  color: var(--sklearn-color-background);\n",
       "  text-decoration: none;\n",
       "}\n",
       "\n",
       "div.sk-estimator.fitted:hover .sk-estimator-doc-link.fitted:hover,\n",
       ".sk-estimator-doc-link.fitted:hover,\n",
       "div.sk-label-container:hover .sk-estimator-doc-link.fitted:hover,\n",
       ".sk-estimator-doc-link.fitted:hover {\n",
       "  /* fitted */\n",
       "  background-color: var(--sklearn-color-fitted-level-3);\n",
       "  color: var(--sklearn-color-background);\n",
       "  text-decoration: none;\n",
       "}\n",
       "\n",
       "/* Span, style for the box shown on hovering the info icon */\n",
       ".sk-estimator-doc-link span {\n",
       "  display: none;\n",
       "  z-index: 9999;\n",
       "  position: relative;\n",
       "  font-weight: normal;\n",
       "  right: .2ex;\n",
       "  padding: .5ex;\n",
       "  margin: .5ex;\n",
       "  width: min-content;\n",
       "  min-width: 20ex;\n",
       "  max-width: 50ex;\n",
       "  color: var(--sklearn-color-text);\n",
       "  box-shadow: 2pt 2pt 4pt #999;\n",
       "  /* unfitted */\n",
       "  background: var(--sklearn-color-unfitted-level-0);\n",
       "  border: .5pt solid var(--sklearn-color-unfitted-level-3);\n",
       "}\n",
       "\n",
       ".sk-estimator-doc-link.fitted span {\n",
       "  /* fitted */\n",
       "  background: var(--sklearn-color-fitted-level-0);\n",
       "  border: var(--sklearn-color-fitted-level-3);\n",
       "}\n",
       "\n",
       ".sk-estimator-doc-link:hover span {\n",
       "  display: block;\n",
       "}\n",
       "\n",
       "/* \"?\"-specific style due to the `<a>` HTML tag */\n",
       "\n",
       "#sk-container-id-1 a.estimator_doc_link {\n",
       "  float: right;\n",
       "  font-size: 1rem;\n",
       "  line-height: 1em;\n",
       "  font-family: monospace;\n",
       "  background-color: var(--sklearn-color-background);\n",
       "  border-radius: 1rem;\n",
       "  height: 1rem;\n",
       "  width: 1rem;\n",
       "  text-decoration: none;\n",
       "  /* unfitted */\n",
       "  color: var(--sklearn-color-unfitted-level-1);\n",
       "  border: var(--sklearn-color-unfitted-level-1) 1pt solid;\n",
       "}\n",
       "\n",
       "#sk-container-id-1 a.estimator_doc_link.fitted {\n",
       "  /* fitted */\n",
       "  border: var(--sklearn-color-fitted-level-1) 1pt solid;\n",
       "  color: var(--sklearn-color-fitted-level-1);\n",
       "}\n",
       "\n",
       "/* On hover */\n",
       "#sk-container-id-1 a.estimator_doc_link:hover {\n",
       "  /* unfitted */\n",
       "  background-color: var(--sklearn-color-unfitted-level-3);\n",
       "  color: var(--sklearn-color-background);\n",
       "  text-decoration: none;\n",
       "}\n",
       "\n",
       "#sk-container-id-1 a.estimator_doc_link.fitted:hover {\n",
       "  /* fitted */\n",
       "  background-color: var(--sklearn-color-fitted-level-3);\n",
       "}\n",
       "</style><div id=\"sk-container-id-1\" class=\"sk-top-container\"><div class=\"sk-text-repr-fallback\"><pre>Pipeline(steps=[(&#x27;preprocessor&#x27;,\n",
       "                 ColumnTransformer(transformers=[(&#x27;num&#x27;, StandardScaler(),\n",
       "                                                  Index([&#x27;year&#x27;, &#x27;cylinders&#x27;, &#x27;odometer&#x27;, &#x27;lat&#x27;, &#x27;long&#x27;], dtype=&#x27;object&#x27;)),\n",
       "                                                 (&#x27;cat&#x27;,\n",
       "                                                  OneHotEncoder(handle_unknown=&#x27;ignore&#x27;),\n",
       "                                                  Index([&#x27;region&#x27;, &#x27;manufacturer&#x27;, &#x27;model&#x27;, &#x27;condition&#x27;, &#x27;fuel&#x27;, &#x27;title_status&#x27;,\n",
       "       &#x27;transmission&#x27;, &#x27;drive&#x27;, &#x27;type&#x27;, &#x27;paint_color&#x27;, &#x27;state&#x27;],\n",
       "      dtype=&#x27;object&#x27;))])),\n",
       "                (&#x27;logreg&#x27;, LogisticRegression())])</pre><b>In a Jupyter environment, please rerun this cell to show the HTML representation or trust the notebook. <br />On GitHub, the HTML representation is unable to render, please try loading this page with nbviewer.org.</b></div><div class=\"sk-container\" hidden><div class=\"sk-item sk-dashed-wrapped\"><div class=\"sk-label-container\"><div class=\"sk-label fitted sk-toggleable\"><input class=\"sk-toggleable__control sk-hidden--visually\" id=\"sk-estimator-id-1\" type=\"checkbox\" ><label for=\"sk-estimator-id-1\" class=\"sk-toggleable__label fitted sk-toggleable__label-arrow\"><div><div>Pipeline</div></div><div><a class=\"sk-estimator-doc-link fitted\" rel=\"noreferrer\" target=\"_blank\" href=\"https://scikit-learn.org/1.6/modules/generated/sklearn.pipeline.Pipeline.html\">?<span>Documentation for Pipeline</span></a><span class=\"sk-estimator-doc-link fitted\">i<span>Fitted</span></span></div></label><div class=\"sk-toggleable__content fitted\"><pre>Pipeline(steps=[(&#x27;preprocessor&#x27;,\n",
       "                 ColumnTransformer(transformers=[(&#x27;num&#x27;, StandardScaler(),\n",
       "                                                  Index([&#x27;year&#x27;, &#x27;cylinders&#x27;, &#x27;odometer&#x27;, &#x27;lat&#x27;, &#x27;long&#x27;], dtype=&#x27;object&#x27;)),\n",
       "                                                 (&#x27;cat&#x27;,\n",
       "                                                  OneHotEncoder(handle_unknown=&#x27;ignore&#x27;),\n",
       "                                                  Index([&#x27;region&#x27;, &#x27;manufacturer&#x27;, &#x27;model&#x27;, &#x27;condition&#x27;, &#x27;fuel&#x27;, &#x27;title_status&#x27;,\n",
       "       &#x27;transmission&#x27;, &#x27;drive&#x27;, &#x27;type&#x27;, &#x27;paint_color&#x27;, &#x27;state&#x27;],\n",
       "      dtype=&#x27;object&#x27;))])),\n",
       "                (&#x27;logreg&#x27;, LogisticRegression())])</pre></div> </div></div><div class=\"sk-serial\"><div class=\"sk-item sk-dashed-wrapped\"><div class=\"sk-label-container\"><div class=\"sk-label fitted sk-toggleable\"><input class=\"sk-toggleable__control sk-hidden--visually\" id=\"sk-estimator-id-2\" type=\"checkbox\" ><label for=\"sk-estimator-id-2\" class=\"sk-toggleable__label fitted sk-toggleable__label-arrow\"><div><div>preprocessor: ColumnTransformer</div></div><div><a class=\"sk-estimator-doc-link fitted\" rel=\"noreferrer\" target=\"_blank\" href=\"https://scikit-learn.org/1.6/modules/generated/sklearn.compose.ColumnTransformer.html\">?<span>Documentation for preprocessor: ColumnTransformer</span></a></div></label><div class=\"sk-toggleable__content fitted\"><pre>ColumnTransformer(transformers=[(&#x27;num&#x27;, StandardScaler(),\n",
       "                                 Index([&#x27;year&#x27;, &#x27;cylinders&#x27;, &#x27;odometer&#x27;, &#x27;lat&#x27;, &#x27;long&#x27;], dtype=&#x27;object&#x27;)),\n",
       "                                (&#x27;cat&#x27;, OneHotEncoder(handle_unknown=&#x27;ignore&#x27;),\n",
       "                                 Index([&#x27;region&#x27;, &#x27;manufacturer&#x27;, &#x27;model&#x27;, &#x27;condition&#x27;, &#x27;fuel&#x27;, &#x27;title_status&#x27;,\n",
       "       &#x27;transmission&#x27;, &#x27;drive&#x27;, &#x27;type&#x27;, &#x27;paint_color&#x27;, &#x27;state&#x27;],\n",
       "      dtype=&#x27;object&#x27;))])</pre></div> </div></div><div class=\"sk-parallel\"><div class=\"sk-parallel-item\"><div class=\"sk-item\"><div class=\"sk-label-container\"><div class=\"sk-label fitted sk-toggleable\"><input class=\"sk-toggleable__control sk-hidden--visually\" id=\"sk-estimator-id-3\" type=\"checkbox\" ><label for=\"sk-estimator-id-3\" class=\"sk-toggleable__label fitted sk-toggleable__label-arrow\"><div><div>num</div></div></label><div class=\"sk-toggleable__content fitted\"><pre>Index([&#x27;year&#x27;, &#x27;cylinders&#x27;, &#x27;odometer&#x27;, &#x27;lat&#x27;, &#x27;long&#x27;], dtype=&#x27;object&#x27;)</pre></div> </div></div><div class=\"sk-serial\"><div class=\"sk-item\"><div class=\"sk-estimator fitted sk-toggleable\"><input class=\"sk-toggleable__control sk-hidden--visually\" id=\"sk-estimator-id-4\" type=\"checkbox\" ><label for=\"sk-estimator-id-4\" class=\"sk-toggleable__label fitted sk-toggleable__label-arrow\"><div><div>StandardScaler</div></div><div><a class=\"sk-estimator-doc-link fitted\" rel=\"noreferrer\" target=\"_blank\" href=\"https://scikit-learn.org/1.6/modules/generated/sklearn.preprocessing.StandardScaler.html\">?<span>Documentation for StandardScaler</span></a></div></label><div class=\"sk-toggleable__content fitted\"><pre>StandardScaler()</pre></div> </div></div></div></div></div><div class=\"sk-parallel-item\"><div class=\"sk-item\"><div class=\"sk-label-container\"><div class=\"sk-label fitted sk-toggleable\"><input class=\"sk-toggleable__control sk-hidden--visually\" id=\"sk-estimator-id-5\" type=\"checkbox\" ><label for=\"sk-estimator-id-5\" class=\"sk-toggleable__label fitted sk-toggleable__label-arrow\"><div><div>cat</div></div></label><div class=\"sk-toggleable__content fitted\"><pre>Index([&#x27;region&#x27;, &#x27;manufacturer&#x27;, &#x27;model&#x27;, &#x27;condition&#x27;, &#x27;fuel&#x27;, &#x27;title_status&#x27;,\n",
       "       &#x27;transmission&#x27;, &#x27;drive&#x27;, &#x27;type&#x27;, &#x27;paint_color&#x27;, &#x27;state&#x27;],\n",
       "      dtype=&#x27;object&#x27;)</pre></div> </div></div><div class=\"sk-serial\"><div class=\"sk-item\"><div class=\"sk-estimator fitted sk-toggleable\"><input class=\"sk-toggleable__control sk-hidden--visually\" id=\"sk-estimator-id-6\" type=\"checkbox\" ><label for=\"sk-estimator-id-6\" class=\"sk-toggleable__label fitted sk-toggleable__label-arrow\"><div><div>OneHotEncoder</div></div><div><a class=\"sk-estimator-doc-link fitted\" rel=\"noreferrer\" target=\"_blank\" href=\"https://scikit-learn.org/1.6/modules/generated/sklearn.preprocessing.OneHotEncoder.html\">?<span>Documentation for OneHotEncoder</span></a></div></label><div class=\"sk-toggleable__content fitted\"><pre>OneHotEncoder(handle_unknown=&#x27;ignore&#x27;)</pre></div> </div></div></div></div></div></div></div><div class=\"sk-item\"><div class=\"sk-estimator fitted sk-toggleable\"><input class=\"sk-toggleable__control sk-hidden--visually\" id=\"sk-estimator-id-7\" type=\"checkbox\" ><label for=\"sk-estimator-id-7\" class=\"sk-toggleable__label fitted sk-toggleable__label-arrow\"><div><div>LogisticRegression</div></div><div><a class=\"sk-estimator-doc-link fitted\" rel=\"noreferrer\" target=\"_blank\" href=\"https://scikit-learn.org/1.6/modules/generated/sklearn.linear_model.LogisticRegression.html\">?<span>Documentation for LogisticRegression</span></a></div></label><div class=\"sk-toggleable__content fitted\"><pre>LogisticRegression()</pre></div> </div></div></div></div></div></div>"
      ],
      "text/plain": [
       "Pipeline(steps=[('preprocessor',\n",
       "                 ColumnTransformer(transformers=[('num', StandardScaler(),\n",
       "                                                  Index(['year', 'cylinders', 'odometer', 'lat', 'long'], dtype='object')),\n",
       "                                                 ('cat',\n",
       "                                                  OneHotEncoder(handle_unknown='ignore'),\n",
       "                                                  Index(['region', 'manufacturer', 'model', 'condition', 'fuel', 'title_status',\n",
       "       'transmission', 'drive', 'type', 'paint_color', 'state'],\n",
       "      dtype='object'))])),\n",
       "                ('logreg', LogisticRegression())])"
      ]
     },
     "execution_count": 55,
     "metadata": {},
     "output_type": "execute_result"
    }
   ],
   "source": [
    "pipeline_logistico__simple.fit(X_train, y_train)"
   ]
  },
  {
   "cell_type": "code",
   "execution_count": 56,
   "id": "4090e903",
   "metadata": {},
   "outputs": [],
   "source": [
    "y_pred = pipeline_logistico__simple.predict(X_test)"
   ]
  },
  {
   "cell_type": "code",
   "execution_count": 57,
   "id": "5ba22c24",
   "metadata": {},
   "outputs": [
    {
     "name": "stdout",
     "output_type": "stream",
     "text": [
      "Matriz de confusión:\n",
      "[[33578  5108]\n",
      " [ 5574 33496]]\n",
      "\n",
      "Reporte de clasificación:\n",
      "              precision    recall  f1-score   support\n",
      "\n",
      "           0       0.86      0.87      0.86     38686\n",
      "           1       0.87      0.86      0.86     39070\n",
      "\n",
      "    accuracy                           0.86     77756\n",
      "   macro avg       0.86      0.86      0.86     77756\n",
      "weighted avg       0.86      0.86      0.86     77756\n",
      "\n"
     ]
    }
   ],
   "source": [
    "print(\"Matriz de confusión:\")\n",
    "print(confusion_matrix(y_test, y_pred))\n",
    "\n",
    "print(\"\\nReporte de clasificación:\")\n",
    "print(classification_report(y_test, y_pred))"
   ]
  },
  {
   "cell_type": "markdown",
   "id": "479fe1e8",
   "metadata": {},
   "source": [
    "Se realizan las predicciones sobre el conjunto de prueba (`X_test`). Luego, se imprime la matriz de confusión, que muestra los verdaderos positivos, falsos positivos, verdaderos negativos y falsos negativos. De la matriz se puede ver que el modelo realiza una clasificación bastante precisa, con 33,578 verdaderos positivos y 5,108 falsos negativos, lo que sugiere que el modelo tiene un buen desempeño, especialmente en la clasificación de la clase positiva.\n"
   ]
  },
  {
   "cell_type": "code",
   "execution_count": 58,
   "id": "032327a8",
   "metadata": {},
   "outputs": [
    {
     "name": "stdout",
     "output_type": "stream",
     "text": [
      "   Accuracy  Precision    Recall  F1-score\n",
      "0  0.862622   0.862682  0.862622  0.862621\n"
     ]
    }
   ],
   "source": [
    "# Calcular métricas\n",
    "accuracy = accuracy_score(y_test, y_pred)\n",
    "precision = precision_score(y_test, y_pred, average='weighted')\n",
    "recall = recall_score(y_test, y_pred, average='weighted')\n",
    "f1 = f1_score(y_test, y_pred, average='weighted')\n",
    "\n",
    "# Crear DataFrame\n",
    "metrics_df = pd.DataFrame({\n",
    "    'Accuracy': [accuracy],\n",
    "    'Precision': [precision],\n",
    "    'Recall': [recall],\n",
    "    'F1-score': [f1]\n",
    "})\n",
    "\n",
    "print(metrics_df)"
   ]
  },
  {
   "cell_type": "markdown",
   "id": "43b57ee9",
   "metadata": {},
   "source": [
    "Se calculan varias métricas importantes para evaluar el desempeño del modelo de regresión logística en el conjunto de prueba. Se calcula la precisión, el recall y el F1-score, utilizando el parámetro `average='weighted'` para obtener un promedio ponderado de las métricas, teniendo en cuenta el desbalance entre clases. El modelo tiene un excelente desempeño con valores de precisión, recall y F1-score de aproximadamente 0.86 en todos los casos, lo que indica que el modelo tiene una buena capacidad de clasificación, tanto en términos de identificar correctamente los casos positivos como negativos.\n"
   ]
  },
  {
   "cell_type": "code",
   "execution_count": 59,
   "id": "146cca40",
   "metadata": {},
   "outputs": [
    {
     "data": {
      "image/png": "[encoded data removed]",
      "text/plain": [
       "<Figure size 576x432 with 1 Axes>"
      ]
     },
     "metadata": {
      "needs_background": "light"
     },
     "output_type": "display_data"
    }
   ],
   "source": [
    "\n",
    "y_proba = pipeline_logistico__simple.predict_proba(X_test)[:, 1] \n",
    "\n",
    "fpr, tpr, thresholds = roc_curve(y_test, y_proba)\n",
    "\n",
    "# Calcular AUC\n",
    "auc_score = roc_auc_score(y_test, y_proba)\n",
    "\n",
    "# Graficar la curva ROC\n",
    "plt.figure(figsize=(8, 6))\n",
    "plt.plot(fpr, tpr, label=f\"ROC Curve (AUC = {auc_score:.4f})\", color='blue')\n",
    "plt.plot([0, 1], [0, 1], linestyle='--', color='gray') \n",
    "plt.xlabel(\"False Positive Rate\")\n",
    "plt.ylabel(\"True Positive Rate\")\n",
    "plt.title(\"Curva ROC\")\n",
    "plt.legend(loc=\"lower right\")\n",
    "plt.grid()\n",
    "plt.show()"
   ]
  },
  {
   "cell_type": "markdown",
   "id": "349f225d",
   "metadata": {},
   "source": [
    "Se grafica la curva ROC, que visualiza la relación entre la tasa de verdaderos positivos y la tasa de falsos positivos para diferentes umbrales de decisión. El gráfico muestra una curva que se acerca a la esquina superior izquierda, lo que es indicativo de un buen desempeño. La leyenda del gráfico muestra el valor del AUC, que refuerza aún más la interpretación de que el modelo es eficaz para diferenciar entre las clases positivas y negativas."
   ]
  },
  {
   "cell_type": "markdown",
   "id": "0f89b540",
   "metadata": {},
   "source": [
    "### ***1.2.1.2. Con regularización:***"
   ]
  },
  {
   "cell_type": "markdown",
   "id": "da04813e",
   "metadata": {},
   "source": [
    "#### **1.2.1.2.1. Gridsearch**"
   ]
  },
  {
   "cell_type": "markdown",
   "id": "2b37a332",
   "metadata": {},
   "source": [
    "Se repite el mismo procedimiento."
   ]
  },
  {
   "cell_type": "code",
   "execution_count": 60,
   "id": "5f8227fb",
   "metadata": {},
   "outputs": [],
   "source": [
    "df['high_demand'] = df['high_demand'].astype(int)"
   ]
  },
  {
   "cell_type": "code",
   "execution_count": 61,
   "id": "24160050",
   "metadata": {},
   "outputs": [],
   "source": [
    "X = df.drop([\"high_demand\", \"price\"], axis=1)   \n",
    "y = df[\"high_demand\"]"
   ]
  },
  {
   "cell_type": "code",
   "execution_count": 62,
   "id": "50e2d1f5",
   "metadata": {},
   "outputs": [],
   "source": [
    "X_train, X_test, y_train, y_test = train_test_split(X, y, test_size=0.2, random_state=42)"
   ]
  },
  {
   "cell_type": "code",
   "execution_count": 63,
   "id": "fc315706",
   "metadata": {},
   "outputs": [],
   "source": [
    "num_features = X.select_dtypes(include=[\"int64\", \"float64\"]).columns\n",
    "cat_features = X.select_dtypes(include=[\"object\", \"category\"]).columns"
   ]
  },
  {
   "cell_type": "code",
   "execution_count": 64,
   "id": "40758f8a",
   "metadata": {},
   "outputs": [],
   "source": [
    "num_transformer = StandardScaler()\n",
    "\n",
    "# Transformador para las categóricas: one-hot encoding\n",
    "cat_transformer = OneHotEncoder(handle_unknown=\"ignore\")\n",
    "\n",
    "# Combinar en un ColumnTransformer\n",
    "preprocessor = ColumnTransformer(\n",
    "    transformers=[\n",
    "        (\"num\", num_transformer, num_features),\n",
    "        (\"cat\", cat_transformer, cat_features)\n",
    "    ]\n",
    ")"
   ]
  },
  {
   "cell_type": "code",
   "execution_count": 65,
   "id": "1c052bf4",
   "metadata": {},
   "outputs": [],
   "source": [
    "pipeline_logistico_grid = Pipeline(steps = [\n",
    "    (\"preprocessor\", preprocessor),\n",
    "    ('classifier', LogisticRegression(solver='liblinear'))\n",
    "])"
   ]
  },
  {
   "cell_type": "markdown",
   "id": "d86613b6",
   "metadata": {},
   "source": [
    "Se crea un pipeline que incluye el preprocesamiento de las variables numéricas y categóricas, seguidas de la aplicación del modelo de regresión logística. El preprocesamiento se realiza utilizando un `ColumnTransformer`, que aplica un escalado estándar a las características numéricas y OneHot Encoding a las características categóricas. El modelo de regresión logística se configura con el solver 'liblinear', adecuado para datos más pequeños y medianos. Posteriormente, se define una búsqueda en malla (`GridSearchCV`) para optimizar los hiperparámetros del modelo, específicamente el parámetro `C`, que controla la regularización, y el parámetro `penalty`, que determina el tipo de regularización (L1 o L2). La validación cruzada con 5 particiones y el puntaje de precisión (`accuracy`) se utilizan para seleccionar el mejor modelo."
   ]
  },
  {
   "cell_type": "code",
   "execution_count": 66,
   "id": "1c66a6fa",
   "metadata": {},
   "outputs": [],
   "source": [
    "param_grid = {\n",
    "    'classifier__C': [0.01, 0.1, 1, 10, 100],          \n",
    "    'classifier__penalty': ['l1', 'l2']                \n",
    "}\n",
    "\n",
    "logistico_grid = GridSearchCV(pipeline_logistico_grid, param_grid, cv=5, scoring='accuracy', n_jobs=-1)"
   ]
  },
  {
   "cell_type": "code",
   "execution_count": 67,
   "id": "786020f3",
   "metadata": {},
   "outputs": [
    {
     "data": {
      "text/html": [
       "<style>#sk-container-id-2 {\n",
       "  /* Definition of color scheme common for light and dark mode */\n",
       "  --sklearn-color-text: #000;\n",
       "  --sklearn-color-text-muted: #666;\n",
       "  --sklearn-color-line: gray;\n",
       "  /* Definition of color scheme for unfitted estimators */\n",
       "  --sklearn-color-unfitted-level-0: #fff5e6;\n",
       "  --sklearn-color-unfitted-level-1: #f6e4d2;\n",
       "  --sklearn-color-unfitted-level-2: #ffe0b3;\n",
       "  --sklearn-color-unfitted-level-3: chocolate;\n",
       "  /* Definition of color scheme for fitted estimators */\n",
       "  --sklearn-color-fitted-level-0: #f0f8ff;\n",
       "  --sklearn-color-fitted-level-1: #d4ebff;\n",
       "  --sklearn-color-fitted-level-2: #b3dbfd;\n",
       "  --sklearn-color-fitted-level-3: cornflowerblue;\n",
       "\n",
       "  /* Specific color for light theme */\n",
       "  --sklearn-color-text-on-default-background: var(--sg-text-color, var(--theme-code-foreground, var(--jp-content-font-color1, black)));\n",
       "  --sklearn-color-background: var(--sg-background-color, var(--theme-background, var(--jp-layout-color0, white)));\n",
       "  --sklearn-color-border-box: var(--sg-text-color, var(--theme-code-foreground, var(--jp-content-font-color1, black)));\n",
       "  --sklearn-color-icon: #696969;\n",
       "\n",
       "  @media (prefers-color-scheme: dark) {\n",
       "    /* Redefinition of color scheme for dark theme */\n",
       "    --sklearn-color-text-on-default-background: var(--sg-text-color, var(--theme-code-foreground, var(--jp-content-font-color1, white)));\n",
       "    --sklearn-color-background: var(--sg-background-color, var(--theme-background, var(--jp-layout-color0, #111)));\n",
       "    --sklearn-color-border-box: var(--sg-text-color, var(--theme-code-foreground, var(--jp-content-font-color1, white)));\n",
       "    --sklearn-color-icon: #878787;\n",
       "  }\n",
       "}\n",
       "\n",
       "#sk-container-id-2 {\n",
       "  color: var(--sklearn-color-text);\n",
       "}\n",
       "\n",
       "#sk-container-id-2 pre {\n",
       "  padding: 0;\n",
       "}\n",
       "\n",
       "#sk-container-id-2 input.sk-hidden--visually {\n",
       "  border: 0;\n",
       "  clip: rect(1px 1px 1px 1px);\n",
       "  clip: rect(1px, 1px, 1px, 1px);\n",
       "  height: 1px;\n",
       "  margin: -1px;\n",
       "  overflow: hidden;\n",
       "  padding: 0;\n",
       "  position: absolute;\n",
       "  width: 1px;\n",
       "}\n",
       "\n",
       "#sk-container-id-2 div.sk-dashed-wrapped {\n",
       "  border: 1px dashed var(--sklearn-color-line);\n",
       "  margin: 0 0.4em 0.5em 0.4em;\n",
       "  box-sizing: border-box;\n",
       "  padding-bottom: 0.4em;\n",
       "  background-color: var(--sklearn-color-background);\n",
       "}\n",
       "\n",
       "#sk-container-id-2 div.sk-container {\n",
       "  /* jupyter's `normalize.less` sets `[hidden] { display: none; }`\n",
       "     but bootstrap.min.css set `[hidden] { display: none !important; }`\n",
       "     so we also need the `!important` here to be able to override the\n",
       "     default hidden behavior on the sphinx rendered scikit-learn.org.\n",
       "     See: https://github.com/scikit-learn/scikit-learn/issues/21755 */\n",
       "  display: inline-block !important;\n",
       "  position: relative;\n",
       "}\n",
       "\n",
       "#sk-container-id-2 div.sk-text-repr-fallback {\n",
       "  display: none;\n",
       "}\n",
       "\n",
       "div.sk-parallel-item,\n",
       "div.sk-serial,\n",
       "div.sk-item {\n",
       "  /* draw centered vertical line to link estimators */\n",
       "  background-image: linear-gradient(var(--sklearn-color-text-on-default-background), var(--sklearn-color-text-on-default-background));\n",
       "  background-size: 2px 100%;\n",
       "  background-repeat: no-repeat;\n",
       "  background-position: center center;\n",
       "}\n",
       "\n",
       "/* Parallel-specific style estimator block */\n",
       "\n",
       "#sk-container-id-2 div.sk-parallel-item::after {\n",
       "  content: \"\";\n",
       "  width: 100%;\n",
       "  border-bottom: 2px solid var(--sklearn-color-text-on-default-background);\n",
       "  flex-grow: 1;\n",
       "}\n",
       "\n",
       "#sk-container-id-2 div.sk-parallel {\n",
       "  display: flex;\n",
       "  align-items: stretch;\n",
       "  justify-content: center;\n",
       "  background-color: var(--sklearn-color-background);\n",
       "  position: relative;\n",
       "}\n",
       "\n",
       "#sk-container-id-2 div.sk-parallel-item {\n",
       "  display: flex;\n",
       "  flex-direction: column;\n",
       "}\n",
       "\n",
       "#sk-container-id-2 div.sk-parallel-item:first-child::after {\n",
       "  align-self: flex-end;\n",
       "  width: 50%;\n",
       "}\n",
       "\n",
       "#sk-container-id-2 div.sk-parallel-item:last-child::after {\n",
       "  align-self: flex-start;\n",
       "  width: 50%;\n",
       "}\n",
       "\n",
       "#sk-container-id-2 div.sk-parallel-item:only-child::after {\n",
       "  width: 0;\n",
       "}\n",
       "\n",
       "/* Serial-specific style estimator block */\n",
       "\n",
       "#sk-container-id-2 div.sk-serial {\n",
       "  display: flex;\n",
       "  flex-direction: column;\n",
       "  align-items: center;\n",
       "  background-color: var(--sklearn-color-background);\n",
       "  padding-right: 1em;\n",
       "  padding-left: 1em;\n",
       "}\n",
       "\n",
       "\n",
       "/* Toggleable style: style used for estimator/Pipeline/ColumnTransformer box that is\n",
       "clickable and can be expanded/collapsed.\n",
       "- Pipeline and ColumnTransformer use this feature and define the default style\n",
       "- Estimators will overwrite some part of the style using the `sk-estimator` class\n",
       "*/\n",
       "\n",
       "/* Pipeline and ColumnTransformer style (default) */\n",
       "\n",
       "#sk-container-id-2 div.sk-toggleable {\n",
       "  /* Default theme specific background. It is overwritten whether we have a\n",
       "  specific estimator or a Pipeline/ColumnTransformer */\n",
       "  background-color: var(--sklearn-color-background);\n",
       "}\n",
       "\n",
       "/* Toggleable label */\n",
       "#sk-container-id-2 label.sk-toggleable__label {\n",
       "  cursor: pointer;\n",
       "  display: flex;\n",
       "  width: 100%;\n",
       "  margin-bottom: 0;\n",
       "  padding: 0.5em;\n",
       "  box-sizing: border-box;\n",
       "  text-align: center;\n",
       "  align-items: start;\n",
       "  justify-content: space-between;\n",
       "  gap: 0.5em;\n",
       "}\n",
       "\n",
       "#sk-container-id-2 label.sk-toggleable__label .caption {\n",
       "  font-size: 0.6rem;\n",
       "  font-weight: lighter;\n",
       "  color: var(--sklearn-color-text-muted);\n",
       "}\n",
       "\n",
       "#sk-container-id-2 label.sk-toggleable__label-arrow:before {\n",
       "  /* Arrow on the left of the label */\n",
       "  content: \"▸\";\n",
       "  float: left;\n",
       "  margin-right: 0.25em;\n",
       "  color: var(--sklearn-color-icon);\n",
       "}\n",
       "\n",
       "#sk-container-id-2 label.sk-toggleable__label-arrow:hover:before {\n",
       "  color: var(--sklearn-color-text);\n",
       "}\n",
       "\n",
       "/* Toggleable content - dropdown */\n",
       "\n",
       "#sk-container-id-2 div.sk-toggleable__content {\n",
       "  max-height: 0;\n",
       "  max-width: 0;\n",
       "  overflow: hidden;\n",
       "  text-align: left;\n",
       "  /* unfitted */\n",
       "  background-color: var(--sklearn-color-unfitted-level-0);\n",
       "}\n",
       "\n",
       "#sk-container-id-2 div.sk-toggleable__content.fitted {\n",
       "  /* fitted */\n",
       "  background-color: var(--sklearn-color-fitted-level-0);\n",
       "}\n",
       "\n",
       "#sk-container-id-2 div.sk-toggleable__content pre {\n",
       "  margin: 0.2em;\n",
       "  border-radius: 0.25em;\n",
       "  color: var(--sklearn-color-text);\n",
       "  /* unfitted */\n",
       "  background-color: var(--sklearn-color-unfitted-level-0);\n",
       "}\n",
       "\n",
       "#sk-container-id-2 div.sk-toggleable__content.fitted pre {\n",
       "  /* unfitted */\n",
       "  background-color: var(--sklearn-color-fitted-level-0);\n",
       "}\n",
       "\n",
       "#sk-container-id-2 input.sk-toggleable__control:checked~div.sk-toggleable__content {\n",
       "  /* Expand drop-down */\n",
       "  max-height: 200px;\n",
       "  max-width: 100%;\n",
       "  overflow: auto;\n",
       "}\n",
       "\n",
       "#sk-container-id-2 input.sk-toggleable__control:checked~label.sk-toggleable__label-arrow:before {\n",
       "  content: \"▾\";\n",
       "}\n",
       "\n",
       "/* Pipeline/ColumnTransformer-specific style */\n",
       "\n",
       "#sk-container-id-2 div.sk-label input.sk-toggleable__control:checked~label.sk-toggleable__label {\n",
       "  color: var(--sklearn-color-text);\n",
       "  background-color: var(--sklearn-color-unfitted-level-2);\n",
       "}\n",
       "\n",
       "#sk-container-id-2 div.sk-label.fitted input.sk-toggleable__control:checked~label.sk-toggleable__label {\n",
       "  background-color: var(--sklearn-color-fitted-level-2);\n",
       "}\n",
       "\n",
       "/* Estimator-specific style */\n",
       "\n",
       "/* Colorize estimator box */\n",
       "#sk-container-id-2 div.sk-estimator input.sk-toggleable__control:checked~label.sk-toggleable__label {\n",
       "  /* unfitted */\n",
       "  background-color: var(--sklearn-color-unfitted-level-2);\n",
       "}\n",
       "\n",
       "#sk-container-id-2 div.sk-estimator.fitted input.sk-toggleable__control:checked~label.sk-toggleable__label {\n",
       "  /* fitted */\n",
       "  background-color: var(--sklearn-color-fitted-level-2);\n",
       "}\n",
       "\n",
       "#sk-container-id-2 div.sk-label label.sk-toggleable__label,\n",
       "#sk-container-id-2 div.sk-label label {\n",
       "  /* The background is the default theme color */\n",
       "  color: var(--sklearn-color-text-on-default-background);\n",
       "}\n",
       "\n",
       "/* On hover, darken the color of the background */\n",
       "#sk-container-id-2 div.sk-label:hover label.sk-toggleable__label {\n",
       "  color: var(--sklearn-color-text);\n",
       "  background-color: var(--sklearn-color-unfitted-level-2);\n",
       "}\n",
       "\n",
       "/* Label box, darken color on hover, fitted */\n",
       "#sk-container-id-2 div.sk-label.fitted:hover label.sk-toggleable__label.fitted {\n",
       "  color: var(--sklearn-color-text);\n",
       "  background-color: var(--sklearn-color-fitted-level-2);\n",
       "}\n",
       "\n",
       "/* Estimator label */\n",
       "\n",
       "#sk-container-id-2 div.sk-label label {\n",
       "  font-family: monospace;\n",
       "  font-weight: bold;\n",
       "  display: inline-block;\n",
       "  line-height: 1.2em;\n",
       "}\n",
       "\n",
       "#sk-container-id-2 div.sk-label-container {\n",
       "  text-align: center;\n",
       "}\n",
       "\n",
       "/* Estimator-specific */\n",
       "#sk-container-id-2 div.sk-estimator {\n",
       "  font-family: monospace;\n",
       "  border: 1px dotted var(--sklearn-color-border-box);\n",
       "  border-radius: 0.25em;\n",
       "  box-sizing: border-box;\n",
       "  margin-bottom: 0.5em;\n",
       "  /* unfitted */\n",
       "  background-color: var(--sklearn-color-unfitted-level-0);\n",
       "}\n",
       "\n",
       "#sk-container-id-2 div.sk-estimator.fitted {\n",
       "  /* fitted */\n",
       "  background-color: var(--sklearn-color-fitted-level-0);\n",
       "}\n",
       "\n",
       "/* on hover */\n",
       "#sk-container-id-2 div.sk-estimator:hover {\n",
       "  /* unfitted */\n",
       "  background-color: var(--sklearn-color-unfitted-level-2);\n",
       "}\n",
       "\n",
       "#sk-container-id-2 div.sk-estimator.fitted:hover {\n",
       "  /* fitted */\n",
       "  background-color: var(--sklearn-color-fitted-level-2);\n",
       "}\n",
       "\n",
       "/* Specification for estimator info (e.g. \"i\" and \"?\") */\n",
       "\n",
       "/* Common style for \"i\" and \"?\" */\n",
       "\n",
       ".sk-estimator-doc-link,\n",
       "a:link.sk-estimator-doc-link,\n",
       "a:visited.sk-estimator-doc-link {\n",
       "  float: right;\n",
       "  font-size: smaller;\n",
       "  line-height: 1em;\n",
       "  font-family: monospace;\n",
       "  background-color: var(--sklearn-color-background);\n",
       "  border-radius: 1em;\n",
       "  height: 1em;\n",
       "  width: 1em;\n",
       "  text-decoration: none !important;\n",
       "  margin-left: 0.5em;\n",
       "  text-align: center;\n",
       "  /* unfitted */\n",
       "  border: var(--sklearn-color-unfitted-level-1) 1pt solid;\n",
       "  color: var(--sklearn-color-unfitted-level-1);\n",
       "}\n",
       "\n",
       ".sk-estimator-doc-link.fitted,\n",
       "a:link.sk-estimator-doc-link.fitted,\n",
       "a:visited.sk-estimator-doc-link.fitted {\n",
       "  /* fitted */\n",
       "  border: var(--sklearn-color-fitted-level-1) 1pt solid;\n",
       "  color: var(--sklearn-color-fitted-level-1);\n",
       "}\n",
       "\n",
       "/* On hover */\n",
       "div.sk-estimator:hover .sk-estimator-doc-link:hover,\n",
       ".sk-estimator-doc-link:hover,\n",
       "div.sk-label-container:hover .sk-estimator-doc-link:hover,\n",
       ".sk-estimator-doc-link:hover {\n",
       "  /* unfitted */\n",
       "  background-color: var(--sklearn-color-unfitted-level-3);\n",
       "  color: var(--sklearn-color-background);\n",
       "  text-decoration: none;\n",
       "}\n",
       "\n",
       "div.sk-estimator.fitted:hover .sk-estimator-doc-link.fitted:hover,\n",
       ".sk-estimator-doc-link.fitted:hover,\n",
       "div.sk-label-container:hover .sk-estimator-doc-link.fitted:hover,\n",
       ".sk-estimator-doc-link.fitted:hover {\n",
       "  /* fitted */\n",
       "  background-color: var(--sklearn-color-fitted-level-3);\n",
       "  color: var(--sklearn-color-background);\n",
       "  text-decoration: none;\n",
       "}\n",
       "\n",
       "/* Span, style for the box shown on hovering the info icon */\n",
       ".sk-estimator-doc-link span {\n",
       "  display: none;\n",
       "  z-index: 9999;\n",
       "  position: relative;\n",
       "  font-weight: normal;\n",
       "  right: .2ex;\n",
       "  padding: .5ex;\n",
       "  margin: .5ex;\n",
       "  width: min-content;\n",
       "  min-width: 20ex;\n",
       "  max-width: 50ex;\n",
       "  color: var(--sklearn-color-text);\n",
       "  box-shadow: 2pt 2pt 4pt #999;\n",
       "  /* unfitted */\n",
       "  background: var(--sklearn-color-unfitted-level-0);\n",
       "  border: .5pt solid var(--sklearn-color-unfitted-level-3);\n",
       "}\n",
       "\n",
       ".sk-estimator-doc-link.fitted span {\n",
       "  /* fitted */\n",
       "  background: var(--sklearn-color-fitted-level-0);\n",
       "  border: var(--sklearn-color-fitted-level-3);\n",
       "}\n",
       "\n",
       ".sk-estimator-doc-link:hover span {\n",
       "  display: block;\n",
       "}\n",
       "\n",
       "/* \"?\"-specific style due to the `<a>` HTML tag */\n",
       "\n",
       "#sk-container-id-2 a.estimator_doc_link {\n",
       "  float: right;\n",
       "  font-size: 1rem;\n",
       "  line-height: 1em;\n",
       "  font-family: monospace;\n",
       "  background-color: var(--sklearn-color-background);\n",
       "  border-radius: 1rem;\n",
       "  height: 1rem;\n",
       "  width: 1rem;\n",
       "  text-decoration: none;\n",
       "  /* unfitted */\n",
       "  color: var(--sklearn-color-unfitted-level-1);\n",
       "  border: var(--sklearn-color-unfitted-level-1) 1pt solid;\n",
       "}\n",
       "\n",
       "#sk-container-id-2 a.estimator_doc_link.fitted {\n",
       "  /* fitted */\n",
       "  border: var(--sklearn-color-fitted-level-1) 1pt solid;\n",
       "  color: var(--sklearn-color-fitted-level-1);\n",
       "}\n",
       "\n",
       "/* On hover */\n",
       "#sk-container-id-2 a.estimator_doc_link:hover {\n",
       "  /* unfitted */\n",
       "  background-color: var(--sklearn-color-unfitted-level-3);\n",
       "  color: var(--sklearn-color-background);\n",
       "  text-decoration: none;\n",
       "}\n",
       "\n",
       "#sk-container-id-2 a.estimator_doc_link.fitted:hover {\n",
       "  /* fitted */\n",
       "  background-color: var(--sklearn-color-fitted-level-3);\n",
       "}\n",
       "</style><div id=\"sk-container-id-2\" class=\"sk-top-container\"><div class=\"sk-text-repr-fallback\"><pre>GridSearchCV(cv=5,\n",
       "             estimator=Pipeline(steps=[(&#x27;preprocessor&#x27;,\n",
       "                                        ColumnTransformer(transformers=[(&#x27;num&#x27;,\n",
       "                                                                         StandardScaler(),\n",
       "                                                                         Index([&#x27;year&#x27;, &#x27;cylinders&#x27;, &#x27;odometer&#x27;, &#x27;lat&#x27;, &#x27;long&#x27;], dtype=&#x27;object&#x27;)),\n",
       "                                                                        (&#x27;cat&#x27;,\n",
       "                                                                         OneHotEncoder(handle_unknown=&#x27;ignore&#x27;),\n",
       "                                                                         Index([&#x27;region&#x27;, &#x27;manufacturer&#x27;, &#x27;model&#x27;, &#x27;condition&#x27;, &#x27;fuel&#x27;, &#x27;title_status&#x27;,\n",
       "       &#x27;transmission&#x27;, &#x27;drive&#x27;, &#x27;type&#x27;, &#x27;paint_color&#x27;, &#x27;state&#x27;],\n",
       "      dtype=&#x27;object&#x27;))])),\n",
       "                                       (&#x27;classifier&#x27;,\n",
       "                                        LogisticRegression(solver=&#x27;liblinear&#x27;))]),\n",
       "             n_jobs=-1,\n",
       "             param_grid={&#x27;classifier__C&#x27;: [0.01, 0.1, 1, 10, 100],\n",
       "                         &#x27;classifier__penalty&#x27;: [&#x27;l1&#x27;, &#x27;l2&#x27;]},\n",
       "             scoring=&#x27;accuracy&#x27;)</pre><b>In a Jupyter environment, please rerun this cell to show the HTML representation or trust the notebook. <br />On GitHub, the HTML representation is unable to render, please try loading this page with nbviewer.org.</b></div><div class=\"sk-container\" hidden><div class=\"sk-item sk-dashed-wrapped\"><div class=\"sk-label-container\"><div class=\"sk-label fitted sk-toggleable\"><input class=\"sk-toggleable__control sk-hidden--visually\" id=\"sk-estimator-id-8\" type=\"checkbox\" ><label for=\"sk-estimator-id-8\" class=\"sk-toggleable__label fitted sk-toggleable__label-arrow\"><div><div>GridSearchCV</div></div><div><a class=\"sk-estimator-doc-link fitted\" rel=\"noreferrer\" target=\"_blank\" href=\"https://scikit-learn.org/1.6/modules/generated/sklearn.model_selection.GridSearchCV.html\">?<span>Documentation for GridSearchCV</span></a><span class=\"sk-estimator-doc-link fitted\">i<span>Fitted</span></span></div></label><div class=\"sk-toggleable__content fitted\"><pre>GridSearchCV(cv=5,\n",
       "             estimator=Pipeline(steps=[(&#x27;preprocessor&#x27;,\n",
       "                                        ColumnTransformer(transformers=[(&#x27;num&#x27;,\n",
       "                                                                         StandardScaler(),\n",
       "                                                                         Index([&#x27;year&#x27;, &#x27;cylinders&#x27;, &#x27;odometer&#x27;, &#x27;lat&#x27;, &#x27;long&#x27;], dtype=&#x27;object&#x27;)),\n",
       "                                                                        (&#x27;cat&#x27;,\n",
       "                                                                         OneHotEncoder(handle_unknown=&#x27;ignore&#x27;),\n",
       "                                                                         Index([&#x27;region&#x27;, &#x27;manufacturer&#x27;, &#x27;model&#x27;, &#x27;condition&#x27;, &#x27;fuel&#x27;, &#x27;title_status&#x27;,\n",
       "       &#x27;transmission&#x27;, &#x27;drive&#x27;, &#x27;type&#x27;, &#x27;paint_color&#x27;, &#x27;state&#x27;],\n",
       "      dtype=&#x27;object&#x27;))])),\n",
       "                                       (&#x27;classifier&#x27;,\n",
       "                                        LogisticRegression(solver=&#x27;liblinear&#x27;))]),\n",
       "             n_jobs=-1,\n",
       "             param_grid={&#x27;classifier__C&#x27;: [0.01, 0.1, 1, 10, 100],\n",
       "                         &#x27;classifier__penalty&#x27;: [&#x27;l1&#x27;, &#x27;l2&#x27;]},\n",
       "             scoring=&#x27;accuracy&#x27;)</pre></div> </div></div><div class=\"sk-parallel\"><div class=\"sk-parallel-item\"><div class=\"sk-item\"><div class=\"sk-label-container\"><div class=\"sk-label fitted sk-toggleable\"><input class=\"sk-toggleable__control sk-hidden--visually\" id=\"sk-estimator-id-9\" type=\"checkbox\" ><label for=\"sk-estimator-id-9\" class=\"sk-toggleable__label fitted sk-toggleable__label-arrow\"><div><div>best_estimator_: Pipeline</div></div></label><div class=\"sk-toggleable__content fitted\"><pre>Pipeline(steps=[(&#x27;preprocessor&#x27;,\n",
       "                 ColumnTransformer(transformers=[(&#x27;num&#x27;, StandardScaler(),\n",
       "                                                  Index([&#x27;year&#x27;, &#x27;cylinders&#x27;, &#x27;odometer&#x27;, &#x27;lat&#x27;, &#x27;long&#x27;], dtype=&#x27;object&#x27;)),\n",
       "                                                 (&#x27;cat&#x27;,\n",
       "                                                  OneHotEncoder(handle_unknown=&#x27;ignore&#x27;),\n",
       "                                                  Index([&#x27;region&#x27;, &#x27;manufacturer&#x27;, &#x27;model&#x27;, &#x27;condition&#x27;, &#x27;fuel&#x27;, &#x27;title_status&#x27;,\n",
       "       &#x27;transmission&#x27;, &#x27;drive&#x27;, &#x27;type&#x27;, &#x27;paint_color&#x27;, &#x27;state&#x27;],\n",
       "      dtype=&#x27;object&#x27;))])),\n",
       "                (&#x27;classifier&#x27;, LogisticRegression(C=0.1, solver=&#x27;liblinear&#x27;))])</pre></div> </div></div><div class=\"sk-serial\"><div class=\"sk-item\"><div class=\"sk-serial\"><div class=\"sk-item sk-dashed-wrapped\"><div class=\"sk-label-container\"><div class=\"sk-label fitted sk-toggleable\"><input class=\"sk-toggleable__control sk-hidden--visually\" id=\"sk-estimator-id-10\" type=\"checkbox\" ><label for=\"sk-estimator-id-10\" class=\"sk-toggleable__label fitted sk-toggleable__label-arrow\"><div><div>preprocessor: ColumnTransformer</div></div><div><a class=\"sk-estimator-doc-link fitted\" rel=\"noreferrer\" target=\"_blank\" href=\"https://scikit-learn.org/1.6/modules/generated/sklearn.compose.ColumnTransformer.html\">?<span>Documentation for preprocessor: ColumnTransformer</span></a></div></label><div class=\"sk-toggleable__content fitted\"><pre>ColumnTransformer(transformers=[(&#x27;num&#x27;, StandardScaler(),\n",
       "                                 Index([&#x27;year&#x27;, &#x27;cylinders&#x27;, &#x27;odometer&#x27;, &#x27;lat&#x27;, &#x27;long&#x27;], dtype=&#x27;object&#x27;)),\n",
       "                                (&#x27;cat&#x27;, OneHotEncoder(handle_unknown=&#x27;ignore&#x27;),\n",
       "                                 Index([&#x27;region&#x27;, &#x27;manufacturer&#x27;, &#x27;model&#x27;, &#x27;condition&#x27;, &#x27;fuel&#x27;, &#x27;title_status&#x27;,\n",
       "       &#x27;transmission&#x27;, &#x27;drive&#x27;, &#x27;type&#x27;, &#x27;paint_color&#x27;, &#x27;state&#x27;],\n",
       "      dtype=&#x27;object&#x27;))])</pre></div> </div></div><div class=\"sk-parallel\"><div class=\"sk-parallel-item\"><div class=\"sk-item\"><div class=\"sk-label-container\"><div class=\"sk-label fitted sk-toggleable\"><input class=\"sk-toggleable__control sk-hidden--visually\" id=\"sk-estimator-id-11\" type=\"checkbox\" ><label for=\"sk-estimator-id-11\" class=\"sk-toggleable__label fitted sk-toggleable__label-arrow\"><div><div>num</div></div></label><div class=\"sk-toggleable__content fitted\"><pre>Index([&#x27;year&#x27;, &#x27;cylinders&#x27;, &#x27;odometer&#x27;, &#x27;lat&#x27;, &#x27;long&#x27;], dtype=&#x27;object&#x27;)</pre></div> </div></div><div class=\"sk-serial\"><div class=\"sk-item\"><div class=\"sk-estimator fitted sk-toggleable\"><input class=\"sk-toggleable__control sk-hidden--visually\" id=\"sk-estimator-id-12\" type=\"checkbox\" ><label for=\"sk-estimator-id-12\" class=\"sk-toggleable__label fitted sk-toggleable__label-arrow\"><div><div>StandardScaler</div></div><div><a class=\"sk-estimator-doc-link fitted\" rel=\"noreferrer\" target=\"_blank\" href=\"https://scikit-learn.org/1.6/modules/generated/sklearn.preprocessing.StandardScaler.html\">?<span>Documentation for StandardScaler</span></a></div></label><div class=\"sk-toggleable__content fitted\"><pre>StandardScaler()</pre></div> </div></div></div></div></div><div class=\"sk-parallel-item\"><div class=\"sk-item\"><div class=\"sk-label-container\"><div class=\"sk-label fitted sk-toggleable\"><input class=\"sk-toggleable__control sk-hidden--visually\" id=\"sk-estimator-id-13\" type=\"checkbox\" ><label for=\"sk-estimator-id-13\" class=\"sk-toggleable__label fitted sk-toggleable__label-arrow\"><div><div>cat</div></div></label><div class=\"sk-toggleable__content fitted\"><pre>Index([&#x27;region&#x27;, &#x27;manufacturer&#x27;, &#x27;model&#x27;, &#x27;condition&#x27;, &#x27;fuel&#x27;, &#x27;title_status&#x27;,\n",
       "       &#x27;transmission&#x27;, &#x27;drive&#x27;, &#x27;type&#x27;, &#x27;paint_color&#x27;, &#x27;state&#x27;],\n",
       "      dtype=&#x27;object&#x27;)</pre></div> </div></div><div class=\"sk-serial\"><div class=\"sk-item\"><div class=\"sk-estimator fitted sk-toggleable\"><input class=\"sk-toggleable__control sk-hidden--visually\" id=\"sk-estimator-id-14\" type=\"checkbox\" ><label for=\"sk-estimator-id-14\" class=\"sk-toggleable__label fitted sk-toggleable__label-arrow\"><div><div>OneHotEncoder</div></div><div><a class=\"sk-estimator-doc-link fitted\" rel=\"noreferrer\" target=\"_blank\" href=\"https://scikit-learn.org/1.6/modules/generated/sklearn.preprocessing.OneHotEncoder.html\">?<span>Documentation for OneHotEncoder</span></a></div></label><div class=\"sk-toggleable__content fitted\"><pre>OneHotEncoder(handle_unknown=&#x27;ignore&#x27;)</pre></div> </div></div></div></div></div></div></div><div class=\"sk-item\"><div class=\"sk-estimator fitted sk-toggleable\"><input class=\"sk-toggleable__control sk-hidden--visually\" id=\"sk-estimator-id-15\" type=\"checkbox\" ><label for=\"sk-estimator-id-15\" class=\"sk-toggleable__label fitted sk-toggleable__label-arrow\"><div><div>LogisticRegression</div></div><div><a class=\"sk-estimator-doc-link fitted\" rel=\"noreferrer\" target=\"_blank\" href=\"https://scikit-learn.org/1.6/modules/generated/sklearn.linear_model.LogisticRegression.html\">?<span>Documentation for LogisticRegression</span></a></div></label><div class=\"sk-toggleable__content fitted\"><pre>LogisticRegression(C=0.1, solver=&#x27;liblinear&#x27;)</pre></div> </div></div></div></div></div></div></div></div></div></div></div>"
      ],
      "text/plain": [
       "GridSearchCV(cv=5,\n",
       "             estimator=Pipeline(steps=[('preprocessor',\n",
       "                                        ColumnTransformer(transformers=[('num',\n",
       "                                                                         StandardScaler(),\n",
       "                                                                         Index(['year', 'cylinders', 'odometer', 'lat', 'long'], dtype='object')),\n",
       "                                                                        ('cat',\n",
       "                                                                         OneHotEncoder(handle_unknown='ignore'),\n",
       "                                                                         Index(['region', 'manufacturer', 'model', 'condition', 'fuel', 'title_status',\n",
       "       'transmission', 'drive', 'type', 'paint_color', 'state'],\n",
       "      dtype='object'))])),\n",
       "                                       ('classifier',\n",
       "                                        LogisticRegression(solver='liblinear'))]),\n",
       "             n_jobs=-1,\n",
       "             param_grid={'classifier__C': [0.01, 0.1, 1, 10, 100],\n",
       "                         'classifier__penalty': ['l1', 'l2']},\n",
       "             scoring='accuracy')"
      ]
     },
     "execution_count": 67,
     "metadata": {},
     "output_type": "execute_result"
    }
   ],
   "source": [
    "logistico_grid.fit(X_train, y_train)"
   ]
  },
  {
   "cell_type": "code",
   "execution_count": 68,
   "id": "39829b27",
   "metadata": {},
   "outputs": [
    {
     "name": "stdout",
     "output_type": "stream",
     "text": [
      "Mejores hiperparámetros encontrados:\n",
      "{'classifier__C': 0.1, 'classifier__penalty': 'l2'}\n",
      "\n",
      "Mejor score de validación:\n",
      "0.8625719783591659\n"
     ]
    }
   ],
   "source": [
    "print(\"Mejores hiperparámetros encontrados:\")\n",
    "print(logistico_grid.best_params_)\n",
    "\n",
    "print(\"\\nMejor score de validación:\")\n",
    "print(logistico_grid.best_score_)"
   ]
  },
  {
   "cell_type": "markdown",
   "id": "907a7272",
   "metadata": {},
   "source": [
    "Se imprimen los mejores parámetros encontrados, donde el valor óptimo de `C` es 0.1 y el tipo de regularización seleccionado es L2 (`penalty: 'l2'`). Además, se muestra el mejor puntaje de validación cruzada, que es de aproximadamente 0.862, lo que indica que el modelo tiene un buen desempeño general en términos de precisión."
   ]
  },
  {
   "cell_type": "code",
   "execution_count": 69,
   "id": "508cbb38",
   "metadata": {},
   "outputs": [],
   "source": [
    "y_pred = logistico_grid.predict(X_test)"
   ]
  },
  {
   "cell_type": "code",
   "execution_count": 70,
   "id": "ede11cf6",
   "metadata": {},
   "outputs": [
    {
     "name": "stdout",
     "output_type": "stream",
     "text": [
      "Matriz de confusión:\n",
      "[[33590  5096]\n",
      " [ 5569 33501]]\n",
      "\n",
      "Reporte de clasificación:\n",
      "              precision    recall  f1-score   support\n",
      "\n",
      "           0       0.86      0.87      0.86     38686\n",
      "           1       0.87      0.86      0.86     39070\n",
      "\n",
      "    accuracy                           0.86     77756\n",
      "   macro avg       0.86      0.86      0.86     77756\n",
      "weighted avg       0.86      0.86      0.86     77756\n",
      "\n"
     ]
    }
   ],
   "source": [
    "print(\"Matriz de confusión:\")\n",
    "print(confusion_matrix(y_test, y_pred))\n",
    "\n",
    "print(\"\\nReporte de clasificación:\")\n",
    "print(classification_report(y_test, y_pred))"
   ]
  },
  {
   "cell_type": "code",
   "execution_count": 71,
   "id": "9b1057e3",
   "metadata": {},
   "outputs": [
    {
     "name": "stdout",
     "output_type": "stream",
     "text": [
      "   Accuracy  Precision   Recall  F1-score\n",
      "0   0.86284   0.862902  0.86284  0.862839\n"
     ]
    }
   ],
   "source": [
    "# Calcular métricas\n",
    "accuracy = accuracy_score(y_test, y_pred)\n",
    "precision = precision_score(y_test, y_pred, average='weighted')\n",
    "recall = recall_score(y_test, y_pred, average='weighted')\n",
    "f1 = f1_score(y_test, y_pred, average='weighted')\n",
    "\n",
    "# Crear DataFrame\n",
    "metrics_df = pd.DataFrame({\n",
    "    'Accuracy': [accuracy],\n",
    "    'Precision': [precision],\n",
    "    'Recall': [recall],\n",
    "    'F1-score': [f1]\n",
    "})\n",
    "\n",
    "print(metrics_df)"
   ]
  },
  {
   "cell_type": "markdown",
   "id": "4a466dfd",
   "metadata": {},
   "source": [
    "El resultado de las predicciones se almacena en `y_pred`, listo para ser evaluado con métricas adicionales como la matriz de confusión, precisión, recall y F1-score, entre otras. El valor de `C` encontrado (0.1) y la regularización L2 sugieren que el modelo no está sobreajustado y puede generalizar bien en los datos de prueba, lo que es un buen indicativo de su capacidad predictiva."
   ]
  },
  {
   "cell_type": "code",
   "execution_count": 72,
   "id": "b3a0cd5c",
   "metadata": {},
   "outputs": [
    {
     "data": {
      "image/png": "[encoded data removed]",
      "text/plain": [
       "<Figure size 576x432 with 1 Axes>"
      ]
     },
     "metadata": {
      "needs_background": "light"
     },
     "output_type": "display_data"
    }
   ],
   "source": [
    "# Para la curva ROC y AUC, necesitás las probabilidades, no solo las predicciones\n",
    "y_proba = logistico_grid.predict_proba(X_test)[:, 1]  # Probabilidad de la clase positiva\n",
    "\n",
    "# Calcular FPR (False Positive Rate), TPR (True Positive Rate) y thresholds\n",
    "fpr, tpr, thresholds = roc_curve(y_test, y_proba)\n",
    "\n",
    "# Calcular AUC\n",
    "auc_score = roc_auc_score(y_test, y_proba)\n",
    "\n",
    "# Graficar la curva ROC\n",
    "plt.figure(figsize=(8, 6))\n",
    "plt.plot(fpr, tpr, label=f\"ROC Curve (AUC = {auc_score:.4f})\", color='blue')\n",
    "plt.plot([0, 1], [0, 1], linestyle='--', color='gray')  # Línea aleatoria\n",
    "plt.xlabel(\"False Positive Rate\")\n",
    "plt.ylabel(\"True Positive Rate\")\n",
    "plt.title(\"Curva ROC\")\n",
    "plt.legend(loc=\"lower right\")\n",
    "plt.grid()\n",
    "plt.show()"
   ]
  },
  {
   "cell_type": "markdown",
   "id": "417aa5cf",
   "metadata": {},
   "source": [
    "Se grafica la curva ROC, que muestra la relación entre la tasa de verdaderos positivos (TPR) y la tasa de falsos positivos (FPR) para distintos umbrales de decisión. La línea diagonal gris representa el rendimiento de un clasificador aleatorio, mientras que la curva azul indica el rendimiento del modelo entrenado. La curva se acerca rápidamente a la esquina superior izquierda, lo que significa que el modelo tiene una alta capacidad de discriminación, y la área bajo la curva (AUC) de 0.9329 refuerza la idea de que el modelo es muy efectivo en la clasificación. En general, la curva ROC y el AUC son indicadores de un excelente desempeño del modelo, lo que sugiere que tiene una buena capacidad para separar las clases."
   ]
  },
  {
   "cell_type": "markdown",
   "id": "571bc5ec",
   "metadata": {},
   "source": [
    "### ***1.2.1.2.2. Validación cruzada estratificada***"
   ]
  },
  {
   "cell_type": "markdown",
   "id": "5d8a0a84",
   "metadata": {},
   "source": [
    "Se construye un pipeline llamado `pipeline_logistico_vc` que encapsula dos pasos clave: el preprocesamiento de los datos (definido previamente como `preprocessor`) y un modelo de regresión logística con el solver `'liblinear'`, que es ideal para conjuntos de datos pequeños o con regularización L1."
   ]
  },
  {
   "cell_type": "code",
   "execution_count": 73,
   "id": "050b367e",
   "metadata": {},
   "outputs": [],
   "source": [
    "pipeline_logistico_vc = Pipeline(steps = [\n",
    "    (\"preprocessor\", preprocessor),\n",
    "    ('classifier', LogisticRegression(solver='liblinear'))\n",
    "])"
   ]
  },
  {
   "cell_type": "markdown",
   "id": "82a8a3d6",
   "metadata": {},
   "source": [
    "Aquí se define un diccionario llamado `param_grid` con los valores que se desean probar para los hiperparámetros del modelo: `C`, que controla la regularización, y `penalty`, que define el tipo de penalización (L1 o L2).\n"
   ]
  },
  {
   "cell_type": "code",
   "execution_count": 74,
   "id": "e92e4a5b",
   "metadata": {},
   "outputs": [],
   "source": [
    "param_grid = {\n",
    "    'classifier__C': [0.01, 0.1, 1, 10, 100],          # Regularización\n",
    "    'classifier__penalty': ['l1', 'l2']                # Tipos de penalización\n",
    "}\n",
    "\n",
    "logistico_vc = GridSearchCV(pipeline_logistico_vc, param_grid, cv=kf, scoring='accuracy', n_jobs=-1)"
   ]
  },
  {
   "cell_type": "markdown",
   "id": "8452abfb",
   "metadata": {},
   "source": [
    "Se crea un objeto `GridSearchCV` que toma como entrada el pipeline, el grid de hiperparámetros, la técnica de validación cruzada (k-fold estratificada), la métrica de evaluación (exactitud) y el parámetro `n_jobs=-1` para utilizar todos los núcleos disponibles del procesador. "
   ]
  },
  {
   "cell_type": "code",
   "execution_count": 75,
   "id": "a984f05d",
   "metadata": {},
   "outputs": [
    {
     "data": {
      "text/html": [
       "<style>#sk-container-id-3 {\n",
       "  /* Definition of color scheme common for light and dark mode */\n",
       "  --sklearn-color-text: #000;\n",
       "  --sklearn-color-text-muted: #666;\n",
       "  --sklearn-color-line: gray;\n",
       "  /* Definition of color scheme for unfitted estimators */\n",
       "  --sklearn-color-unfitted-level-0: #fff5e6;\n",
       "  --sklearn-color-unfitted-level-1: #f6e4d2;\n",
       "  --sklearn-color-unfitted-level-2: #ffe0b3;\n",
       "  --sklearn-color-unfitted-level-3: chocolate;\n",
       "  /* Definition of color scheme for fitted estimators */\n",
       "  --sklearn-color-fitted-level-0: #f0f8ff;\n",
       "  --sklearn-color-fitted-level-1: #d4ebff;\n",
       "  --sklearn-color-fitted-level-2: #b3dbfd;\n",
       "  --sklearn-color-fitted-level-3: cornflowerblue;\n",
       "\n",
       "  /* Specific color for light theme */\n",
       "  --sklearn-color-text-on-default-background: var(--sg-text-color, var(--theme-code-foreground, var(--jp-content-font-color1, black)));\n",
       "  --sklearn-color-background: var(--sg-background-color, var(--theme-background, var(--jp-layout-color0, white)));\n",
       "  --sklearn-color-border-box: var(--sg-text-color, var(--theme-code-foreground, var(--jp-content-font-color1, black)));\n",
       "  --sklearn-color-icon: #696969;\n",
       "\n",
       "  @media (prefers-color-scheme: dark) {\n",
       "    /* Redefinition of color scheme for dark theme */\n",
       "    --sklearn-color-text-on-default-background: var(--sg-text-color, var(--theme-code-foreground, var(--jp-content-font-color1, white)));\n",
       "    --sklearn-color-background: var(--sg-background-color, var(--theme-background, var(--jp-layout-color0, #111)));\n",
       "    --sklearn-color-border-box: var(--sg-text-color, var(--theme-code-foreground, var(--jp-content-font-color1, white)));\n",
       "    --sklearn-color-icon: #878787;\n",
       "  }\n",
       "}\n",
       "\n",
       "#sk-container-id-3 {\n",
       "  color: var(--sklearn-color-text);\n",
       "}\n",
       "\n",
       "#sk-container-id-3 pre {\n",
       "  padding: 0;\n",
       "}\n",
       "\n",
       "#sk-container-id-3 input.sk-hidden--visually {\n",
       "  border: 0;\n",
       "  clip: rect(1px 1px 1px 1px);\n",
       "  clip: rect(1px, 1px, 1px, 1px);\n",
       "  height: 1px;\n",
       "  margin: -1px;\n",
       "  overflow: hidden;\n",
       "  padding: 0;\n",
       "  position: absolute;\n",
       "  width: 1px;\n",
       "}\n",
       "\n",
       "#sk-container-id-3 div.sk-dashed-wrapped {\n",
       "  border: 1px dashed var(--sklearn-color-line);\n",
       "  margin: 0 0.4em 0.5em 0.4em;\n",
       "  box-sizing: border-box;\n",
       "  padding-bottom: 0.4em;\n",
       "  background-color: var(--sklearn-color-background);\n",
       "}\n",
       "\n",
       "#sk-container-id-3 div.sk-container {\n",
       "  /* jupyter's `normalize.less` sets `[hidden] { display: none; }`\n",
       "     but bootstrap.min.css set `[hidden] { display: none !important; }`\n",
       "     so we also need the `!important` here to be able to override the\n",
       "     default hidden behavior on the sphinx rendered scikit-learn.org.\n",
       "     See: https://github.com/scikit-learn/scikit-learn/issues/21755 */\n",
       "  display: inline-block !important;\n",
       "  position: relative;\n",
       "}\n",
       "\n",
       "#sk-container-id-3 div.sk-text-repr-fallback {\n",
       "  display: none;\n",
       "}\n",
       "\n",
       "div.sk-parallel-item,\n",
       "div.sk-serial,\n",
       "div.sk-item {\n",
       "  /* draw centered vertical line to link estimators */\n",
       "  background-image: linear-gradient(var(--sklearn-color-text-on-default-background), var(--sklearn-color-text-on-default-background));\n",
       "  background-size: 2px 100%;\n",
       "  background-repeat: no-repeat;\n",
       "  background-position: center center;\n",
       "}\n",
       "\n",
       "/* Parallel-specific style estimator block */\n",
       "\n",
       "#sk-container-id-3 div.sk-parallel-item::after {\n",
       "  content: \"\";\n",
       "  width: 100%;\n",
       "  border-bottom: 2px solid var(--sklearn-color-text-on-default-background);\n",
       "  flex-grow: 1;\n",
       "}\n",
       "\n",
       "#sk-container-id-3 div.sk-parallel {\n",
       "  display: flex;\n",
       "  align-items: stretch;\n",
       "  justify-content: center;\n",
       "  background-color: var(--sklearn-color-background);\n",
       "  position: relative;\n",
       "}\n",
       "\n",
       "#sk-container-id-3 div.sk-parallel-item {\n",
       "  display: flex;\n",
       "  flex-direction: column;\n",
       "}\n",
       "\n",
       "#sk-container-id-3 div.sk-parallel-item:first-child::after {\n",
       "  align-self: flex-end;\n",
       "  width: 50%;\n",
       "}\n",
       "\n",
       "#sk-container-id-3 div.sk-parallel-item:last-child::after {\n",
       "  align-self: flex-start;\n",
       "  width: 50%;\n",
       "}\n",
       "\n",
       "#sk-container-id-3 div.sk-parallel-item:only-child::after {\n",
       "  width: 0;\n",
       "}\n",
       "\n",
       "/* Serial-specific style estimator block */\n",
       "\n",
       "#sk-container-id-3 div.sk-serial {\n",
       "  display: flex;\n",
       "  flex-direction: column;\n",
       "  align-items: center;\n",
       "  background-color: var(--sklearn-color-background);\n",
       "  padding-right: 1em;\n",
       "  padding-left: 1em;\n",
       "}\n",
       "\n",
       "\n",
       "/* Toggleable style: style used for estimator/Pipeline/ColumnTransformer box that is\n",
       "clickable and can be expanded/collapsed.\n",
       "- Pipeline and ColumnTransformer use this feature and define the default style\n",
       "- Estimators will overwrite some part of the style using the `sk-estimator` class\n",
       "*/\n",
       "\n",
       "/* Pipeline and ColumnTransformer style (default) */\n",
       "\n",
       "#sk-container-id-3 div.sk-toggleable {\n",
       "  /* Default theme specific background. It is overwritten whether we have a\n",
       "  specific estimator or a Pipeline/ColumnTransformer */\n",
       "  background-color: var(--sklearn-color-background);\n",
       "}\n",
       "\n",
       "/* Toggleable label */\n",
       "#sk-container-id-3 label.sk-toggleable__label {\n",
       "  cursor: pointer;\n",
       "  display: flex;\n",
       "  width: 100%;\n",
       "  margin-bottom: 0;\n",
       "  padding: 0.5em;\n",
       "  box-sizing: border-box;\n",
       "  text-align: center;\n",
       "  align-items: start;\n",
       "  justify-content: space-between;\n",
       "  gap: 0.5em;\n",
       "}\n",
       "\n",
       "#sk-container-id-3 label.sk-toggleable__label .caption {\n",
       "  font-size: 0.6rem;\n",
       "  font-weight: lighter;\n",
       "  color: var(--sklearn-color-text-muted);\n",
       "}\n",
       "\n",
       "#sk-container-id-3 label.sk-toggleable__label-arrow:before {\n",
       "  /* Arrow on the left of the label */\n",
       "  content: \"▸\";\n",
       "  float: left;\n",
       "  margin-right: 0.25em;\n",
       "  color: var(--sklearn-color-icon);\n",
       "}\n",
       "\n",
       "#sk-container-id-3 label.sk-toggleable__label-arrow:hover:before {\n",
       "  color: var(--sklearn-color-text);\n",
       "}\n",
       "\n",
       "/* Toggleable content - dropdown */\n",
       "\n",
       "#sk-container-id-3 div.sk-toggleable__content {\n",
       "  max-height: 0;\n",
       "  max-width: 0;\n",
       "  overflow: hidden;\n",
       "  text-align: left;\n",
       "  /* unfitted */\n",
       "  background-color: var(--sklearn-color-unfitted-level-0);\n",
       "}\n",
       "\n",
       "#sk-container-id-3 div.sk-toggleable__content.fitted {\n",
       "  /* fitted */\n",
       "  background-color: var(--sklearn-color-fitted-level-0);\n",
       "}\n",
       "\n",
       "#sk-container-id-3 div.sk-toggleable__content pre {\n",
       "  margin: 0.2em;\n",
       "  border-radius: 0.25em;\n",
       "  color: var(--sklearn-color-text);\n",
       "  /* unfitted */\n",
       "  background-color: var(--sklearn-color-unfitted-level-0);\n",
       "}\n",
       "\n",
       "#sk-container-id-3 div.sk-toggleable__content.fitted pre {\n",
       "  /* unfitted */\n",
       "  background-color: var(--sklearn-color-fitted-level-0);\n",
       "}\n",
       "\n",
       "#sk-container-id-3 input.sk-toggleable__control:checked~div.sk-toggleable__content {\n",
       "  /* Expand drop-down */\n",
       "  max-height: 200px;\n",
       "  max-width: 100%;\n",
       "  overflow: auto;\n",
       "}\n",
       "\n",
       "#sk-container-id-3 input.sk-toggleable__control:checked~label.sk-toggleable__label-arrow:before {\n",
       "  content: \"▾\";\n",
       "}\n",
       "\n",
       "/* Pipeline/ColumnTransformer-specific style */\n",
       "\n",
       "#sk-container-id-3 div.sk-label input.sk-toggleable__control:checked~label.sk-toggleable__label {\n",
       "  color: var(--sklearn-color-text);\n",
       "  background-color: var(--sklearn-color-unfitted-level-2);\n",
       "}\n",
       "\n",
       "#sk-container-id-3 div.sk-label.fitted input.sk-toggleable__control:checked~label.sk-toggleable__label {\n",
       "  background-color: var(--sklearn-color-fitted-level-2);\n",
       "}\n",
       "\n",
       "/* Estimator-specific style */\n",
       "\n",
       "/* Colorize estimator box */\n",
       "#sk-container-id-3 div.sk-estimator input.sk-toggleable__control:checked~label.sk-toggleable__label {\n",
       "  /* unfitted */\n",
       "  background-color: var(--sklearn-color-unfitted-level-2);\n",
       "}\n",
       "\n",
       "#sk-container-id-3 div.sk-estimator.fitted input.sk-toggleable__control:checked~label.sk-toggleable__label {\n",
       "  /* fitted */\n",
       "  background-color: var(--sklearn-color-fitted-level-2);\n",
       "}\n",
       "\n",
       "#sk-container-id-3 div.sk-label label.sk-toggleable__label,\n",
       "#sk-container-id-3 div.sk-label label {\n",
       "  /* The background is the default theme color */\n",
       "  color: var(--sklearn-color-text-on-default-background);\n",
       "}\n",
       "\n",
       "/* On hover, darken the color of the background */\n",
       "#sk-container-id-3 div.sk-label:hover label.sk-toggleable__label {\n",
       "  color: var(--sklearn-color-text);\n",
       "  background-color: var(--sklearn-color-unfitted-level-2);\n",
       "}\n",
       "\n",
       "/* Label box, darken color on hover, fitted */\n",
       "#sk-container-id-3 div.sk-label.fitted:hover label.sk-toggleable__label.fitted {\n",
       "  color: var(--sklearn-color-text);\n",
       "  background-color: var(--sklearn-color-fitted-level-2);\n",
       "}\n",
       "\n",
       "/* Estimator label */\n",
       "\n",
       "#sk-container-id-3 div.sk-label label {\n",
       "  font-family: monospace;\n",
       "  font-weight: bold;\n",
       "  display: inline-block;\n",
       "  line-height: 1.2em;\n",
       "}\n",
       "\n",
       "#sk-container-id-3 div.sk-label-container {\n",
       "  text-align: center;\n",
       "}\n",
       "\n",
       "/* Estimator-specific */\n",
       "#sk-container-id-3 div.sk-estimator {\n",
       "  font-family: monospace;\n",
       "  border: 1px dotted var(--sklearn-color-border-box);\n",
       "  border-radius: 0.25em;\n",
       "  box-sizing: border-box;\n",
       "  margin-bottom: 0.5em;\n",
       "  /* unfitted */\n",
       "  background-color: var(--sklearn-color-unfitted-level-0);\n",
       "}\n",
       "\n",
       "#sk-container-id-3 div.sk-estimator.fitted {\n",
       "  /* fitted */\n",
       "  background-color: var(--sklearn-color-fitted-level-0);\n",
       "}\n",
       "\n",
       "/* on hover */\n",
       "#sk-container-id-3 div.sk-estimator:hover {\n",
       "  /* unfitted */\n",
       "  background-color: var(--sklearn-color-unfitted-level-2);\n",
       "}\n",
       "\n",
       "#sk-container-id-3 div.sk-estimator.fitted:hover {\n",
       "  /* fitted */\n",
       "  background-color: var(--sklearn-color-fitted-level-2);\n",
       "}\n",
       "\n",
       "/* Specification for estimator info (e.g. \"i\" and \"?\") */\n",
       "\n",
       "/* Common style for \"i\" and \"?\" */\n",
       "\n",
       ".sk-estimator-doc-link,\n",
       "a:link.sk-estimator-doc-link,\n",
       "a:visited.sk-estimator-doc-link {\n",
       "  float: right;\n",
       "  font-size: smaller;\n",
       "  line-height: 1em;\n",
       "  font-family: monospace;\n",
       "  background-color: var(--sklearn-color-background);\n",
       "  border-radius: 1em;\n",
       "  height: 1em;\n",
       "  width: 1em;\n",
       "  text-decoration: none !important;\n",
       "  margin-left: 0.5em;\n",
       "  text-align: center;\n",
       "  /* unfitted */\n",
       "  border: var(--sklearn-color-unfitted-level-1) 1pt solid;\n",
       "  color: var(--sklearn-color-unfitted-level-1);\n",
       "}\n",
       "\n",
       ".sk-estimator-doc-link.fitted,\n",
       "a:link.sk-estimator-doc-link.fitted,\n",
       "a:visited.sk-estimator-doc-link.fitted {\n",
       "  /* fitted */\n",
       "  border: var(--sklearn-color-fitted-level-1) 1pt solid;\n",
       "  color: var(--sklearn-color-fitted-level-1);\n",
       "}\n",
       "\n",
       "/* On hover */\n",
       "div.sk-estimator:hover .sk-estimator-doc-link:hover,\n",
       ".sk-estimator-doc-link:hover,\n",
       "div.sk-label-container:hover .sk-estimator-doc-link:hover,\n",
       ".sk-estimator-doc-link:hover {\n",
       "  /* unfitted */\n",
       "  background-color: var(--sklearn-color-unfitted-level-3);\n",
       "  color: var(--sklearn-color-background);\n",
       "  text-decoration: none;\n",
       "}\n",
       "\n",
       "div.sk-estimator.fitted:hover .sk-estimator-doc-link.fitted:hover,\n",
       ".sk-estimator-doc-link.fitted:hover,\n",
       "div.sk-label-container:hover .sk-estimator-doc-link.fitted:hover,\n",
       ".sk-estimator-doc-link.fitted:hover {\n",
       "  /* fitted */\n",
       "  background-color: var(--sklearn-color-fitted-level-3);\n",
       "  color: var(--sklearn-color-background);\n",
       "  text-decoration: none;\n",
       "}\n",
       "\n",
       "/* Span, style for the box shown on hovering the info icon */\n",
       ".sk-estimator-doc-link span {\n",
       "  display: none;\n",
       "  z-index: 9999;\n",
       "  position: relative;\n",
       "  font-weight: normal;\n",
       "  right: .2ex;\n",
       "  padding: .5ex;\n",
       "  margin: .5ex;\n",
       "  width: min-content;\n",
       "  min-width: 20ex;\n",
       "  max-width: 50ex;\n",
       "  color: var(--sklearn-color-text);\n",
       "  box-shadow: 2pt 2pt 4pt #999;\n",
       "  /* unfitted */\n",
       "  background: var(--sklearn-color-unfitted-level-0);\n",
       "  border: .5pt solid var(--sklearn-color-unfitted-level-3);\n",
       "}\n",
       "\n",
       ".sk-estimator-doc-link.fitted span {\n",
       "  /* fitted */\n",
       "  background: var(--sklearn-color-fitted-level-0);\n",
       "  border: var(--sklearn-color-fitted-level-3);\n",
       "}\n",
       "\n",
       ".sk-estimator-doc-link:hover span {\n",
       "  display: block;\n",
       "}\n",
       "\n",
       "/* \"?\"-specific style due to the `<a>` HTML tag */\n",
       "\n",
       "#sk-container-id-3 a.estimator_doc_link {\n",
       "  float: right;\n",
       "  font-size: 1rem;\n",
       "  line-height: 1em;\n",
       "  font-family: monospace;\n",
       "  background-color: var(--sklearn-color-background);\n",
       "  border-radius: 1rem;\n",
       "  height: 1rem;\n",
       "  width: 1rem;\n",
       "  text-decoration: none;\n",
       "  /* unfitted */\n",
       "  color: var(--sklearn-color-unfitted-level-1);\n",
       "  border: var(--sklearn-color-unfitted-level-1) 1pt solid;\n",
       "}\n",
       "\n",
       "#sk-container-id-3 a.estimator_doc_link.fitted {\n",
       "  /* fitted */\n",
       "  border: var(--sklearn-color-fitted-level-1) 1pt solid;\n",
       "  color: var(--sklearn-color-fitted-level-1);\n",
       "}\n",
       "\n",
       "/* On hover */\n",
       "#sk-container-id-3 a.estimator_doc_link:hover {\n",
       "  /* unfitted */\n",
       "  background-color: var(--sklearn-color-unfitted-level-3);\n",
       "  color: var(--sklearn-color-background);\n",
       "  text-decoration: none;\n",
       "}\n",
       "\n",
       "#sk-container-id-3 a.estimator_doc_link.fitted:hover {\n",
       "  /* fitted */\n",
       "  background-color: var(--sklearn-color-fitted-level-3);\n",
       "}\n",
       "</style><div id=\"sk-container-id-3\" class=\"sk-top-container\"><div class=\"sk-text-repr-fallback\"><pre>GridSearchCV(cv=KFold(n_splits=5, random_state=42, shuffle=True),\n",
       "             estimator=Pipeline(steps=[(&#x27;preprocessor&#x27;,\n",
       "                                        ColumnTransformer(transformers=[(&#x27;num&#x27;,\n",
       "                                                                         StandardScaler(),\n",
       "                                                                         Index([&#x27;year&#x27;, &#x27;cylinders&#x27;, &#x27;odometer&#x27;, &#x27;lat&#x27;, &#x27;long&#x27;], dtype=&#x27;object&#x27;)),\n",
       "                                                                        (&#x27;cat&#x27;,\n",
       "                                                                         OneHotEncoder(handle_unknown=&#x27;ignore&#x27;),\n",
       "                                                                         Index([&#x27;region&#x27;, &#x27;manufacturer&#x27;, &#x27;model&#x27;, &#x27;condition&#x27;, &#x27;fuel&#x27;, &#x27;title_status&#x27;,\n",
       "       &#x27;transmission&#x27;, &#x27;drive&#x27;, &#x27;type&#x27;, &#x27;paint_color&#x27;, &#x27;state&#x27;],\n",
       "      dtype=&#x27;object&#x27;))])),\n",
       "                                       (&#x27;classifier&#x27;,\n",
       "                                        LogisticRegression(solver=&#x27;liblinear&#x27;))]),\n",
       "             n_jobs=-1,\n",
       "             param_grid={&#x27;classifier__C&#x27;: [0.01, 0.1, 1, 10, 100],\n",
       "                         &#x27;classifier__penalty&#x27;: [&#x27;l1&#x27;, &#x27;l2&#x27;]},\n",
       "             scoring=&#x27;accuracy&#x27;)</pre><b>In a Jupyter environment, please rerun this cell to show the HTML representation or trust the notebook. <br />On GitHub, the HTML representation is unable to render, please try loading this page with nbviewer.org.</b></div><div class=\"sk-container\" hidden><div class=\"sk-item sk-dashed-wrapped\"><div class=\"sk-label-container\"><div class=\"sk-label fitted sk-toggleable\"><input class=\"sk-toggleable__control sk-hidden--visually\" id=\"sk-estimator-id-16\" type=\"checkbox\" ><label for=\"sk-estimator-id-16\" class=\"sk-toggleable__label fitted sk-toggleable__label-arrow\"><div><div>GridSearchCV</div></div><div><a class=\"sk-estimator-doc-link fitted\" rel=\"noreferrer\" target=\"_blank\" href=\"https://scikit-learn.org/1.6/modules/generated/sklearn.model_selection.GridSearchCV.html\">?<span>Documentation for GridSearchCV</span></a><span class=\"sk-estimator-doc-link fitted\">i<span>Fitted</span></span></div></label><div class=\"sk-toggleable__content fitted\"><pre>GridSearchCV(cv=KFold(n_splits=5, random_state=42, shuffle=True),\n",
       "             estimator=Pipeline(steps=[(&#x27;preprocessor&#x27;,\n",
       "                                        ColumnTransformer(transformers=[(&#x27;num&#x27;,\n",
       "                                                                         StandardScaler(),\n",
       "                                                                         Index([&#x27;year&#x27;, &#x27;cylinders&#x27;, &#x27;odometer&#x27;, &#x27;lat&#x27;, &#x27;long&#x27;], dtype=&#x27;object&#x27;)),\n",
       "                                                                        (&#x27;cat&#x27;,\n",
       "                                                                         OneHotEncoder(handle_unknown=&#x27;ignore&#x27;),\n",
       "                                                                         Index([&#x27;region&#x27;, &#x27;manufacturer&#x27;, &#x27;model&#x27;, &#x27;condition&#x27;, &#x27;fuel&#x27;, &#x27;title_status&#x27;,\n",
       "       &#x27;transmission&#x27;, &#x27;drive&#x27;, &#x27;type&#x27;, &#x27;paint_color&#x27;, &#x27;state&#x27;],\n",
       "      dtype=&#x27;object&#x27;))])),\n",
       "                                       (&#x27;classifier&#x27;,\n",
       "                                        LogisticRegression(solver=&#x27;liblinear&#x27;))]),\n",
       "             n_jobs=-1,\n",
       "             param_grid={&#x27;classifier__C&#x27;: [0.01, 0.1, 1, 10, 100],\n",
       "                         &#x27;classifier__penalty&#x27;: [&#x27;l1&#x27;, &#x27;l2&#x27;]},\n",
       "             scoring=&#x27;accuracy&#x27;)</pre></div> </div></div><div class=\"sk-parallel\"><div class=\"sk-parallel-item\"><div class=\"sk-item\"><div class=\"sk-label-container\"><div class=\"sk-label fitted sk-toggleable\"><input class=\"sk-toggleable__control sk-hidden--visually\" id=\"sk-estimator-id-17\" type=\"checkbox\" ><label for=\"sk-estimator-id-17\" class=\"sk-toggleable__label fitted sk-toggleable__label-arrow\"><div><div>best_estimator_: Pipeline</div></div></label><div class=\"sk-toggleable__content fitted\"><pre>Pipeline(steps=[(&#x27;preprocessor&#x27;,\n",
       "                 ColumnTransformer(transformers=[(&#x27;num&#x27;, StandardScaler(),\n",
       "                                                  Index([&#x27;year&#x27;, &#x27;cylinders&#x27;, &#x27;odometer&#x27;, &#x27;lat&#x27;, &#x27;long&#x27;], dtype=&#x27;object&#x27;)),\n",
       "                                                 (&#x27;cat&#x27;,\n",
       "                                                  OneHotEncoder(handle_unknown=&#x27;ignore&#x27;),\n",
       "                                                  Index([&#x27;region&#x27;, &#x27;manufacturer&#x27;, &#x27;model&#x27;, &#x27;condition&#x27;, &#x27;fuel&#x27;, &#x27;title_status&#x27;,\n",
       "       &#x27;transmission&#x27;, &#x27;drive&#x27;, &#x27;type&#x27;, &#x27;paint_color&#x27;, &#x27;state&#x27;],\n",
       "      dtype=&#x27;object&#x27;))])),\n",
       "                (&#x27;classifier&#x27;,\n",
       "                 LogisticRegression(C=0.1, penalty=&#x27;l1&#x27;, solver=&#x27;liblinear&#x27;))])</pre></div> </div></div><div class=\"sk-serial\"><div class=\"sk-item\"><div class=\"sk-serial\"><div class=\"sk-item sk-dashed-wrapped\"><div class=\"sk-label-container\"><div class=\"sk-label fitted sk-toggleable\"><input class=\"sk-toggleable__control sk-hidden--visually\" id=\"sk-estimator-id-18\" type=\"checkbox\" ><label for=\"sk-estimator-id-18\" class=\"sk-toggleable__label fitted sk-toggleable__label-arrow\"><div><div>preprocessor: ColumnTransformer</div></div><div><a class=\"sk-estimator-doc-link fitted\" rel=\"noreferrer\" target=\"_blank\" href=\"https://scikit-learn.org/1.6/modules/generated/sklearn.compose.ColumnTransformer.html\">?<span>Documentation for preprocessor: ColumnTransformer</span></a></div></label><div class=\"sk-toggleable__content fitted\"><pre>ColumnTransformer(transformers=[(&#x27;num&#x27;, StandardScaler(),\n",
       "                                 Index([&#x27;year&#x27;, &#x27;cylinders&#x27;, &#x27;odometer&#x27;, &#x27;lat&#x27;, &#x27;long&#x27;], dtype=&#x27;object&#x27;)),\n",
       "                                (&#x27;cat&#x27;, OneHotEncoder(handle_unknown=&#x27;ignore&#x27;),\n",
       "                                 Index([&#x27;region&#x27;, &#x27;manufacturer&#x27;, &#x27;model&#x27;, &#x27;condition&#x27;, &#x27;fuel&#x27;, &#x27;title_status&#x27;,\n",
       "       &#x27;transmission&#x27;, &#x27;drive&#x27;, &#x27;type&#x27;, &#x27;paint_color&#x27;, &#x27;state&#x27;],\n",
       "      dtype=&#x27;object&#x27;))])</pre></div> </div></div><div class=\"sk-parallel\"><div class=\"sk-parallel-item\"><div class=\"sk-item\"><div class=\"sk-label-container\"><div class=\"sk-label fitted sk-toggleable\"><input class=\"sk-toggleable__control sk-hidden--visually\" id=\"sk-estimator-id-19\" type=\"checkbox\" ><label for=\"sk-estimator-id-19\" class=\"sk-toggleable__label fitted sk-toggleable__label-arrow\"><div><div>num</div></div></label><div class=\"sk-toggleable__content fitted\"><pre>Index([&#x27;year&#x27;, &#x27;cylinders&#x27;, &#x27;odometer&#x27;, &#x27;lat&#x27;, &#x27;long&#x27;], dtype=&#x27;object&#x27;)</pre></div> </div></div><div class=\"sk-serial\"><div class=\"sk-item\"><div class=\"sk-estimator fitted sk-toggleable\"><input class=\"sk-toggleable__control sk-hidden--visually\" id=\"sk-estimator-id-20\" type=\"checkbox\" ><label for=\"sk-estimator-id-20\" class=\"sk-toggleable__label fitted sk-toggleable__label-arrow\"><div><div>StandardScaler</div></div><div><a class=\"sk-estimator-doc-link fitted\" rel=\"noreferrer\" target=\"_blank\" href=\"https://scikit-learn.org/1.6/modules/generated/sklearn.preprocessing.StandardScaler.html\">?<span>Documentation for StandardScaler</span></a></div></label><div class=\"sk-toggleable__content fitted\"><pre>StandardScaler()</pre></div> </div></div></div></div></div><div class=\"sk-parallel-item\"><div class=\"sk-item\"><div class=\"sk-label-container\"><div class=\"sk-label fitted sk-toggleable\"><input class=\"sk-toggleable__control sk-hidden--visually\" id=\"sk-estimator-id-21\" type=\"checkbox\" ><label for=\"sk-estimator-id-21\" class=\"sk-toggleable__label fitted sk-toggleable__label-arrow\"><div><div>cat</div></div></label><div class=\"sk-toggleable__content fitted\"><pre>Index([&#x27;region&#x27;, &#x27;manufacturer&#x27;, &#x27;model&#x27;, &#x27;condition&#x27;, &#x27;fuel&#x27;, &#x27;title_status&#x27;,\n",
       "       &#x27;transmission&#x27;, &#x27;drive&#x27;, &#x27;type&#x27;, &#x27;paint_color&#x27;, &#x27;state&#x27;],\n",
       "      dtype=&#x27;object&#x27;)</pre></div> </div></div><div class=\"sk-serial\"><div class=\"sk-item\"><div class=\"sk-estimator fitted sk-toggleable\"><input class=\"sk-toggleable__control sk-hidden--visually\" id=\"sk-estimator-id-22\" type=\"checkbox\" ><label for=\"sk-estimator-id-22\" class=\"sk-toggleable__label fitted sk-toggleable__label-arrow\"><div><div>OneHotEncoder</div></div><div><a class=\"sk-estimator-doc-link fitted\" rel=\"noreferrer\" target=\"_blank\" href=\"https://scikit-learn.org/1.6/modules/generated/sklearn.preprocessing.OneHotEncoder.html\">?<span>Documentation for OneHotEncoder</span></a></div></label><div class=\"sk-toggleable__content fitted\"><pre>OneHotEncoder(handle_unknown=&#x27;ignore&#x27;)</pre></div> </div></div></div></div></div></div></div><div class=\"sk-item\"><div class=\"sk-estimator fitted sk-toggleable\"><input class=\"sk-toggleable__control sk-hidden--visually\" id=\"sk-estimator-id-23\" type=\"checkbox\" ><label for=\"sk-estimator-id-23\" class=\"sk-toggleable__label fitted sk-toggleable__label-arrow\"><div><div>LogisticRegression</div></div><div><a class=\"sk-estimator-doc-link fitted\" rel=\"noreferrer\" target=\"_blank\" href=\"https://scikit-learn.org/1.6/modules/generated/sklearn.linear_model.LogisticRegression.html\">?<span>Documentation for LogisticRegression</span></a></div></label><div class=\"sk-toggleable__content fitted\"><pre>LogisticRegression(C=0.1, penalty=&#x27;l1&#x27;, solver=&#x27;liblinear&#x27;)</pre></div> </div></div></div></div></div></div></div></div></div></div></div>"
      ],
      "text/plain": [
       "GridSearchCV(cv=KFold(n_splits=5, random_state=42, shuffle=True),\n",
       "             estimator=Pipeline(steps=[('preprocessor',\n",
       "                                        ColumnTransformer(transformers=[('num',\n",
       "                                                                         StandardScaler(),\n",
       "                                                                         Index(['year', 'cylinders', 'odometer', 'lat', 'long'], dtype='object')),\n",
       "                                                                        ('cat',\n",
       "                                                                         OneHotEncoder(handle_unknown='ignore'),\n",
       "                                                                         Index(['region', 'manufacturer', 'model', 'condition', 'fuel', 'title_status',\n",
       "       'transmission', 'drive', 'type', 'paint_color', 'state'],\n",
       "      dtype='object'))])),\n",
       "                                       ('classifier',\n",
       "                                        LogisticRegression(solver='liblinear'))]),\n",
       "             n_jobs=-1,\n",
       "             param_grid={'classifier__C': [0.01, 0.1, 1, 10, 100],\n",
       "                         'classifier__penalty': ['l1', 'l2']},\n",
       "             scoring='accuracy')"
      ]
     },
     "execution_count": 75,
     "metadata": {},
     "output_type": "execute_result"
    }
   ],
   "source": [
    "logistico_vc.fit(X_train, y_train)"
   ]
  },
  {
   "cell_type": "markdown",
   "id": "1b83f92c",
   "metadata": {},
   "source": [
    "Se entrena el objeto `GridSearchCV` utilizando los datos de entrenamiento (`X_train`, `y_train`). Internamente, se aplicará la validación cruzada para cada combinación de hiperparámetros, ejecutando el preprocesamiento y entrenamiento en cada iteración. El resultado final será el modelo con el mejor rendimiento promedio entre las particiones.\n"
   ]
  },
  {
   "cell_type": "code",
   "execution_count": 76,
   "id": "f3c71f55",
   "metadata": {},
   "outputs": [
    {
     "name": "stdout",
     "output_type": "stream",
     "text": [
      "Mejores hiperparámetros encontrados:\n",
      "{'classifier__C': 0.1, 'classifier__penalty': 'l1'}\n",
      "\n",
      "Mejor score de validación:\n",
      "0.8623854974490591\n"
     ]
    }
   ],
   "source": [
    "print(\"Mejores hiperparámetros encontrados:\")\n",
    "print(logistico_vc.best_params_)\n",
    "\n",
    "print(\"\\nMejor score de validación:\")\n",
    "print(logistico_vc.best_score_)"
   ]
  },
  {
   "cell_type": "markdown",
   "id": "46595adc",
   "metadata": {},
   "source": [
    "En este caso, la mejor combinación fue `C=0.1` y penalización `'l1'`, con una exactitud de aproximadamente 86.24%, lo cual indica que el modelo es bastante preciso con esta configuración."
   ]
  },
  {
   "cell_type": "markdown",
   "id": "edce947c",
   "metadata": {},
   "source": [
    "Se usa el mejor modelo obtenido (`logistico_vc`) para hacer predicciones sobre los datos de prueba (`X_test`)."
   ]
  },
  {
   "cell_type": "code",
   "execution_count": 77,
   "id": "10b0e073",
   "metadata": {},
   "outputs": [],
   "source": [
    "y_pred = logistico_vc.predict(X_test)"
   ]
  },
  {
   "cell_type": "code",
   "execution_count": 78,
   "id": "a62743f7",
   "metadata": {},
   "outputs": [
    {
     "name": "stdout",
     "output_type": "stream",
     "text": [
      "Matriz de confusión:\n",
      "[[33613  5073]\n",
      " [ 5540 33530]]\n",
      "\n",
      "Reporte de clasificación:\n",
      "              precision    recall  f1-score   support\n",
      "\n",
      "           0       0.86      0.87      0.86     38686\n",
      "           1       0.87      0.86      0.86     39070\n",
      "\n",
      "    accuracy                           0.86     77756\n",
      "   macro avg       0.86      0.86      0.86     77756\n",
      "weighted avg       0.86      0.86      0.86     77756\n",
      "\n"
     ]
    }
   ],
   "source": [
    "print(\"Matriz de confusión:\")\n",
    "print(confusion_matrix(y_test, y_pred))\n",
    "\n",
    "print(\"\\nReporte de clasificación:\")\n",
    "print(classification_report(y_test, y_pred))"
   ]
  },
  {
   "cell_type": "markdown",
   "id": "03ba3054",
   "metadata": {},
   "source": [
    "En esta parte se muestran los resultados del modelo con una matriz de confusión y un reporte más detallado de cómo se desempeñó con cada clase. La matriz nos dice cuántas veces el modelo acertó o se equivocó al predecir cada categoría. Por ejemplo, clasificó correctamente más de 33 mil casos en ambas clases, pero también tuvo unos cuantos errores, lo cual es normal. El reporte que sigue muestra medidas como precisión, recall y F1-score para cada clase, y todos los valores están bastante parejos, cerca del 86 o 87%, lo cual indica que el modelo lo está haciendo bien en general y no está favoreciendo a una sola clase.\n"
   ]
  },
  {
   "cell_type": "code",
   "execution_count": 79,
   "id": "df462e6e",
   "metadata": {},
   "outputs": [
    {
     "name": "stdout",
     "output_type": "stream",
     "text": [
      "   Accuracy  Precision    Recall  F1-score\n",
      "0  0.863509   0.863569  0.863509  0.863508\n"
     ]
    }
   ],
   "source": [
    "# Calcular métricas\n",
    "accuracy = accuracy_score(y_test, y_pred)\n",
    "precision = precision_score(y_test, y_pred, average='weighted')\n",
    "recall = recall_score(y_test, y_pred, average='weighted')\n",
    "f1 = f1_score(y_test, y_pred, average='weighted')\n",
    "\n",
    "# Crear DataFrame\n",
    "metrics_df = pd.DataFrame({\n",
    "    'Accuracy': [accuracy],\n",
    "    'Precision': [precision],\n",
    "    'Recall': [recall],\n",
    "    'F1-score': [f1]\n",
    "})\n",
    "\n",
    "print(metrics_df)"
   ]
  },
  {
   "cell_type": "markdown",
   "id": "927df3a7",
   "metadata": {},
   "source": [
    "Acá lo que se hace es calcular esas mismas métricas pero de forma manual y luego ponerlas todas juntas en una pequeña tabla con `pandas` para tenerlas más ordenadas. Se calcula la precisión general, el recall, el F1-score y la accuracy, pero usando un promedio ponderado para que tenga en cuenta si alguna clase aparece más veces que otra. Al final, todas las métricas dan el mismo valor, más o menos 86.34%, lo que confirma que el modelo tiene un rendimiento bastante estable y consistente.\n"
   ]
  },
  {
   "cell_type": "code",
   "execution_count": 80,
   "id": "7dd4a645",
   "metadata": {},
   "outputs": [
    {
     "data": {
      "image/png": "[encoded data removed]",
      "text/plain": [
       "<Figure size 576x432 with 1 Axes>"
      ]
     },
     "metadata": {
      "needs_background": "light"
     },
     "output_type": "display_data"
    }
   ],
   "source": [
    "# Para la curva ROC y AUC, necesitás las probabilidades, no solo las predicciones\n",
    "y_proba = logistico_vc.predict_proba(X_test)[:, 1]  # Probabilidad de la clase positiva\n",
    "\n",
    "# Calcular FPR (False Positive Rate), TPR (True Positive Rate) y thresholds\n",
    "fpr, tpr, thresholds = roc_curve(y_test, y_proba)\n",
    "\n",
    "# Calcular AUC\n",
    "auc_score = roc_auc_score(y_test, y_proba)\n",
    "\n",
    "# Graficar la curva ROC\n",
    "plt.figure(figsize=(8, 6))\n",
    "plt.plot(fpr, tpr, label=f\"ROC Curve (AUC = {auc_score:.4f})\", color='blue')\n",
    "plt.plot([0, 1], [0, 1], linestyle='--', color='gray')  # Línea aleatoria\n",
    "plt.xlabel(\"False Positive Rate\")\n",
    "plt.ylabel(\"True Positive Rate\")\n",
    "plt.title(\"Curva ROC\")\n",
    "plt.legend(loc=\"lower right\")\n",
    "plt.grid()\n",
    "plt.show()"
   ]
  },
  {
   "cell_type": "markdown",
   "id": "b4e1a02c",
   "metadata": {},
   "source": [
    "Finalmente, se grafica la curva ROC con `matplotlib`, mostrando cómo se comporta el modelo frente a diferentes umbrales de decisión. La línea azul es el rendimiento real del modelo, mientras que la línea gris punteada representa un modelo aleatorio (es decir, sin habilidad para clasificar). Como la curva azul está claramente por encima de la línea aleatoria, eso confirma visualmente que el modelo es mucho mejor que adivinar al azar. Además, el AUC se muestra en la leyenda para dar una idea clara del rendimiento general.\n"
   ]
  }
 ],
 "metadata": {
  "kernelspec": {
   "display_name": "ml_venv",
   "language": "python",
   "name": "python3"
  },
  "language_info": {
   "codemirror_mode": {
    "name": "ipython",
    "version": 3
   },
   "file_extension": ".py",
   "mimetype": "text/x-python",
   "name": "python",
   "nbconvert_exporter": "python",
   "pygments_lexer": "ipython3",
   "version": "3.9.23"
  }
 },
 "nbformat": 4,
 "nbformat_minor": 5
}
