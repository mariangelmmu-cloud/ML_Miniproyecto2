{
 "cells": [
  {
   "cell_type": "markdown",
   "id": "f26bdd24",
   "metadata": {},
   "source": [
    "# ***Exploración Inicial y Manejo de Datos Faltantes***"
   ]
  },
  {
   "cell_type": "markdown",
   "id": "42069d0a",
   "metadata": {},
   "source": [
    "## **1. Importar Datos y librerías**"
   ]
  },
  {
   "cell_type": "code",
   "execution_count": 1,
   "id": "1bc0091c",
   "metadata": {},
   "outputs": [],
   "source": [
    "from sklearn.preprocessing import OrdinalEncoder\n",
    "import numpy as np\n",
    "import math\n",
    "from sklearn.experimental import enable_iterative_imputer\n",
    "from sklearn.impute import IterativeImputer\n",
    "from sklearn.preprocessing import PolynomialFeatures\n",
    "from sklearn.linear_model import LogisticRegression\n",
    "from sklearn.pipeline import Pipeline\n",
    "import missingno as msno \n",
    "from sklearn.ensemble import RandomForestClassifier\n",
    "from sklearn.linear_model import BayesianRidge\n",
    "import matplotlib.pyplot as plt\n",
    "plt.rcParams['text.usetex'] = False\n",
    "import seaborn as sns\n",
    "import pandas as pd\n",
    "import scipy.stats as stats\n",
    "from scipy.stats import kstest, chi2_contingency\n",
    "\n",
    "\n",
    "sns.set(style=\"whitegrid\")\n",
    "plt.rcParams[\"figure.figsize\"] = (10, 6)"
   ]
  },
  {
   "cell_type": "markdown",
   "id": "49a5ad69",
   "metadata": {},
   "source": [
    "En primer lugar, se importan las librerías a usar y la base de datos que se usará en el proyecto."
   ]
  },
  {
   "cell_type": "code",
   "execution_count": 2,
   "id": "54a9fa88",
   "metadata": {},
   "outputs": [],
   "source": [
    "df = pd.read_csv(\"vehicles.csv\")"
   ]
  },
  {
   "cell_type": "markdown",
   "id": "c25672d6",
   "metadata": {},
   "source": [
    "## **2. Observación de los datos**"
   ]
  },
  {
   "cell_type": "markdown",
   "id": "ce3acf5d",
   "metadata": {},
   "source": [
    "En esta sección, como lo insdica su título, se observarán los datos con el fin de determinar si hay errores de tabulación, NA's, errores en el typo de variables y demás. Solo se miran los datos desde lejos, para luego detallarlos y limpiarlos."
   ]
  },
  {
   "cell_type": "code",
   "execution_count": 3,
   "id": "7d234bf4",
   "metadata": {},
   "outputs": [
    {
     "name": "stdout",
     "output_type": "stream",
     "text": [
      "<class 'pandas.core.frame.DataFrame'>\n",
      "RangeIndex: 426880 entries, 0 to 426879\n",
      "Data columns (total 26 columns):\n",
      " #   Column        Non-Null Count   Dtype  \n",
      "---  ------        --------------   -----  \n",
      " 0   id            426880 non-null  int64  \n",
      " 1   url           426880 non-null  object \n",
      " 2   region        426880 non-null  object \n",
      " 3   region_url    426880 non-null  object \n",
      " 4   price         426880 non-null  int64  \n",
      " 5   year          425675 non-null  float64\n",
      " 6   manufacturer  409234 non-null  object \n",
      " 7   model         421603 non-null  object \n",
      " 8   condition     252776 non-null  object \n",
      " 9   cylinders     249202 non-null  object \n",
      " 10  fuel          423867 non-null  object \n",
      " 11  odometer      422480 non-null  float64\n",
      " 12  title_status  418638 non-null  object \n",
      " 13  transmission  424324 non-null  object \n",
      " 14  VIN           265838 non-null  object \n",
      " 15  drive         296313 non-null  object \n",
      " 16  size          120519 non-null  object \n",
      " 17  type          334022 non-null  object \n",
      " 18  paint_color   296677 non-null  object \n",
      " 19  image_url     426812 non-null  object \n",
      " 20  description   426810 non-null  object \n",
      " 21  county        0 non-null       float64\n",
      " 22  state         426880 non-null  object \n",
      " 23  lat           420331 non-null  float64\n",
      " 24  long          420331 non-null  float64\n",
      " 25  posting_date  426812 non-null  object \n",
      "dtypes: float64(5), int64(2), object(19)\n",
      "memory usage: 84.7+ MB\n"
     ]
    }
   ],
   "source": [
    "df.info()"
   ]
  },
  {
   "cell_type": "markdown",
   "id": "14ffb349",
   "metadata": {},
   "source": [
    "En primer lugar, se examina la base de datos en general. Note que la base tiene las siguientes `dimensiones: 426880 filas y 26 columnas`. A simple vista, el comando `.info()` indica que hay ciertas variables con datos faltantes y también se detectan ciertas variables como: `id`, `odometer` y `cylinders` tienen asignado un *tipo de variable que no corresponde con la naturaleza de la variable*. "
   ]
  },
  {
   "cell_type": "code",
   "execution_count": 4,
   "id": "2815c4ef",
   "metadata": {},
   "outputs": [
    {
     "data": {
      "text/html": [
       "<div>\n",
       "<style scoped>\n",
       "    .dataframe tbody tr th:only-of-type {\n",
       "        vertical-align: middle;\n",
       "    }\n",
       "\n",
       "    .dataframe tbody tr th {\n",
       "        vertical-align: top;\n",
       "    }\n",
       "\n",
       "    .dataframe thead th {\n",
       "        text-align: right;\n",
       "    }\n",
       "</style>\n",
       "<table border=\"1\" class=\"dataframe\">\n",
       "  <thead>\n",
       "    <tr style=\"text-align: right;\">\n",
       "      <th></th>\n",
       "      <th>id</th>\n",
       "      <th>url</th>\n",
       "      <th>region</th>\n",
       "      <th>region_url</th>\n",
       "      <th>price</th>\n",
       "      <th>year</th>\n",
       "      <th>manufacturer</th>\n",
       "      <th>model</th>\n",
       "      <th>condition</th>\n",
       "      <th>cylinders</th>\n",
       "      <th>fuel</th>\n",
       "      <th>odometer</th>\n",
       "      <th>title_status</th>\n",
       "      <th>transmission</th>\n",
       "      <th>VIN</th>\n",
       "      <th>drive</th>\n",
       "      <th>size</th>\n",
       "      <th>type</th>\n",
       "      <th>paint_color</th>\n",
       "      <th>image_url</th>\n",
       "      <th>description</th>\n",
       "      <th>county</th>\n",
       "      <th>state</th>\n",
       "      <th>lat</th>\n",
       "      <th>long</th>\n",
       "      <th>posting_date</th>\n",
       "    </tr>\n",
       "  </thead>\n",
       "  <tbody>\n",
       "    <tr>\n",
       "      <th>0</th>\n",
       "      <td>7222695916</td>\n",
       "      <td>https://prescott.craigslist.org/cto/d/prescott...</td>\n",
       "      <td>prescott</td>\n",
       "      <td>https://prescott.craigslist.org</td>\n",
       "      <td>6000</td>\n",
       "      <td>NaN</td>\n",
       "      <td>NaN</td>\n",
       "      <td>NaN</td>\n",
       "      <td>NaN</td>\n",
       "      <td>NaN</td>\n",
       "      <td>NaN</td>\n",
       "      <td>NaN</td>\n",
       "      <td>NaN</td>\n",
       "      <td>NaN</td>\n",
       "      <td>NaN</td>\n",
       "      <td>NaN</td>\n",
       "      <td>NaN</td>\n",
       "      <td>NaN</td>\n",
       "      <td>NaN</td>\n",
       "      <td>NaN</td>\n",
       "      <td>NaN</td>\n",
       "      <td>NaN</td>\n",
       "      <td>az</td>\n",
       "      <td>NaN</td>\n",
       "      <td>NaN</td>\n",
       "      <td>NaN</td>\n",
       "    </tr>\n",
       "    <tr>\n",
       "      <th>1</th>\n",
       "      <td>7218891961</td>\n",
       "      <td>https://fayar.craigslist.org/ctd/d/bentonville...</td>\n",
       "      <td>fayetteville</td>\n",
       "      <td>https://fayar.craigslist.org</td>\n",
       "      <td>11900</td>\n",
       "      <td>NaN</td>\n",
       "      <td>NaN</td>\n",
       "      <td>NaN</td>\n",
       "      <td>NaN</td>\n",
       "      <td>NaN</td>\n",
       "      <td>NaN</td>\n",
       "      <td>NaN</td>\n",
       "      <td>NaN</td>\n",
       "      <td>NaN</td>\n",
       "      <td>NaN</td>\n",
       "      <td>NaN</td>\n",
       "      <td>NaN</td>\n",
       "      <td>NaN</td>\n",
       "      <td>NaN</td>\n",
       "      <td>NaN</td>\n",
       "      <td>NaN</td>\n",
       "      <td>NaN</td>\n",
       "      <td>ar</td>\n",
       "      <td>NaN</td>\n",
       "      <td>NaN</td>\n",
       "      <td>NaN</td>\n",
       "    </tr>\n",
       "    <tr>\n",
       "      <th>2</th>\n",
       "      <td>7221797935</td>\n",
       "      <td>https://keys.craigslist.org/cto/d/summerland-k...</td>\n",
       "      <td>florida keys</td>\n",
       "      <td>https://keys.craigslist.org</td>\n",
       "      <td>21000</td>\n",
       "      <td>NaN</td>\n",
       "      <td>NaN</td>\n",
       "      <td>NaN</td>\n",
       "      <td>NaN</td>\n",
       "      <td>NaN</td>\n",
       "      <td>NaN</td>\n",
       "      <td>NaN</td>\n",
       "      <td>NaN</td>\n",
       "      <td>NaN</td>\n",
       "      <td>NaN</td>\n",
       "      <td>NaN</td>\n",
       "      <td>NaN</td>\n",
       "      <td>NaN</td>\n",
       "      <td>NaN</td>\n",
       "      <td>NaN</td>\n",
       "      <td>NaN</td>\n",
       "      <td>NaN</td>\n",
       "      <td>fl</td>\n",
       "      <td>NaN</td>\n",
       "      <td>NaN</td>\n",
       "      <td>NaN</td>\n",
       "    </tr>\n",
       "    <tr>\n",
       "      <th>3</th>\n",
       "      <td>7222270760</td>\n",
       "      <td>https://worcester.craigslist.org/cto/d/west-br...</td>\n",
       "      <td>worcester / central MA</td>\n",
       "      <td>https://worcester.craigslist.org</td>\n",
       "      <td>1500</td>\n",
       "      <td>NaN</td>\n",
       "      <td>NaN</td>\n",
       "      <td>NaN</td>\n",
       "      <td>NaN</td>\n",
       "      <td>NaN</td>\n",
       "      <td>NaN</td>\n",
       "      <td>NaN</td>\n",
       "      <td>NaN</td>\n",
       "      <td>NaN</td>\n",
       "      <td>NaN</td>\n",
       "      <td>NaN</td>\n",
       "      <td>NaN</td>\n",
       "      <td>NaN</td>\n",
       "      <td>NaN</td>\n",
       "      <td>NaN</td>\n",
       "      <td>NaN</td>\n",
       "      <td>NaN</td>\n",
       "      <td>ma</td>\n",
       "      <td>NaN</td>\n",
       "      <td>NaN</td>\n",
       "      <td>NaN</td>\n",
       "    </tr>\n",
       "    <tr>\n",
       "      <th>4</th>\n",
       "      <td>7210384030</td>\n",
       "      <td>https://greensboro.craigslist.org/cto/d/trinit...</td>\n",
       "      <td>greensboro</td>\n",
       "      <td>https://greensboro.craigslist.org</td>\n",
       "      <td>4900</td>\n",
       "      <td>NaN</td>\n",
       "      <td>NaN</td>\n",
       "      <td>NaN</td>\n",
       "      <td>NaN</td>\n",
       "      <td>NaN</td>\n",
       "      <td>NaN</td>\n",
       "      <td>NaN</td>\n",
       "      <td>NaN</td>\n",
       "      <td>NaN</td>\n",
       "      <td>NaN</td>\n",
       "      <td>NaN</td>\n",
       "      <td>NaN</td>\n",
       "      <td>NaN</td>\n",
       "      <td>NaN</td>\n",
       "      <td>NaN</td>\n",
       "      <td>NaN</td>\n",
       "      <td>NaN</td>\n",
       "      <td>nc</td>\n",
       "      <td>NaN</td>\n",
       "      <td>NaN</td>\n",
       "      <td>NaN</td>\n",
       "    </tr>\n",
       "  </tbody>\n",
       "</table>\n",
       "</div>"
      ],
      "text/plain": [
       "           id                                                url  \\\n",
       "0  7222695916  https://prescott.craigslist.org/cto/d/prescott...   \n",
       "1  7218891961  https://fayar.craigslist.org/ctd/d/bentonville...   \n",
       "2  7221797935  https://keys.craigslist.org/cto/d/summerland-k...   \n",
       "3  7222270760  https://worcester.craigslist.org/cto/d/west-br...   \n",
       "4  7210384030  https://greensboro.craigslist.org/cto/d/trinit...   \n",
       "\n",
       "                   region                         region_url  price  year  \\\n",
       "0                prescott    https://prescott.craigslist.org   6000   NaN   \n",
       "1            fayetteville       https://fayar.craigslist.org  11900   NaN   \n",
       "2            florida keys        https://keys.craigslist.org  21000   NaN   \n",
       "3  worcester / central MA   https://worcester.craigslist.org   1500   NaN   \n",
       "4              greensboro  https://greensboro.craigslist.org   4900   NaN   \n",
       "\n",
       "  manufacturer model condition cylinders fuel  odometer title_status  \\\n",
       "0          NaN   NaN       NaN       NaN  NaN       NaN          NaN   \n",
       "1          NaN   NaN       NaN       NaN  NaN       NaN          NaN   \n",
       "2          NaN   NaN       NaN       NaN  NaN       NaN          NaN   \n",
       "3          NaN   NaN       NaN       NaN  NaN       NaN          NaN   \n",
       "4          NaN   NaN       NaN       NaN  NaN       NaN          NaN   \n",
       "\n",
       "  transmission  VIN drive size type paint_color image_url description  county  \\\n",
       "0          NaN  NaN   NaN  NaN  NaN         NaN       NaN         NaN     NaN   \n",
       "1          NaN  NaN   NaN  NaN  NaN         NaN       NaN         NaN     NaN   \n",
       "2          NaN  NaN   NaN  NaN  NaN         NaN       NaN         NaN     NaN   \n",
       "3          NaN  NaN   NaN  NaN  NaN         NaN       NaN         NaN     NaN   \n",
       "4          NaN  NaN   NaN  NaN  NaN         NaN       NaN         NaN     NaN   \n",
       "\n",
       "  state  lat  long posting_date  \n",
       "0    az  NaN   NaN          NaN  \n",
       "1    ar  NaN   NaN          NaN  \n",
       "2    fl  NaN   NaN          NaN  \n",
       "3    ma  NaN   NaN          NaN  \n",
       "4    nc  NaN   NaN          NaN  "
      ]
     },
     "execution_count": 4,
     "metadata": {},
     "output_type": "execute_result"
    }
   ],
   "source": [
    "pd.set_option('display.max_columns', None)\n",
    "df.head()"
   ]
  },
  {
   "cell_type": "markdown",
   "id": "d79b5313",
   "metadata": {},
   "source": [
    "Observe que solo las 5 primeras columnas cuentan con valores diferentes a NaN, además de la variable state. "
   ]
  },
  {
   "cell_type": "code",
   "execution_count": 5,
   "id": "30fe1472",
   "metadata": {},
   "outputs": [
    {
     "data": {
      "text/html": [
       "<div>\n",
       "<style scoped>\n",
       "    .dataframe tbody tr th:only-of-type {\n",
       "        vertical-align: middle;\n",
       "    }\n",
       "\n",
       "    .dataframe tbody tr th {\n",
       "        vertical-align: top;\n",
       "    }\n",
       "\n",
       "    .dataframe thead th {\n",
       "        text-align: right;\n",
       "    }\n",
       "</style>\n",
       "<table border=\"1\" class=\"dataframe\">\n",
       "  <thead>\n",
       "    <tr style=\"text-align: right;\">\n",
       "      <th></th>\n",
       "      <th>id</th>\n",
       "      <th>url</th>\n",
       "      <th>region</th>\n",
       "      <th>region_url</th>\n",
       "      <th>price</th>\n",
       "      <th>year</th>\n",
       "      <th>manufacturer</th>\n",
       "      <th>model</th>\n",
       "      <th>condition</th>\n",
       "      <th>cylinders</th>\n",
       "      <th>fuel</th>\n",
       "      <th>odometer</th>\n",
       "      <th>title_status</th>\n",
       "      <th>transmission</th>\n",
       "      <th>VIN</th>\n",
       "      <th>drive</th>\n",
       "      <th>size</th>\n",
       "      <th>type</th>\n",
       "      <th>paint_color</th>\n",
       "      <th>image_url</th>\n",
       "      <th>description</th>\n",
       "      <th>county</th>\n",
       "      <th>state</th>\n",
       "      <th>lat</th>\n",
       "      <th>long</th>\n",
       "      <th>posting_date</th>\n",
       "    </tr>\n",
       "  </thead>\n",
       "  <tbody>\n",
       "    <tr>\n",
       "      <th>426875</th>\n",
       "      <td>7301591192</td>\n",
       "      <td>https://wyoming.craigslist.org/ctd/d/atlanta-2...</td>\n",
       "      <td>wyoming</td>\n",
       "      <td>https://wyoming.craigslist.org</td>\n",
       "      <td>23590</td>\n",
       "      <td>2019.0</td>\n",
       "      <td>nissan</td>\n",
       "      <td>maxima s sedan 4d</td>\n",
       "      <td>good</td>\n",
       "      <td>6 cylinders</td>\n",
       "      <td>gas</td>\n",
       "      <td>32226.0</td>\n",
       "      <td>clean</td>\n",
       "      <td>other</td>\n",
       "      <td>1N4AA6AV6KC367801</td>\n",
       "      <td>fwd</td>\n",
       "      <td>NaN</td>\n",
       "      <td>sedan</td>\n",
       "      <td>NaN</td>\n",
       "      <td>https://images.craigslist.org/00o0o_iiraFnHg8q...</td>\n",
       "      <td>Carvana is the safer way to buy a car During t...</td>\n",
       "      <td>NaN</td>\n",
       "      <td>wy</td>\n",
       "      <td>33.786500</td>\n",
       "      <td>-84.445400</td>\n",
       "      <td>2021-04-04T03:21:31-0600</td>\n",
       "    </tr>\n",
       "    <tr>\n",
       "      <th>426876</th>\n",
       "      <td>7301591187</td>\n",
       "      <td>https://wyoming.craigslist.org/ctd/d/atlanta-2...</td>\n",
       "      <td>wyoming</td>\n",
       "      <td>https://wyoming.craigslist.org</td>\n",
       "      <td>30590</td>\n",
       "      <td>2020.0</td>\n",
       "      <td>volvo</td>\n",
       "      <td>s60 t5 momentum sedan 4d</td>\n",
       "      <td>good</td>\n",
       "      <td>NaN</td>\n",
       "      <td>gas</td>\n",
       "      <td>12029.0</td>\n",
       "      <td>clean</td>\n",
       "      <td>other</td>\n",
       "      <td>7JR102FKXLG042696</td>\n",
       "      <td>fwd</td>\n",
       "      <td>NaN</td>\n",
       "      <td>sedan</td>\n",
       "      <td>red</td>\n",
       "      <td>https://images.craigslist.org/00x0x_15sbgnxCIS...</td>\n",
       "      <td>Carvana is the safer way to buy a car During t...</td>\n",
       "      <td>NaN</td>\n",
       "      <td>wy</td>\n",
       "      <td>33.786500</td>\n",
       "      <td>-84.445400</td>\n",
       "      <td>2021-04-04T03:21:29-0600</td>\n",
       "    </tr>\n",
       "    <tr>\n",
       "      <th>426877</th>\n",
       "      <td>7301591147</td>\n",
       "      <td>https://wyoming.craigslist.org/ctd/d/atlanta-2...</td>\n",
       "      <td>wyoming</td>\n",
       "      <td>https://wyoming.craigslist.org</td>\n",
       "      <td>34990</td>\n",
       "      <td>2020.0</td>\n",
       "      <td>cadillac</td>\n",
       "      <td>xt4 sport suv 4d</td>\n",
       "      <td>good</td>\n",
       "      <td>NaN</td>\n",
       "      <td>diesel</td>\n",
       "      <td>4174.0</td>\n",
       "      <td>clean</td>\n",
       "      <td>other</td>\n",
       "      <td>1GYFZFR46LF088296</td>\n",
       "      <td>NaN</td>\n",
       "      <td>NaN</td>\n",
       "      <td>hatchback</td>\n",
       "      <td>white</td>\n",
       "      <td>https://images.craigslist.org/00L0L_farM7bxnxR...</td>\n",
       "      <td>Carvana is the safer way to buy a car During t...</td>\n",
       "      <td>NaN</td>\n",
       "      <td>wy</td>\n",
       "      <td>33.779214</td>\n",
       "      <td>-84.411811</td>\n",
       "      <td>2021-04-04T03:21:17-0600</td>\n",
       "    </tr>\n",
       "    <tr>\n",
       "      <th>426878</th>\n",
       "      <td>7301591140</td>\n",
       "      <td>https://wyoming.craigslist.org/ctd/d/atlanta-2...</td>\n",
       "      <td>wyoming</td>\n",
       "      <td>https://wyoming.craigslist.org</td>\n",
       "      <td>28990</td>\n",
       "      <td>2018.0</td>\n",
       "      <td>lexus</td>\n",
       "      <td>es 350 sedan 4d</td>\n",
       "      <td>good</td>\n",
       "      <td>6 cylinders</td>\n",
       "      <td>gas</td>\n",
       "      <td>30112.0</td>\n",
       "      <td>clean</td>\n",
       "      <td>other</td>\n",
       "      <td>58ABK1GG4JU103853</td>\n",
       "      <td>fwd</td>\n",
       "      <td>NaN</td>\n",
       "      <td>sedan</td>\n",
       "      <td>silver</td>\n",
       "      <td>https://images.craigslist.org/00z0z_bKnIVGLkDT...</td>\n",
       "      <td>Carvana is the safer way to buy a car During t...</td>\n",
       "      <td>NaN</td>\n",
       "      <td>wy</td>\n",
       "      <td>33.786500</td>\n",
       "      <td>-84.445400</td>\n",
       "      <td>2021-04-04T03:21:11-0600</td>\n",
       "    </tr>\n",
       "    <tr>\n",
       "      <th>426879</th>\n",
       "      <td>7301591129</td>\n",
       "      <td>https://wyoming.craigslist.org/ctd/d/atlanta-2...</td>\n",
       "      <td>wyoming</td>\n",
       "      <td>https://wyoming.craigslist.org</td>\n",
       "      <td>30590</td>\n",
       "      <td>2019.0</td>\n",
       "      <td>bmw</td>\n",
       "      <td>4 series 430i gran coupe</td>\n",
       "      <td>good</td>\n",
       "      <td>NaN</td>\n",
       "      <td>gas</td>\n",
       "      <td>22716.0</td>\n",
       "      <td>clean</td>\n",
       "      <td>other</td>\n",
       "      <td>WBA4J1C58KBM14708</td>\n",
       "      <td>rwd</td>\n",
       "      <td>NaN</td>\n",
       "      <td>coupe</td>\n",
       "      <td>NaN</td>\n",
       "      <td>https://images.craigslist.org/00Y0Y_lEUocjyRxa...</td>\n",
       "      <td>Carvana is the safer way to buy a car During t...</td>\n",
       "      <td>NaN</td>\n",
       "      <td>wy</td>\n",
       "      <td>33.779214</td>\n",
       "      <td>-84.411811</td>\n",
       "      <td>2021-04-04T03:21:07-0600</td>\n",
       "    </tr>\n",
       "  </tbody>\n",
       "</table>\n",
       "</div>"
      ],
      "text/plain": [
       "                id                                                url  \\\n",
       "426875  7301591192  https://wyoming.craigslist.org/ctd/d/atlanta-2...   \n",
       "426876  7301591187  https://wyoming.craigslist.org/ctd/d/atlanta-2...   \n",
       "426877  7301591147  https://wyoming.craigslist.org/ctd/d/atlanta-2...   \n",
       "426878  7301591140  https://wyoming.craigslist.org/ctd/d/atlanta-2...   \n",
       "426879  7301591129  https://wyoming.craigslist.org/ctd/d/atlanta-2...   \n",
       "\n",
       "         region                      region_url  price    year manufacturer  \\\n",
       "426875  wyoming  https://wyoming.craigslist.org  23590  2019.0       nissan   \n",
       "426876  wyoming  https://wyoming.craigslist.org  30590  2020.0        volvo   \n",
       "426877  wyoming  https://wyoming.craigslist.org  34990  2020.0     cadillac   \n",
       "426878  wyoming  https://wyoming.craigslist.org  28990  2018.0        lexus   \n",
       "426879  wyoming  https://wyoming.craigslist.org  30590  2019.0          bmw   \n",
       "\n",
       "                           model condition    cylinders    fuel  odometer  \\\n",
       "426875         maxima s sedan 4d      good  6 cylinders     gas   32226.0   \n",
       "426876  s60 t5 momentum sedan 4d      good          NaN     gas   12029.0   \n",
       "426877          xt4 sport suv 4d      good          NaN  diesel    4174.0   \n",
       "426878           es 350 sedan 4d      good  6 cylinders     gas   30112.0   \n",
       "426879  4 series 430i gran coupe      good          NaN     gas   22716.0   \n",
       "\n",
       "       title_status transmission                VIN drive size       type  \\\n",
       "426875        clean        other  1N4AA6AV6KC367801   fwd  NaN      sedan   \n",
       "426876        clean        other  7JR102FKXLG042696   fwd  NaN      sedan   \n",
       "426877        clean        other  1GYFZFR46LF088296   NaN  NaN  hatchback   \n",
       "426878        clean        other  58ABK1GG4JU103853   fwd  NaN      sedan   \n",
       "426879        clean        other  WBA4J1C58KBM14708   rwd  NaN      coupe   \n",
       "\n",
       "       paint_color                                          image_url  \\\n",
       "426875         NaN  https://images.craigslist.org/00o0o_iiraFnHg8q...   \n",
       "426876         red  https://images.craigslist.org/00x0x_15sbgnxCIS...   \n",
       "426877       white  https://images.craigslist.org/00L0L_farM7bxnxR...   \n",
       "426878      silver  https://images.craigslist.org/00z0z_bKnIVGLkDT...   \n",
       "426879         NaN  https://images.craigslist.org/00Y0Y_lEUocjyRxa...   \n",
       "\n",
       "                                              description  county state  \\\n",
       "426875  Carvana is the safer way to buy a car During t...     NaN    wy   \n",
       "426876  Carvana is the safer way to buy a car During t...     NaN    wy   \n",
       "426877  Carvana is the safer way to buy a car During t...     NaN    wy   \n",
       "426878  Carvana is the safer way to buy a car During t...     NaN    wy   \n",
       "426879  Carvana is the safer way to buy a car During t...     NaN    wy   \n",
       "\n",
       "              lat       long              posting_date  \n",
       "426875  33.786500 -84.445400  2021-04-04T03:21:31-0600  \n",
       "426876  33.786500 -84.445400  2021-04-04T03:21:29-0600  \n",
       "426877  33.779214 -84.411811  2021-04-04T03:21:17-0600  \n",
       "426878  33.786500 -84.445400  2021-04-04T03:21:11-0600  \n",
       "426879  33.779214 -84.411811  2021-04-04T03:21:07-0600  "
      ]
     },
     "execution_count": 5,
     "metadata": {},
     "output_type": "execute_result"
    }
   ],
   "source": [
    "pd.set_option('display.max_columns', None)\n",
    "df.tail()"
   ]
  },
  {
   "cell_type": "markdown",
   "id": "38724e7a",
   "metadata": {},
   "source": [
    "Podemos observar la presencia de valores faltantes en nuestras variables. En particular, la variable `cylinders` se identifican registros con la estructura ***#numero***_**cylinders**, lo cual requieren ser transformados para su adecuado tratamiento, dado que en este estudio será analizada como una variable numérica."
   ]
  },
  {
   "cell_type": "markdown",
   "id": "30b55d53",
   "metadata": {},
   "source": [
    "## **3. Limpieza de datos**"
   ]
  },
  {
   "cell_type": "markdown",
   "id": "bbee826e",
   "metadata": {},
   "source": [
    "### ***3.1. Elimicación de variables irrelevantes***"
   ]
  },
  {
   "cell_type": "code",
   "execution_count": 6,
   "id": "01c1a79d",
   "metadata": {},
   "outputs": [
    {
     "data": {
      "text/html": [
       "<div>\n",
       "<style scoped>\n",
       "    .dataframe tbody tr th:only-of-type {\n",
       "        vertical-align: middle;\n",
       "    }\n",
       "\n",
       "    .dataframe tbody tr th {\n",
       "        vertical-align: top;\n",
       "    }\n",
       "\n",
       "    .dataframe thead th {\n",
       "        text-align: right;\n",
       "    }\n",
       "</style>\n",
       "<table border=\"1\" class=\"dataframe\">\n",
       "  <thead>\n",
       "    <tr style=\"text-align: right;\">\n",
       "      <th></th>\n",
       "      <th>region</th>\n",
       "      <th>price</th>\n",
       "      <th>year</th>\n",
       "      <th>manufacturer</th>\n",
       "      <th>model</th>\n",
       "      <th>condition</th>\n",
       "      <th>cylinders</th>\n",
       "      <th>fuel</th>\n",
       "      <th>odometer</th>\n",
       "      <th>title_status</th>\n",
       "      <th>transmission</th>\n",
       "      <th>VIN</th>\n",
       "      <th>drive</th>\n",
       "      <th>size</th>\n",
       "      <th>type</th>\n",
       "      <th>paint_color</th>\n",
       "      <th>county</th>\n",
       "      <th>state</th>\n",
       "      <th>lat</th>\n",
       "      <th>long</th>\n",
       "    </tr>\n",
       "  </thead>\n",
       "  <tbody>\n",
       "    <tr>\n",
       "      <th>0</th>\n",
       "      <td>prescott</td>\n",
       "      <td>6000</td>\n",
       "      <td>NaN</td>\n",
       "      <td>NaN</td>\n",
       "      <td>NaN</td>\n",
       "      <td>NaN</td>\n",
       "      <td>NaN</td>\n",
       "      <td>NaN</td>\n",
       "      <td>NaN</td>\n",
       "      <td>NaN</td>\n",
       "      <td>NaN</td>\n",
       "      <td>NaN</td>\n",
       "      <td>NaN</td>\n",
       "      <td>NaN</td>\n",
       "      <td>NaN</td>\n",
       "      <td>NaN</td>\n",
       "      <td>NaN</td>\n",
       "      <td>az</td>\n",
       "      <td>NaN</td>\n",
       "      <td>NaN</td>\n",
       "    </tr>\n",
       "    <tr>\n",
       "      <th>1</th>\n",
       "      <td>fayetteville</td>\n",
       "      <td>11900</td>\n",
       "      <td>NaN</td>\n",
       "      <td>NaN</td>\n",
       "      <td>NaN</td>\n",
       "      <td>NaN</td>\n",
       "      <td>NaN</td>\n",
       "      <td>NaN</td>\n",
       "      <td>NaN</td>\n",
       "      <td>NaN</td>\n",
       "      <td>NaN</td>\n",
       "      <td>NaN</td>\n",
       "      <td>NaN</td>\n",
       "      <td>NaN</td>\n",
       "      <td>NaN</td>\n",
       "      <td>NaN</td>\n",
       "      <td>NaN</td>\n",
       "      <td>ar</td>\n",
       "      <td>NaN</td>\n",
       "      <td>NaN</td>\n",
       "    </tr>\n",
       "    <tr>\n",
       "      <th>2</th>\n",
       "      <td>florida keys</td>\n",
       "      <td>21000</td>\n",
       "      <td>NaN</td>\n",
       "      <td>NaN</td>\n",
       "      <td>NaN</td>\n",
       "      <td>NaN</td>\n",
       "      <td>NaN</td>\n",
       "      <td>NaN</td>\n",
       "      <td>NaN</td>\n",
       "      <td>NaN</td>\n",
       "      <td>NaN</td>\n",
       "      <td>NaN</td>\n",
       "      <td>NaN</td>\n",
       "      <td>NaN</td>\n",
       "      <td>NaN</td>\n",
       "      <td>NaN</td>\n",
       "      <td>NaN</td>\n",
       "      <td>fl</td>\n",
       "      <td>NaN</td>\n",
       "      <td>NaN</td>\n",
       "    </tr>\n",
       "    <tr>\n",
       "      <th>3</th>\n",
       "      <td>worcester / central MA</td>\n",
       "      <td>1500</td>\n",
       "      <td>NaN</td>\n",
       "      <td>NaN</td>\n",
       "      <td>NaN</td>\n",
       "      <td>NaN</td>\n",
       "      <td>NaN</td>\n",
       "      <td>NaN</td>\n",
       "      <td>NaN</td>\n",
       "      <td>NaN</td>\n",
       "      <td>NaN</td>\n",
       "      <td>NaN</td>\n",
       "      <td>NaN</td>\n",
       "      <td>NaN</td>\n",
       "      <td>NaN</td>\n",
       "      <td>NaN</td>\n",
       "      <td>NaN</td>\n",
       "      <td>ma</td>\n",
       "      <td>NaN</td>\n",
       "      <td>NaN</td>\n",
       "    </tr>\n",
       "    <tr>\n",
       "      <th>4</th>\n",
       "      <td>greensboro</td>\n",
       "      <td>4900</td>\n",
       "      <td>NaN</td>\n",
       "      <td>NaN</td>\n",
       "      <td>NaN</td>\n",
       "      <td>NaN</td>\n",
       "      <td>NaN</td>\n",
       "      <td>NaN</td>\n",
       "      <td>NaN</td>\n",
       "      <td>NaN</td>\n",
       "      <td>NaN</td>\n",
       "      <td>NaN</td>\n",
       "      <td>NaN</td>\n",
       "      <td>NaN</td>\n",
       "      <td>NaN</td>\n",
       "      <td>NaN</td>\n",
       "      <td>NaN</td>\n",
       "      <td>nc</td>\n",
       "      <td>NaN</td>\n",
       "      <td>NaN</td>\n",
       "    </tr>\n",
       "  </tbody>\n",
       "</table>\n",
       "</div>"
      ],
      "text/plain": [
       "                   region  price  year manufacturer model condition cylinders  \\\n",
       "0                prescott   6000   NaN          NaN   NaN       NaN       NaN   \n",
       "1            fayetteville  11900   NaN          NaN   NaN       NaN       NaN   \n",
       "2            florida keys  21000   NaN          NaN   NaN       NaN       NaN   \n",
       "3  worcester / central MA   1500   NaN          NaN   NaN       NaN       NaN   \n",
       "4              greensboro   4900   NaN          NaN   NaN       NaN       NaN   \n",
       "\n",
       "  fuel  odometer title_status transmission  VIN drive size type paint_color  \\\n",
       "0  NaN       NaN          NaN          NaN  NaN   NaN  NaN  NaN         NaN   \n",
       "1  NaN       NaN          NaN          NaN  NaN   NaN  NaN  NaN         NaN   \n",
       "2  NaN       NaN          NaN          NaN  NaN   NaN  NaN  NaN         NaN   \n",
       "3  NaN       NaN          NaN          NaN  NaN   NaN  NaN  NaN         NaN   \n",
       "4  NaN       NaN          NaN          NaN  NaN   NaN  NaN  NaN         NaN   \n",
       "\n",
       "   county state  lat  long  \n",
       "0     NaN    az  NaN   NaN  \n",
       "1     NaN    ar  NaN   NaN  \n",
       "2     NaN    fl  NaN   NaN  \n",
       "3     NaN    ma  NaN   NaN  \n",
       "4     NaN    nc  NaN   NaN  "
      ]
     },
     "execution_count": 6,
     "metadata": {},
     "output_type": "execute_result"
    }
   ],
   "source": [
    "df=df.drop([ \"url\", \"region_url\", \"image_url\", \"description\", \"posting_date\", \"id\"],axis=1)\n",
    "\n",
    "pd.set_option('display.max_columns', None)\n",
    "df.head()"
   ]
  },
  {
   "cell_type": "markdown",
   "id": "61819a3d",
   "metadata": {},
   "source": [
    "### ***3.2. Transformación de variables:*** "
   ]
  },
  {
   "cell_type": "markdown",
   "id": "73de63f6",
   "metadata": {},
   "source": [
    "En esta sección se corregirá la tabulación de la variable `cylinders`. En el vistazo que se le hizo a la base de datos, se encontró que esta variable debe ser de naturaleza numérica, pero esta está digitada por catgorías, por lo que se corregirá la tabulación."
   ]
  },
  {
   "cell_type": "code",
   "execution_count": 7,
   "id": "f2a7ab25",
   "metadata": {},
   "outputs": [
    {
     "data": {
      "text/plain": [
       "array([nan, '8 cylinders', '6 cylinders', '4 cylinders', '5 cylinders',\n",
       "       'other', '3 cylinders', '10 cylinders', '12 cylinders'],\n",
       "      dtype=object)"
      ]
     },
     "execution_count": 7,
     "metadata": {},
     "output_type": "execute_result"
    }
   ],
   "source": [
    "df[\"cylinders\"].unique()"
   ]
  },
  {
   "cell_type": "code",
   "execution_count": 8,
   "id": "ef6256bb",
   "metadata": {},
   "outputs": [],
   "source": [
    "def resumen_categorias(df, columna):\n",
    "    conteo = df[columna].value_counts(dropna=False)\n",
    "    porcentaje = (conteo / len(df)) * 100\n",
    "\n",
    "    tabla = pd.DataFrame({\n",
    "        'Conteo': conteo,\n",
    "        'Porcentaje (%)': porcentaje.round(2)\n",
    "    })\n",
    "\n",
    "    return tabla"
   ]
  },
  {
   "cell_type": "code",
   "execution_count": 9,
   "id": "6431496f",
   "metadata": {},
   "outputs": [
    {
     "data": {
      "text/html": [
       "<div>\n",
       "<style scoped>\n",
       "    .dataframe tbody tr th:only-of-type {\n",
       "        vertical-align: middle;\n",
       "    }\n",
       "\n",
       "    .dataframe tbody tr th {\n",
       "        vertical-align: top;\n",
       "    }\n",
       "\n",
       "    .dataframe thead th {\n",
       "        text-align: right;\n",
       "    }\n",
       "</style>\n",
       "<table border=\"1\" class=\"dataframe\">\n",
       "  <thead>\n",
       "    <tr style=\"text-align: right;\">\n",
       "      <th></th>\n",
       "      <th>Conteo</th>\n",
       "      <th>Porcentaje (%)</th>\n",
       "    </tr>\n",
       "  </thead>\n",
       "  <tbody>\n",
       "    <tr>\n",
       "      <th>NaN</th>\n",
       "      <td>177678</td>\n",
       "      <td>41.62</td>\n",
       "    </tr>\n",
       "    <tr>\n",
       "      <th>6 cylinders</th>\n",
       "      <td>94169</td>\n",
       "      <td>22.06</td>\n",
       "    </tr>\n",
       "    <tr>\n",
       "      <th>4 cylinders</th>\n",
       "      <td>77642</td>\n",
       "      <td>18.19</td>\n",
       "    </tr>\n",
       "    <tr>\n",
       "      <th>8 cylinders</th>\n",
       "      <td>72062</td>\n",
       "      <td>16.88</td>\n",
       "    </tr>\n",
       "    <tr>\n",
       "      <th>5 cylinders</th>\n",
       "      <td>1712</td>\n",
       "      <td>0.40</td>\n",
       "    </tr>\n",
       "    <tr>\n",
       "      <th>10 cylinders</th>\n",
       "      <td>1455</td>\n",
       "      <td>0.34</td>\n",
       "    </tr>\n",
       "    <tr>\n",
       "      <th>other</th>\n",
       "      <td>1298</td>\n",
       "      <td>0.30</td>\n",
       "    </tr>\n",
       "    <tr>\n",
       "      <th>3 cylinders</th>\n",
       "      <td>655</td>\n",
       "      <td>0.15</td>\n",
       "    </tr>\n",
       "    <tr>\n",
       "      <th>12 cylinders</th>\n",
       "      <td>209</td>\n",
       "      <td>0.05</td>\n",
       "    </tr>\n",
       "  </tbody>\n",
       "</table>\n",
       "</div>"
      ],
      "text/plain": [
       "              Conteo  Porcentaje (%)\n",
       "NaN           177678           41.62\n",
       "6 cylinders    94169           22.06\n",
       "4 cylinders    77642           18.19\n",
       "8 cylinders    72062           16.88\n",
       "5 cylinders     1712            0.40\n",
       "10 cylinders    1455            0.34\n",
       "other           1298            0.30\n",
       "3 cylinders      655            0.15\n",
       "12 cylinders     209            0.05"
      ]
     },
     "execution_count": 9,
     "metadata": {},
     "output_type": "execute_result"
    }
   ],
   "source": [
    "resumen_categorias(df,\"cylinders\")"
   ]
  },
  {
   "cell_type": "markdown",
   "id": "3093610c",
   "metadata": {},
   "source": [
    "Note que efectivamene esta variable se encuentra digitada por categorías."
   ]
  },
  {
   "cell_type": "code",
   "execution_count": 10,
   "id": "c6b653cf",
   "metadata": {},
   "outputs": [
    {
     "data": {
      "text/html": [
       "<div>\n",
       "<style scoped>\n",
       "    .dataframe tbody tr th:only-of-type {\n",
       "        vertical-align: middle;\n",
       "    }\n",
       "\n",
       "    .dataframe tbody tr th {\n",
       "        vertical-align: top;\n",
       "    }\n",
       "\n",
       "    .dataframe thead th {\n",
       "        text-align: right;\n",
       "    }\n",
       "</style>\n",
       "<table border=\"1\" class=\"dataframe\">\n",
       "  <thead>\n",
       "    <tr style=\"text-align: right;\">\n",
       "      <th></th>\n",
       "      <th>Conteo</th>\n",
       "      <th>Porcentaje (%)</th>\n",
       "    </tr>\n",
       "  </thead>\n",
       "  <tbody>\n",
       "    <tr>\n",
       "      <th>NaN</th>\n",
       "      <td>178976</td>\n",
       "      <td>41.93</td>\n",
       "    </tr>\n",
       "    <tr>\n",
       "      <th>6</th>\n",
       "      <td>94169</td>\n",
       "      <td>22.06</td>\n",
       "    </tr>\n",
       "    <tr>\n",
       "      <th>4</th>\n",
       "      <td>77642</td>\n",
       "      <td>18.19</td>\n",
       "    </tr>\n",
       "    <tr>\n",
       "      <th>8</th>\n",
       "      <td>72062</td>\n",
       "      <td>16.88</td>\n",
       "    </tr>\n",
       "    <tr>\n",
       "      <th>5</th>\n",
       "      <td>1712</td>\n",
       "      <td>0.4</td>\n",
       "    </tr>\n",
       "    <tr>\n",
       "      <th>10</th>\n",
       "      <td>1455</td>\n",
       "      <td>0.34</td>\n",
       "    </tr>\n",
       "    <tr>\n",
       "      <th>3</th>\n",
       "      <td>655</td>\n",
       "      <td>0.15</td>\n",
       "    </tr>\n",
       "    <tr>\n",
       "      <th>12</th>\n",
       "      <td>209</td>\n",
       "      <td>0.05</td>\n",
       "    </tr>\n",
       "  </tbody>\n",
       "</table>\n",
       "</div>"
      ],
      "text/plain": [
       "     Conteo  Porcentaje (%)\n",
       "NaN  178976           41.93\n",
       "6     94169           22.06\n",
       "4     77642           18.19\n",
       "8     72062           16.88\n",
       "5      1712             0.4\n",
       "10     1455            0.34\n",
       "3       655            0.15\n",
       "12      209            0.05"
      ]
     },
     "execution_count": 10,
     "metadata": {},
     "output_type": "execute_result"
    }
   ],
   "source": [
    "df['cylinders'] = df['cylinders'].replace('other', np.nan)\n",
    "\n",
    "df['cylinders'] = (\n",
    "    df['cylinders']\n",
    "    .str.extract(r'(\\d+)')   \n",
    "    .astype(float)          \n",
    ")\n",
    "\n",
    "df['cylinders'] = df['cylinders'].astype('Int64')\n",
    "\n",
    "resumen_categorias(df,\"cylinders\")"
   ]
  },
  {
   "cell_type": "markdown",
   "id": "3f818ac6",
   "metadata": {},
   "source": [
    "Para reescribir esta variable como una numérica, se tomó la categoría `other` como NA's y se extrajo la palabra cylenders de cada categoría. Finalmente se le asignó el tipo de variable `int64`."
   ]
  },
  {
   "cell_type": "markdown",
   "id": "af738ada",
   "metadata": {},
   "source": [
    "### ***3.3. Identificación, análisis y tratamiento de valores faltantes***"
   ]
  },
  {
   "cell_type": "markdown",
   "id": "1b16a82e",
   "metadata": {},
   "source": [
    "Para iniciar con este análisis, procederemos a observar de forma gráfica la proporción de valores faltantes en cada variable, utilizando un mapa de calor."
   ]
  },
  {
   "cell_type": "code",
   "execution_count": 11,
   "id": "556f7b92",
   "metadata": {},
   "outputs": [
    {
     "data": {
      "image/png": "[encoded data removed]",
      "text/plain": [
       "<Figure size 864x432 with 1 Axes>"
      ]
     },
     "metadata": {},
     "output_type": "display_data"
    }
   ],
   "source": [
    "plt.figure(figsize=(12, 6))\n",
    "sns.heatmap(df.isnull(), cbar=False, yticklabels=False, cmap='plasma')\n",
    "plt.title(\"Mapa de calor de valores faltantes\", fontsize=14)\n",
    "plt.show()"
   ]
  },
  {
   "cell_type": "code",
   "execution_count": 12,
   "id": "90dd3b32",
   "metadata": {},
   "outputs": [
    {
     "data": {
      "image/png": "[encoded data removed]",
      "text/plain": [
       "<Figure size 720x432 with 1 Axes>"
      ]
     },
     "metadata": {},
     "output_type": "display_data"
    }
   ],
   "source": [
    "missing = df.isnull().mean().reset_index()\n",
    "missing.columns = [\"Variable\", \"Proporcion\"]\n",
    "\n",
    "plt.figure(figsize=(10,6))\n",
    "sns.barplot(x=\"Proporcion\", y=\"Variable\", data=missing, palette=\"coolwarm\")\n",
    "plt.title(\"Proporción de valores faltantes por variable\")\n",
    "plt.show()"
   ]
  },
  {
   "cell_type": "code",
   "execution_count": 13,
   "id": "6b58c629",
   "metadata": {},
   "outputs": [],
   "source": [
    "def resumen_faltantes(df):\n",
    "    faltantes = df.isnull().sum()\n",
    "    porcentaje = (faltantes / len(df)) * 100\n",
    "\n",
    "    tabla_faltantes = pd.DataFrame({\n",
    "        'Valores faltantes': faltantes,\n",
    "        'Porcentaje (%)': porcentaje\n",
    "    })\n",
    "\n",
    "    tabla_faltantes = tabla_faltantes[tabla_faltantes['Valores faltantes'] > 0]\n",
    "\n",
    "    tabla_faltantes = tabla_faltantes.sort_values('Porcentaje (%)', ascending=False)\n",
    "\n",
    "    return tabla_faltantes"
   ]
  },
  {
   "cell_type": "code",
   "execution_count": 14,
   "id": "6afeab41",
   "metadata": {},
   "outputs": [
    {
     "data": {
      "text/html": [
       "<div>\n",
       "<style scoped>\n",
       "    .dataframe tbody tr th:only-of-type {\n",
       "        vertical-align: middle;\n",
       "    }\n",
       "\n",
       "    .dataframe tbody tr th {\n",
       "        vertical-align: top;\n",
       "    }\n",
       "\n",
       "    .dataframe thead th {\n",
       "        text-align: right;\n",
       "    }\n",
       "</style>\n",
       "<table border=\"1\" class=\"dataframe\">\n",
       "  <thead>\n",
       "    <tr style=\"text-align: right;\">\n",
       "      <th></th>\n",
       "      <th>Valores faltantes</th>\n",
       "      <th>Porcentaje (%)</th>\n",
       "    </tr>\n",
       "  </thead>\n",
       "  <tbody>\n",
       "    <tr>\n",
       "      <th>county</th>\n",
       "      <td>426880</td>\n",
       "      <td>100.000000</td>\n",
       "    </tr>\n",
       "    <tr>\n",
       "      <th>size</th>\n",
       "      <td>306361</td>\n",
       "      <td>71.767476</td>\n",
       "    </tr>\n",
       "    <tr>\n",
       "      <th>cylinders</th>\n",
       "      <td>178976</td>\n",
       "      <td>41.926537</td>\n",
       "    </tr>\n",
       "    <tr>\n",
       "      <th>condition</th>\n",
       "      <td>174104</td>\n",
       "      <td>40.785232</td>\n",
       "    </tr>\n",
       "    <tr>\n",
       "      <th>VIN</th>\n",
       "      <td>161042</td>\n",
       "      <td>37.725356</td>\n",
       "    </tr>\n",
       "    <tr>\n",
       "      <th>drive</th>\n",
       "      <td>130567</td>\n",
       "      <td>30.586347</td>\n",
       "    </tr>\n",
       "    <tr>\n",
       "      <th>paint_color</th>\n",
       "      <td>130203</td>\n",
       "      <td>30.501078</td>\n",
       "    </tr>\n",
       "    <tr>\n",
       "      <th>type</th>\n",
       "      <td>92858</td>\n",
       "      <td>21.752717</td>\n",
       "    </tr>\n",
       "    <tr>\n",
       "      <th>manufacturer</th>\n",
       "      <td>17646</td>\n",
       "      <td>4.133714</td>\n",
       "    </tr>\n",
       "    <tr>\n",
       "      <th>title_status</th>\n",
       "      <td>8242</td>\n",
       "      <td>1.930753</td>\n",
       "    </tr>\n",
       "    <tr>\n",
       "      <th>long</th>\n",
       "      <td>6549</td>\n",
       "      <td>1.534155</td>\n",
       "    </tr>\n",
       "    <tr>\n",
       "      <th>lat</th>\n",
       "      <td>6549</td>\n",
       "      <td>1.534155</td>\n",
       "    </tr>\n",
       "    <tr>\n",
       "      <th>model</th>\n",
       "      <td>5277</td>\n",
       "      <td>1.236179</td>\n",
       "    </tr>\n",
       "    <tr>\n",
       "      <th>odometer</th>\n",
       "      <td>4400</td>\n",
       "      <td>1.030735</td>\n",
       "    </tr>\n",
       "    <tr>\n",
       "      <th>fuel</th>\n",
       "      <td>3013</td>\n",
       "      <td>0.705819</td>\n",
       "    </tr>\n",
       "    <tr>\n",
       "      <th>transmission</th>\n",
       "      <td>2556</td>\n",
       "      <td>0.598763</td>\n",
       "    </tr>\n",
       "    <tr>\n",
       "      <th>year</th>\n",
       "      <td>1205</td>\n",
       "      <td>0.282281</td>\n",
       "    </tr>\n",
       "  </tbody>\n",
       "</table>\n",
       "</div>"
      ],
      "text/plain": [
       "              Valores faltantes  Porcentaje (%)\n",
       "county                   426880      100.000000\n",
       "size                     306361       71.767476\n",
       "cylinders                178976       41.926537\n",
       "condition                174104       40.785232\n",
       "VIN                      161042       37.725356\n",
       "drive                    130567       30.586347\n",
       "paint_color              130203       30.501078\n",
       "type                      92858       21.752717\n",
       "manufacturer              17646        4.133714\n",
       "title_status               8242        1.930753\n",
       "long                       6549        1.534155\n",
       "lat                        6549        1.534155\n",
       "model                      5277        1.236179\n",
       "odometer                   4400        1.030735\n",
       "fuel                       3013        0.705819\n",
       "transmission               2556        0.598763\n",
       "year                       1205        0.282281"
      ]
     },
     "execution_count": 14,
     "metadata": {},
     "output_type": "execute_result"
    }
   ],
   "source": [
    "resumen_faltantes(df)"
   ]
  },
  {
   "cell_type": "markdown",
   "id": "09a60026",
   "metadata": {},
   "source": [
    "Al analizar los valores faltantes del dataset, se puede observar que algunas variables presentan un porcentaje considerable de datos ausentes, lo cual puede tener implicancias importantes en el análisis posterior. La variable con mayor cantidad de valores faltantes es **\"county\"**, con el 100% de los datos ausentes, por lo que resulta completamente inutilizable en su estado actual. Le siguen variables como **\"size\"**, **\"cylinders\"**, **\"condition\"**, y **\"VIN\"**, con proporciones de datos faltantes superiores al 30%, lo cual plantea un desafío importante en cuanto a imputación o posible eliminación, dependiendo del análisis que se quiera realizar. Otras variables como **\"drive\"**, **\"paint_color\"** y **\"type\"** también muestran una cantidad significativa de valores faltantes, aunque en menor medida. En contraste, hay variables como **\"year\"**, **\"transmission\"**, **\"fuel\"**, y **\"odometer\"** que presentan muy pocos valores faltantes (menos del 2%), por lo que podrían ser fácilmente imputadas sin generar un sesgo importante. "
   ]
  },
  {
   "cell_type": "markdown",
   "id": "7aad4e91",
   "metadata": {},
   "source": [
    "### ***3.3.1. Eliminicación de variables: `country` y `size`:***"
   ]
  },
  {
   "cell_type": "markdown",
   "id": "e674e10a",
   "metadata": {},
   "source": [
    "Dado el alto porcentaje de valores faltantes recurrimos a eliminar estas variables de nuestro análisis."
   ]
  },
  {
   "cell_type": "code",
   "execution_count": 15,
   "id": "e68a5f3f",
   "metadata": {},
   "outputs": [],
   "source": [
    "df=df.drop([\"county\",\"size\",\"VIN\"],axis=1)"
   ]
  },
  {
   "cell_type": "code",
   "execution_count": 16,
   "id": "0ffadeaa",
   "metadata": {},
   "outputs": [
    {
     "data": {
      "text/html": [
       "<div>\n",
       "<style scoped>\n",
       "    .dataframe tbody tr th:only-of-type {\n",
       "        vertical-align: middle;\n",
       "    }\n",
       "\n",
       "    .dataframe tbody tr th {\n",
       "        vertical-align: top;\n",
       "    }\n",
       "\n",
       "    .dataframe thead th {\n",
       "        text-align: right;\n",
       "    }\n",
       "</style>\n",
       "<table border=\"1\" class=\"dataframe\">\n",
       "  <thead>\n",
       "    <tr style=\"text-align: right;\">\n",
       "      <th></th>\n",
       "      <th>region</th>\n",
       "      <th>price</th>\n",
       "      <th>year</th>\n",
       "      <th>manufacturer</th>\n",
       "      <th>model</th>\n",
       "      <th>condition</th>\n",
       "      <th>cylinders</th>\n",
       "      <th>fuel</th>\n",
       "      <th>odometer</th>\n",
       "      <th>title_status</th>\n",
       "      <th>transmission</th>\n",
       "      <th>drive</th>\n",
       "      <th>type</th>\n",
       "      <th>paint_color</th>\n",
       "      <th>state</th>\n",
       "      <th>lat</th>\n",
       "      <th>long</th>\n",
       "    </tr>\n",
       "  </thead>\n",
       "  <tbody>\n",
       "    <tr>\n",
       "      <th>0</th>\n",
       "      <td>prescott</td>\n",
       "      <td>6000</td>\n",
       "      <td>NaN</td>\n",
       "      <td>NaN</td>\n",
       "      <td>NaN</td>\n",
       "      <td>NaN</td>\n",
       "      <td>&lt;NA&gt;</td>\n",
       "      <td>NaN</td>\n",
       "      <td>NaN</td>\n",
       "      <td>NaN</td>\n",
       "      <td>NaN</td>\n",
       "      <td>NaN</td>\n",
       "      <td>NaN</td>\n",
       "      <td>NaN</td>\n",
       "      <td>az</td>\n",
       "      <td>NaN</td>\n",
       "      <td>NaN</td>\n",
       "    </tr>\n",
       "    <tr>\n",
       "      <th>1</th>\n",
       "      <td>fayetteville</td>\n",
       "      <td>11900</td>\n",
       "      <td>NaN</td>\n",
       "      <td>NaN</td>\n",
       "      <td>NaN</td>\n",
       "      <td>NaN</td>\n",
       "      <td>&lt;NA&gt;</td>\n",
       "      <td>NaN</td>\n",
       "      <td>NaN</td>\n",
       "      <td>NaN</td>\n",
       "      <td>NaN</td>\n",
       "      <td>NaN</td>\n",
       "      <td>NaN</td>\n",
       "      <td>NaN</td>\n",
       "      <td>ar</td>\n",
       "      <td>NaN</td>\n",
       "      <td>NaN</td>\n",
       "    </tr>\n",
       "    <tr>\n",
       "      <th>2</th>\n",
       "      <td>florida keys</td>\n",
       "      <td>21000</td>\n",
       "      <td>NaN</td>\n",
       "      <td>NaN</td>\n",
       "      <td>NaN</td>\n",
       "      <td>NaN</td>\n",
       "      <td>&lt;NA&gt;</td>\n",
       "      <td>NaN</td>\n",
       "      <td>NaN</td>\n",
       "      <td>NaN</td>\n",
       "      <td>NaN</td>\n",
       "      <td>NaN</td>\n",
       "      <td>NaN</td>\n",
       "      <td>NaN</td>\n",
       "      <td>fl</td>\n",
       "      <td>NaN</td>\n",
       "      <td>NaN</td>\n",
       "    </tr>\n",
       "    <tr>\n",
       "      <th>3</th>\n",
       "      <td>worcester / central MA</td>\n",
       "      <td>1500</td>\n",
       "      <td>NaN</td>\n",
       "      <td>NaN</td>\n",
       "      <td>NaN</td>\n",
       "      <td>NaN</td>\n",
       "      <td>&lt;NA&gt;</td>\n",
       "      <td>NaN</td>\n",
       "      <td>NaN</td>\n",
       "      <td>NaN</td>\n",
       "      <td>NaN</td>\n",
       "      <td>NaN</td>\n",
       "      <td>NaN</td>\n",
       "      <td>NaN</td>\n",
       "      <td>ma</td>\n",
       "      <td>NaN</td>\n",
       "      <td>NaN</td>\n",
       "    </tr>\n",
       "    <tr>\n",
       "      <th>4</th>\n",
       "      <td>greensboro</td>\n",
       "      <td>4900</td>\n",
       "      <td>NaN</td>\n",
       "      <td>NaN</td>\n",
       "      <td>NaN</td>\n",
       "      <td>NaN</td>\n",
       "      <td>&lt;NA&gt;</td>\n",
       "      <td>NaN</td>\n",
       "      <td>NaN</td>\n",
       "      <td>NaN</td>\n",
       "      <td>NaN</td>\n",
       "      <td>NaN</td>\n",
       "      <td>NaN</td>\n",
       "      <td>NaN</td>\n",
       "      <td>nc</td>\n",
       "      <td>NaN</td>\n",
       "      <td>NaN</td>\n",
       "    </tr>\n",
       "  </tbody>\n",
       "</table>\n",
       "</div>"
      ],
      "text/plain": [
       "                   region  price  year manufacturer model condition  \\\n",
       "0                prescott   6000   NaN          NaN   NaN       NaN   \n",
       "1            fayetteville  11900   NaN          NaN   NaN       NaN   \n",
       "2            florida keys  21000   NaN          NaN   NaN       NaN   \n",
       "3  worcester / central MA   1500   NaN          NaN   NaN       NaN   \n",
       "4              greensboro   4900   NaN          NaN   NaN       NaN   \n",
       "\n",
       "   cylinders fuel  odometer title_status transmission drive type paint_color  \\\n",
       "0       <NA>  NaN       NaN          NaN          NaN   NaN  NaN         NaN   \n",
       "1       <NA>  NaN       NaN          NaN          NaN   NaN  NaN         NaN   \n",
       "2       <NA>  NaN       NaN          NaN          NaN   NaN  NaN         NaN   \n",
       "3       <NA>  NaN       NaN          NaN          NaN   NaN  NaN         NaN   \n",
       "4       <NA>  NaN       NaN          NaN          NaN   NaN  NaN         NaN   \n",
       "\n",
       "  state  lat  long  \n",
       "0    az  NaN   NaN  \n",
       "1    ar  NaN   NaN  \n",
       "2    fl  NaN   NaN  \n",
       "3    ma  NaN   NaN  \n",
       "4    nc  NaN   NaN  "
      ]
     },
     "execution_count": 16,
     "metadata": {},
     "output_type": "execute_result"
    }
   ],
   "source": [
    "pd.set_option('display.max_columns', None)\n",
    "df.head()"
   ]
  },
  {
   "cell_type": "markdown",
   "id": "a5448117",
   "metadata": {},
   "source": [
    "A continuación, se analiza más de cerca sobre los valores faltantes en cada una de las variables."
   ]
  },
  {
   "cell_type": "markdown",
   "id": "e1feee1e",
   "metadata": {},
   "source": [
    "### ***3.3.2. Variables con un rango de 20% - 40% de valores faltantes***"
   ]
  },
  {
   "cell_type": "markdown",
   "id": "d775c463",
   "metadata": {},
   "source": [
    "Antes de iniciar con la imputación de los valores faltantes, se crea una copia del dataframe para luego poder comparar las distribuciones de cada varaible, antes y después de ser imputadas."
   ]
  },
  {
   "cell_type": "code",
   "execution_count": 17,
   "id": "20d1c593",
   "metadata": {},
   "outputs": [],
   "source": [
    "df_imputado = df.copy()"
   ]
  },
  {
   "cell_type": "markdown",
   "id": "345c431e",
   "metadata": {},
   "source": [
    "#### ***3.3.2.1. `cylinders:`***"
   ]
  },
  {
   "cell_type": "code",
   "execution_count": 18,
   "id": "276d3adc",
   "metadata": {},
   "outputs": [
    {
     "data": {
      "text/html": [
       "<div>\n",
       "<style scoped>\n",
       "    .dataframe tbody tr th:only-of-type {\n",
       "        vertical-align: middle;\n",
       "    }\n",
       "\n",
       "    .dataframe tbody tr th {\n",
       "        vertical-align: top;\n",
       "    }\n",
       "\n",
       "    .dataframe thead th {\n",
       "        text-align: right;\n",
       "    }\n",
       "</style>\n",
       "<table border=\"1\" class=\"dataframe\">\n",
       "  <thead>\n",
       "    <tr style=\"text-align: right;\">\n",
       "      <th></th>\n",
       "      <th>Conteo</th>\n",
       "      <th>Porcentaje (%)</th>\n",
       "    </tr>\n",
       "  </thead>\n",
       "  <tbody>\n",
       "    <tr>\n",
       "      <th>NaN</th>\n",
       "      <td>178976</td>\n",
       "      <td>41.93</td>\n",
       "    </tr>\n",
       "    <tr>\n",
       "      <th>6</th>\n",
       "      <td>94169</td>\n",
       "      <td>22.06</td>\n",
       "    </tr>\n",
       "    <tr>\n",
       "      <th>4</th>\n",
       "      <td>77642</td>\n",
       "      <td>18.19</td>\n",
       "    </tr>\n",
       "    <tr>\n",
       "      <th>8</th>\n",
       "      <td>72062</td>\n",
       "      <td>16.88</td>\n",
       "    </tr>\n",
       "    <tr>\n",
       "      <th>5</th>\n",
       "      <td>1712</td>\n",
       "      <td>0.4</td>\n",
       "    </tr>\n",
       "    <tr>\n",
       "      <th>10</th>\n",
       "      <td>1455</td>\n",
       "      <td>0.34</td>\n",
       "    </tr>\n",
       "    <tr>\n",
       "      <th>3</th>\n",
       "      <td>655</td>\n",
       "      <td>0.15</td>\n",
       "    </tr>\n",
       "    <tr>\n",
       "      <th>12</th>\n",
       "      <td>209</td>\n",
       "      <td>0.05</td>\n",
       "    </tr>\n",
       "  </tbody>\n",
       "</table>\n",
       "</div>"
      ],
      "text/plain": [
       "     Conteo  Porcentaje (%)\n",
       "NaN  178976           41.93\n",
       "6     94169           22.06\n",
       "4     77642           18.19\n",
       "8     72062           16.88\n",
       "5      1712             0.4\n",
       "10     1455            0.34\n",
       "3       655            0.15\n",
       "12      209            0.05"
      ]
     },
     "execution_count": 18,
     "metadata": {},
     "output_type": "execute_result"
    }
   ],
   "source": [
    "resumen_categorias(df,\"cylinders\")"
   ]
  },
  {
   "cell_type": "markdown",
   "id": "75a315c2",
   "metadata": {},
   "source": [
    "La variable **\"cylinders\"** presenta un alto porcentaje de valores faltantes, con un 41.93% de los datos ausentes, lo cual representa una porción significativa del total del dataset y sugiere la necesidad de una estrategia cuidadosa para el tratamiento de estos valores. Entre las categorías presentes, la más común es la de vehículos con **6 cilindros**, representando el **22.06%**, seguida por los de **4 cilindros** con un **18.19%**, y los de **8 cilindros** con un **16.88%**. Estas tres categorías concentran la gran mayoría de los datos observados, lo que indica una clara preferencia o predominancia de motores con configuraciones comunes en el mercado. Las demás categorías, como los vehículos con **5, 10, 3 y 13 cilindros**, tienen una frecuencia muy baja, con porcentajes que no superan el 0.4%, por lo que podrían ser consideradas como casos poco representativos o incluso atípicos. "
   ]
  },
  {
   "cell_type": "code",
   "execution_count": 19,
   "id": "d9a9b650",
   "metadata": {},
   "outputs": [],
   "source": [
    "original = df_imputado[\"cylinders\"].dropna()"
   ]
  },
  {
   "cell_type": "markdown",
   "id": "25f97e85",
   "metadata": {},
   "source": [
    "Se toma los valores originales de la variable a tratar."
   ]
  },
  {
   "cell_type": "code",
   "execution_count": 20,
   "id": "987c88f0",
   "metadata": {},
   "outputs": [],
   "source": [
    "num_cols = df_imputado.select_dtypes(include=[\"int64\", \"float64\"]).columns.tolist()\n",
    "other = [c for c in num_cols if c != \"cylinders\"]"
   ]
  },
  {
   "cell_type": "markdown",
   "id": "9fdb7d8d",
   "metadata": {},
   "source": [
    "Primero, se seleccionan las columnas numéricas del DataFrame original, excluyendo específicamente la columna `\"cylinders\"`, ya que esa será la variable objetivo que se desea imputar. Se guardan en la lista `other` las demás columnas numéricas que podrían usarse como predictores para la imputación."
   ]
  },
  {
   "cell_type": "code",
   "execution_count": 21,
   "id": "e581fa62",
   "metadata": {},
   "outputs": [],
   "source": [
    "imp = IterativeImputer(estimator=BayesianRidge(), max_iter=10, random_state=42)\n",
    "X_imp = pd.DataFrame(imp.fit_transform(df_imputado[other]), columns=other, index=df_imputado.index)"
   ]
  },
  {
   "cell_type": "markdown",
   "id": "f188c088",
   "metadata": {},
   "source": [
    "A continuación, se utiliza un `IterativeImputer` con regresión bayesiana (`BayesianRidge`) como estimador para completar los valores faltantes en las columnas numéricas seleccionadas (excluyendo \"cylinders\"). El resultado es un nuevo DataFrame `X_imp`, con los valores imputados para todas las columnas predictoras."
   ]
  },
  {
   "cell_type": "code",
   "execution_count": 22,
   "id": "0c48b160",
   "metadata": {},
   "outputs": [
    {
     "data": {
      "text/html": [
       "<style>#sk-container-id-1 {\n",
       "  /* Definition of color scheme common for light and dark mode */\n",
       "  --sklearn-color-text: #000;\n",
       "  --sklearn-color-text-muted: #666;\n",
       "  --sklearn-color-line: gray;\n",
       "  /* Definition of color scheme for unfitted estimators */\n",
       "  --sklearn-color-unfitted-level-0: #fff5e6;\n",
       "  --sklearn-color-unfitted-level-1: #f6e4d2;\n",
       "  --sklearn-color-unfitted-level-2: #ffe0b3;\n",
       "  --sklearn-color-unfitted-level-3: chocolate;\n",
       "  /* Definition of color scheme for fitted estimators */\n",
       "  --sklearn-color-fitted-level-0: #f0f8ff;\n",
       "  --sklearn-color-fitted-level-1: #d4ebff;\n",
       "  --sklearn-color-fitted-level-2: #b3dbfd;\n",
       "  --sklearn-color-fitted-level-3: cornflowerblue;\n",
       "\n",
       "  /* Specific color for light theme */\n",
       "  --sklearn-color-text-on-default-background: var(--sg-text-color, var(--theme-code-foreground, var(--jp-content-font-color1, black)));\n",
       "  --sklearn-color-background: var(--sg-background-color, var(--theme-background, var(--jp-layout-color0, white)));\n",
       "  --sklearn-color-border-box: var(--sg-text-color, var(--theme-code-foreground, var(--jp-content-font-color1, black)));\n",
       "  --sklearn-color-icon: #696969;\n",
       "\n",
       "  @media (prefers-color-scheme: dark) {\n",
       "    /* Redefinition of color scheme for dark theme */\n",
       "    --sklearn-color-text-on-default-background: var(--sg-text-color, var(--theme-code-foreground, var(--jp-content-font-color1, white)));\n",
       "    --sklearn-color-background: var(--sg-background-color, var(--theme-background, var(--jp-layout-color0, #111)));\n",
       "    --sklearn-color-border-box: var(--sg-text-color, var(--theme-code-foreground, var(--jp-content-font-color1, white)));\n",
       "    --sklearn-color-icon: #878787;\n",
       "  }\n",
       "}\n",
       "\n",
       "#sk-container-id-1 {\n",
       "  color: var(--sklearn-color-text);\n",
       "}\n",
       "\n",
       "#sk-container-id-1 pre {\n",
       "  padding: 0;\n",
       "}\n",
       "\n",
       "#sk-container-id-1 input.sk-hidden--visually {\n",
       "  border: 0;\n",
       "  clip: rect(1px 1px 1px 1px);\n",
       "  clip: rect(1px, 1px, 1px, 1px);\n",
       "  height: 1px;\n",
       "  margin: -1px;\n",
       "  overflow: hidden;\n",
       "  padding: 0;\n",
       "  position: absolute;\n",
       "  width: 1px;\n",
       "}\n",
       "\n",
       "#sk-container-id-1 div.sk-dashed-wrapped {\n",
       "  border: 1px dashed var(--sklearn-color-line);\n",
       "  margin: 0 0.4em 0.5em 0.4em;\n",
       "  box-sizing: border-box;\n",
       "  padding-bottom: 0.4em;\n",
       "  background-color: var(--sklearn-color-background);\n",
       "}\n",
       "\n",
       "#sk-container-id-1 div.sk-container {\n",
       "  /* jupyter's `normalize.less` sets `[hidden] { display: none; }`\n",
       "     but bootstrap.min.css set `[hidden] { display: none !important; }`\n",
       "     so we also need the `!important` here to be able to override the\n",
       "     default hidden behavior on the sphinx rendered scikit-learn.org.\n",
       "     See: https://github.com/scikit-learn/scikit-learn/issues/21755 */\n",
       "  display: inline-block !important;\n",
       "  position: relative;\n",
       "}\n",
       "\n",
       "#sk-container-id-1 div.sk-text-repr-fallback {\n",
       "  display: none;\n",
       "}\n",
       "\n",
       "div.sk-parallel-item,\n",
       "div.sk-serial,\n",
       "div.sk-item {\n",
       "  /* draw centered vertical line to link estimators */\n",
       "  background-image: linear-gradient(var(--sklearn-color-text-on-default-background), var(--sklearn-color-text-on-default-background));\n",
       "  background-size: 2px 100%;\n",
       "  background-repeat: no-repeat;\n",
       "  background-position: center center;\n",
       "}\n",
       "\n",
       "/* Parallel-specific style estimator block */\n",
       "\n",
       "#sk-container-id-1 div.sk-parallel-item::after {\n",
       "  content: \"\";\n",
       "  width: 100%;\n",
       "  border-bottom: 2px solid var(--sklearn-color-text-on-default-background);\n",
       "  flex-grow: 1;\n",
       "}\n",
       "\n",
       "#sk-container-id-1 div.sk-parallel {\n",
       "  display: flex;\n",
       "  align-items: stretch;\n",
       "  justify-content: center;\n",
       "  background-color: var(--sklearn-color-background);\n",
       "  position: relative;\n",
       "}\n",
       "\n",
       "#sk-container-id-1 div.sk-parallel-item {\n",
       "  display: flex;\n",
       "  flex-direction: column;\n",
       "}\n",
       "\n",
       "#sk-container-id-1 div.sk-parallel-item:first-child::after {\n",
       "  align-self: flex-end;\n",
       "  width: 50%;\n",
       "}\n",
       "\n",
       "#sk-container-id-1 div.sk-parallel-item:last-child::after {\n",
       "  align-self: flex-start;\n",
       "  width: 50%;\n",
       "}\n",
       "\n",
       "#sk-container-id-1 div.sk-parallel-item:only-child::after {\n",
       "  width: 0;\n",
       "}\n",
       "\n",
       "/* Serial-specific style estimator block */\n",
       "\n",
       "#sk-container-id-1 div.sk-serial {\n",
       "  display: flex;\n",
       "  flex-direction: column;\n",
       "  align-items: center;\n",
       "  background-color: var(--sklearn-color-background);\n",
       "  padding-right: 1em;\n",
       "  padding-left: 1em;\n",
       "}\n",
       "\n",
       "\n",
       "/* Toggleable style: style used for estimator/Pipeline/ColumnTransformer box that is\n",
       "clickable and can be expanded/collapsed.\n",
       "- Pipeline and ColumnTransformer use this feature and define the default style\n",
       "- Estimators will overwrite some part of the style using the `sk-estimator` class\n",
       "*/\n",
       "\n",
       "/* Pipeline and ColumnTransformer style (default) */\n",
       "\n",
       "#sk-container-id-1 div.sk-toggleable {\n",
       "  /* Default theme specific background. It is overwritten whether we have a\n",
       "  specific estimator or a Pipeline/ColumnTransformer */\n",
       "  background-color: var(--sklearn-color-background);\n",
       "}\n",
       "\n",
       "/* Toggleable label */\n",
       "#sk-container-id-1 label.sk-toggleable__label {\n",
       "  cursor: pointer;\n",
       "  display: flex;\n",
       "  width: 100%;\n",
       "  margin-bottom: 0;\n",
       "  padding: 0.5em;\n",
       "  box-sizing: border-box;\n",
       "  text-align: center;\n",
       "  align-items: start;\n",
       "  justify-content: space-between;\n",
       "  gap: 0.5em;\n",
       "}\n",
       "\n",
       "#sk-container-id-1 label.sk-toggleable__label .caption {\n",
       "  font-size: 0.6rem;\n",
       "  font-weight: lighter;\n",
       "  color: var(--sklearn-color-text-muted);\n",
       "}\n",
       "\n",
       "#sk-container-id-1 label.sk-toggleable__label-arrow:before {\n",
       "  /* Arrow on the left of the label */\n",
       "  content: \"▸\";\n",
       "  float: left;\n",
       "  margin-right: 0.25em;\n",
       "  color: var(--sklearn-color-icon);\n",
       "}\n",
       "\n",
       "#sk-container-id-1 label.sk-toggleable__label-arrow:hover:before {\n",
       "  color: var(--sklearn-color-text);\n",
       "}\n",
       "\n",
       "/* Toggleable content - dropdown */\n",
       "\n",
       "#sk-container-id-1 div.sk-toggleable__content {\n",
       "  max-height: 0;\n",
       "  max-width: 0;\n",
       "  overflow: hidden;\n",
       "  text-align: left;\n",
       "  /* unfitted */\n",
       "  background-color: var(--sklearn-color-unfitted-level-0);\n",
       "}\n",
       "\n",
       "#sk-container-id-1 div.sk-toggleable__content.fitted {\n",
       "  /* fitted */\n",
       "  background-color: var(--sklearn-color-fitted-level-0);\n",
       "}\n",
       "\n",
       "#sk-container-id-1 div.sk-toggleable__content pre {\n",
       "  margin: 0.2em;\n",
       "  border-radius: 0.25em;\n",
       "  color: var(--sklearn-color-text);\n",
       "  /* unfitted */\n",
       "  background-color: var(--sklearn-color-unfitted-level-0);\n",
       "}\n",
       "\n",
       "#sk-container-id-1 div.sk-toggleable__content.fitted pre {\n",
       "  /* unfitted */\n",
       "  background-color: var(--sklearn-color-fitted-level-0);\n",
       "}\n",
       "\n",
       "#sk-container-id-1 input.sk-toggleable__control:checked~div.sk-toggleable__content {\n",
       "  /* Expand drop-down */\n",
       "  max-height: 200px;\n",
       "  max-width: 100%;\n",
       "  overflow: auto;\n",
       "}\n",
       "\n",
       "#sk-container-id-1 input.sk-toggleable__control:checked~label.sk-toggleable__label-arrow:before {\n",
       "  content: \"▾\";\n",
       "}\n",
       "\n",
       "/* Pipeline/ColumnTransformer-specific style */\n",
       "\n",
       "#sk-container-id-1 div.sk-label input.sk-toggleable__control:checked~label.sk-toggleable__label {\n",
       "  color: var(--sklearn-color-text);\n",
       "  background-color: var(--sklearn-color-unfitted-level-2);\n",
       "}\n",
       "\n",
       "#sk-container-id-1 div.sk-label.fitted input.sk-toggleable__control:checked~label.sk-toggleable__label {\n",
       "  background-color: var(--sklearn-color-fitted-level-2);\n",
       "}\n",
       "\n",
       "/* Estimator-specific style */\n",
       "\n",
       "/* Colorize estimator box */\n",
       "#sk-container-id-1 div.sk-estimator input.sk-toggleable__control:checked~label.sk-toggleable__label {\n",
       "  /* unfitted */\n",
       "  background-color: var(--sklearn-color-unfitted-level-2);\n",
       "}\n",
       "\n",
       "#sk-container-id-1 div.sk-estimator.fitted input.sk-toggleable__control:checked~label.sk-toggleable__label {\n",
       "  /* fitted */\n",
       "  background-color: var(--sklearn-color-fitted-level-2);\n",
       "}\n",
       "\n",
       "#sk-container-id-1 div.sk-label label.sk-toggleable__label,\n",
       "#sk-container-id-1 div.sk-label label {\n",
       "  /* The background is the default theme color */\n",
       "  color: var(--sklearn-color-text-on-default-background);\n",
       "}\n",
       "\n",
       "/* On hover, darken the color of the background */\n",
       "#sk-container-id-1 div.sk-label:hover label.sk-toggleable__label {\n",
       "  color: var(--sklearn-color-text);\n",
       "  background-color: var(--sklearn-color-unfitted-level-2);\n",
       "}\n",
       "\n",
       "/* Label box, darken color on hover, fitted */\n",
       "#sk-container-id-1 div.sk-label.fitted:hover label.sk-toggleable__label.fitted {\n",
       "  color: var(--sklearn-color-text);\n",
       "  background-color: var(--sklearn-color-fitted-level-2);\n",
       "}\n",
       "\n",
       "/* Estimator label */\n",
       "\n",
       "#sk-container-id-1 div.sk-label label {\n",
       "  font-family: monospace;\n",
       "  font-weight: bold;\n",
       "  display: inline-block;\n",
       "  line-height: 1.2em;\n",
       "}\n",
       "\n",
       "#sk-container-id-1 div.sk-label-container {\n",
       "  text-align: center;\n",
       "}\n",
       "\n",
       "/* Estimator-specific */\n",
       "#sk-container-id-1 div.sk-estimator {\n",
       "  font-family: monospace;\n",
       "  border: 1px dotted var(--sklearn-color-border-box);\n",
       "  border-radius: 0.25em;\n",
       "  box-sizing: border-box;\n",
       "  margin-bottom: 0.5em;\n",
       "  /* unfitted */\n",
       "  background-color: var(--sklearn-color-unfitted-level-0);\n",
       "}\n",
       "\n",
       "#sk-container-id-1 div.sk-estimator.fitted {\n",
       "  /* fitted */\n",
       "  background-color: var(--sklearn-color-fitted-level-0);\n",
       "}\n",
       "\n",
       "/* on hover */\n",
       "#sk-container-id-1 div.sk-estimator:hover {\n",
       "  /* unfitted */\n",
       "  background-color: var(--sklearn-color-unfitted-level-2);\n",
       "}\n",
       "\n",
       "#sk-container-id-1 div.sk-estimator.fitted:hover {\n",
       "  /* fitted */\n",
       "  background-color: var(--sklearn-color-fitted-level-2);\n",
       "}\n",
       "\n",
       "/* Specification for estimator info (e.g. \"i\" and \"?\") */\n",
       "\n",
       "/* Common style for \"i\" and \"?\" */\n",
       "\n",
       ".sk-estimator-doc-link,\n",
       "a:link.sk-estimator-doc-link,\n",
       "a:visited.sk-estimator-doc-link {\n",
       "  float: right;\n",
       "  font-size: smaller;\n",
       "  line-height: 1em;\n",
       "  font-family: monospace;\n",
       "  background-color: var(--sklearn-color-background);\n",
       "  border-radius: 1em;\n",
       "  height: 1em;\n",
       "  width: 1em;\n",
       "  text-decoration: none !important;\n",
       "  margin-left: 0.5em;\n",
       "  text-align: center;\n",
       "  /* unfitted */\n",
       "  border: var(--sklearn-color-unfitted-level-1) 1pt solid;\n",
       "  color: var(--sklearn-color-unfitted-level-1);\n",
       "}\n",
       "\n",
       ".sk-estimator-doc-link.fitted,\n",
       "a:link.sk-estimator-doc-link.fitted,\n",
       "a:visited.sk-estimator-doc-link.fitted {\n",
       "  /* fitted */\n",
       "  border: var(--sklearn-color-fitted-level-1) 1pt solid;\n",
       "  color: var(--sklearn-color-fitted-level-1);\n",
       "}\n",
       "\n",
       "/* On hover */\n",
       "div.sk-estimator:hover .sk-estimator-doc-link:hover,\n",
       ".sk-estimator-doc-link:hover,\n",
       "div.sk-label-container:hover .sk-estimator-doc-link:hover,\n",
       ".sk-estimator-doc-link:hover {\n",
       "  /* unfitted */\n",
       "  background-color: var(--sklearn-color-unfitted-level-3);\n",
       "  color: var(--sklearn-color-background);\n",
       "  text-decoration: none;\n",
       "}\n",
       "\n",
       "div.sk-estimator.fitted:hover .sk-estimator-doc-link.fitted:hover,\n",
       ".sk-estimator-doc-link.fitted:hover,\n",
       "div.sk-label-container:hover .sk-estimator-doc-link.fitted:hover,\n",
       ".sk-estimator-doc-link.fitted:hover {\n",
       "  /* fitted */\n",
       "  background-color: var(--sklearn-color-fitted-level-3);\n",
       "  color: var(--sklearn-color-background);\n",
       "  text-decoration: none;\n",
       "}\n",
       "\n",
       "/* Span, style for the box shown on hovering the info icon */\n",
       ".sk-estimator-doc-link span {\n",
       "  display: none;\n",
       "  z-index: 9999;\n",
       "  position: relative;\n",
       "  font-weight: normal;\n",
       "  right: .2ex;\n",
       "  padding: .5ex;\n",
       "  margin: .5ex;\n",
       "  width: min-content;\n",
       "  min-width: 20ex;\n",
       "  max-width: 50ex;\n",
       "  color: var(--sklearn-color-text);\n",
       "  box-shadow: 2pt 2pt 4pt #999;\n",
       "  /* unfitted */\n",
       "  background: var(--sklearn-color-unfitted-level-0);\n",
       "  border: .5pt solid var(--sklearn-color-unfitted-level-3);\n",
       "}\n",
       "\n",
       ".sk-estimator-doc-link.fitted span {\n",
       "  /* fitted */\n",
       "  background: var(--sklearn-color-fitted-level-0);\n",
       "  border: var(--sklearn-color-fitted-level-3);\n",
       "}\n",
       "\n",
       ".sk-estimator-doc-link:hover span {\n",
       "  display: block;\n",
       "}\n",
       "\n",
       "/* \"?\"-specific style due to the `<a>` HTML tag */\n",
       "\n",
       "#sk-container-id-1 a.estimator_doc_link {\n",
       "  float: right;\n",
       "  font-size: 1rem;\n",
       "  line-height: 1em;\n",
       "  font-family: monospace;\n",
       "  background-color: var(--sklearn-color-background);\n",
       "  border-radius: 1rem;\n",
       "  height: 1rem;\n",
       "  width: 1rem;\n",
       "  text-decoration: none;\n",
       "  /* unfitted */\n",
       "  color: var(--sklearn-color-unfitted-level-1);\n",
       "  border: var(--sklearn-color-unfitted-level-1) 1pt solid;\n",
       "}\n",
       "\n",
       "#sk-container-id-1 a.estimator_doc_link.fitted {\n",
       "  /* fitted */\n",
       "  border: var(--sklearn-color-fitted-level-1) 1pt solid;\n",
       "  color: var(--sklearn-color-fitted-level-1);\n",
       "}\n",
       "\n",
       "/* On hover */\n",
       "#sk-container-id-1 a.estimator_doc_link:hover {\n",
       "  /* unfitted */\n",
       "  background-color: var(--sklearn-color-unfitted-level-3);\n",
       "  color: var(--sklearn-color-background);\n",
       "  text-decoration: none;\n",
       "}\n",
       "\n",
       "#sk-container-id-1 a.estimator_doc_link.fitted:hover {\n",
       "  /* fitted */\n",
       "  background-color: var(--sklearn-color-fitted-level-3);\n",
       "}\n",
       "</style><div id=\"sk-container-id-1\" class=\"sk-top-container\"><div class=\"sk-text-repr-fallback\"><pre>RandomForestClassifier(n_estimators=200, random_state=42)</pre><b>In a Jupyter environment, please rerun this cell to show the HTML representation or trust the notebook. <br />On GitHub, the HTML representation is unable to render, please try loading this page with nbviewer.org.</b></div><div class=\"sk-container\" hidden><div class=\"sk-item\"><div class=\"sk-estimator fitted sk-toggleable\"><input class=\"sk-toggleable__control sk-hidden--visually\" id=\"sk-estimator-id-1\" type=\"checkbox\" checked><label for=\"sk-estimator-id-1\" class=\"sk-toggleable__label fitted sk-toggleable__label-arrow\"><div><div>RandomForestClassifier</div></div><div><a class=\"sk-estimator-doc-link fitted\" rel=\"noreferrer\" target=\"_blank\" href=\"https://scikit-learn.org/1.6/modules/generated/sklearn.ensemble.RandomForestClassifier.html\">?<span>Documentation for RandomForestClassifier</span></a><span class=\"sk-estimator-doc-link fitted\">i<span>Fitted</span></span></div></label><div class=\"sk-toggleable__content fitted\"><pre>RandomForestClassifier(n_estimators=200, random_state=42)</pre></div> </div></div></div></div>"
      ],
      "text/plain": [
       "RandomForestClassifier(n_estimators=200, random_state=42)"
      ]
     },
     "execution_count": 22,
     "metadata": {},
     "output_type": "execute_result"
    }
   ],
   "source": [
    "known = df_imputado[\"cylinders\"].notna()\n",
    "y = df_imputado.loc[known, \"cylinders\"].astype(int)\n",
    "\n",
    "clf = RandomForestClassifier(n_estimators=200, random_state=42)\n",
    "clf.fit(X_imp.loc[known], y)"
   ]
  },
  {
   "cell_type": "markdown",
   "id": "bd78c519",
   "metadata": {},
   "source": [
    "Luego se define el conjunto de datos conocidos (aquellos donde \"cylinders\" no es nulo) y se extrae el vector objetivo `y`, que contiene los valores de cilindros convertidos a enteros. Posteriormente, se entrena un modelo de clasificación con un `RandomForestClassifier`, usando 200 árboles y una semilla aleatoria para reproducibilidad. Este modelo se ajusta con las variables predictoras (`X_imp`) y el vector objetivo `y`, solo sobre las filas conocidas."
   ]
  },
  {
   "cell_type": "code",
   "execution_count": 23,
   "id": "71859855",
   "metadata": {},
   "outputs": [],
   "source": [
    "missing = ~known\n",
    "proba = clf.predict_proba(X_imp.loc[missing])\n",
    "classes = clf.classes_\n",
    "\n",
    "rng = np.random.default_rng(42)\n",
    "samples = [rng.choice(classes, p=p) for p in proba]"
   ]
  },
  {
   "cell_type": "markdown",
   "id": "ed9349ba",
   "metadata": {},
   "source": [
    "Una vez entrenado el modelo, se predicen las probabilidades de clase para los casos en los que el número de cilindros es desconocido (filas con valores faltantes). Se extraen también las clases posibles del modelo. Luego, utilizando una semilla aleatoria, se realiza una selección aleatoria ponderada (sampling) sobre esas probabilidades para elegir una clase por fila, respetando la distribución probabilística dada por el modelo."
   ]
  },
  {
   "cell_type": "code",
   "execution_count": 24,
   "id": "7f981e38",
   "metadata": {},
   "outputs": [],
   "source": [
    "df_imputado.loc[missing, \"cylinders\"] = samples\n",
    "df_imputado[\"cylinders\"] = df_imputado[\"cylinders\"].astype(\"Int64\")\n",
    "\n",
    "# Serie con la columna imputada\n",
    "imputados = df_imputado[\"cylinders\"]"
   ]
  },
  {
   "cell_type": "markdown",
   "id": "3ab19ef6",
   "metadata": {},
   "source": [
    "Se asignan los valores imputados a las filas faltantes de la columna \"cylinders\", y se asegura que toda la columna sea del tipo entero. El resultado final se guarda en la variable `imputados`, que contiene la columna completa de cilindros, ya sin valores faltantes."
   ]
  },
  {
   "cell_type": "code",
   "execution_count": 25,
   "id": "b1a1abc2",
   "metadata": {},
   "outputs": [
    {
     "name": "stdout",
     "output_type": "stream",
     "text": [
      "¿Hay NA en columnas imputadas? False\n",
      "Conteo de NA por columna imputada:\n",
      "0\n"
     ]
    }
   ],
   "source": [
    "hay_na = df_imputado['cylinders'].isnull().values.any()\n",
    "print(f\"¿Hay NA en columnas imputadas? {hay_na}\")\n",
    "\n",
    "na_por_col = df_imputado['cylinders'].isnull().sum()\n",
    "print(\"Conteo de NA por columna imputada:\")\n",
    "print(na_por_col)"
   ]
  },
  {
   "cell_type": "markdown",
   "id": "f3291c79",
   "metadata": {},
   "source": [
    "Finalmente se observa que la columna `cylinders` ya no tiene valores faltantes."
   ]
  },
  {
   "cell_type": "code",
   "execution_count": 26,
   "id": "1cc19a1e",
   "metadata": {},
   "outputs": [],
   "source": [
    "def comparar_imputacion(original, imputada, variable_name='Variable'):\n",
    "    \n",
    "    plt.figure(figsize=(12, 5))\n",
    "\n",
    "    plt.subplot(1, 2, 1)\n",
    "    sns.histplot(original.dropna(), kde=True, color='skyblue', bins=30)\n",
    "    plt.title(f'{variable_name} - Original (sin NaNs)')\n",
    "    plt.xlabel(variable_name)\n",
    "    plt.ylabel('Frecuencia')\n",
    "\n",
    "    plt.subplot(1, 2, 2)\n",
    "    sns.histplot(imputada, kde=True, color='salmon', bins=30)\n",
    "    plt.title(f'{variable_name} - Imputada')\n",
    "    plt.xlabel(variable_name)\n",
    "    plt.ylabel('Frecuencia')\n",
    "\n",
    "    plt.tight_layout()\n",
    "    plt.show()\n"
   ]
  },
  {
   "cell_type": "code",
   "execution_count": 27,
   "id": "90bafb25",
   "metadata": {},
   "outputs": [
    {
     "data": {
      "image/png": "[encoded data removed]",
      "text/plain": [
       "<Figure size 864x360 with 2 Axes>"
      ]
     },
     "metadata": {},
     "output_type": "display_data"
    }
   ],
   "source": [
    "comparar_imputacion(df['cylinders'], df_imputado['cylinders'], variable_name='cylkinders')"
   ]
  },
  {
   "cell_type": "markdown",
   "id": "5add03e8",
   "metadata": {},
   "source": [
    "En la visualización se comparan las distribuciones de la variable **\"cylinders\"** antes y después del proceso de imputación. En el gráfico de la izquierda se observa la distribución original de los datos sin valores nulos, donde predominan claramente tres categorías: 4, 6 y 8 cilindros, con picos muy marcados que reflejan su alta frecuencia en el conjunto de datos. En el gráfico de la derecha, que muestra los datos una vez imputados, se puede apreciar que la distribución general se ha mantenido prácticamente idéntica. Esto indica que el modelo de imputación basado en Random Forest logró preservar la estructura original de la variable, asignando valores faltantes de manera coherente con las tendencias observadas. La similitud entre ambas distribuciones sugiere que el modelo no introdujo sesgos significativos ni distorsiones en la frecuencia de cada categoría. En general, la imputación fue exitosa, ya que respetó las proporciones naturales de los datos conocidos y completó la variable de forma realista."
   ]
  },
  {
   "cell_type": "code",
   "execution_count": 28,
   "id": "68bcbb66",
   "metadata": {},
   "outputs": [
    {
     "name": "stdout",
     "output_type": "stream",
     "text": [
      "Chi² = 188.607, p-valor = 0.0000\n"
     ]
    }
   ],
   "source": [
    "from scipy.stats import chi2_contingency\n",
    "\n",
    "dist_original = original.value_counts()\n",
    "dist_imputada = imputados.value_counts()\n",
    "\n",
    "contingencia = pd.concat(\n",
    "    [dist_original, dist_imputada], \n",
    "    axis=1, \n",
    "    keys=[\"Original\", \"Imputado\"]\n",
    ").fillna(0).astype(int)\n",
    "\n",
    "chi2, p, dof, expected = chi2_contingency(contingencia)\n",
    "\n",
    "print(f\"Chi² = {chi2:.3f}, p-valor = {p:.4f}\")"
   ]
  },
  {
   "cell_type": "markdown",
   "id": "19006ddc",
   "metadata": {},
   "source": [
    "**Interpretación de la prueba Chi-cuadrado**\n",
    "\n",
    "La prueba **Chi-cuadrado de homogeneidad** se utilizó para comparar la distribución original de la variable *cylinders* con la distribución obtenida tras la imputación.\n",
    "\n",
    "- **Hipótesis nula (H₀):** no hay diferencia entre ambas distribuciones.  \n",
    "- **Hipótesis alternativa (H₁):** existe diferencia entre las distribuciones.  \n",
    "\n",
    "En este análisis se obtuvo:  \n",
    "chi^2 = 192.491, p-value = 0\n",
    "\n",
    "Esto significa que se **rechaza la hipótesis nula** y se concluye que existen diferencias estadísticamente significativas entre las distribuciones.  \n",
    "\n",
    "Sin embargo, debido al **tamaño de la muestra**, el test puede detectar como significativas diferencias muy pequeñas. Por esta razón, se complementa con otras métricas (Jensen–Shannon y KL), que muestran que, a pesar de la significancia estadística, las distribuciones son **prácticamente equivalentes en la práctica**.\n"
   ]
  },
  {
   "cell_type": "code",
   "execution_count": 29,
   "id": "e834c613",
   "metadata": {},
   "outputs": [
    {
     "name": "stdout",
     "output_type": "stream",
     "text": [
      "Jensen-Shannon distance = 0.0123\n",
      "KL(p||q) = 0.0006, KL(q||p) = 0.0006\n"
     ]
    }
   ],
   "source": [
    "import numpy as np\n",
    "from scipy.spatial.distance import jensenshannon\n",
    "from scipy.stats import entropy\n",
    "\n",
    "p = dist_original / dist_original.sum()\n",
    "q = dist_imputada / dist_imputada.sum()\n",
    "\n",
    "p, q = p.align(q, fill_value=0)\n",
    "\n",
    "p = p.to_numpy(dtype=float)\n",
    "q = q.to_numpy(dtype=float)\n",
    "\n",
    "epsilon = 1e-10\n",
    "p += epsilon\n",
    "q += epsilon\n",
    "\n",
    "p /= p.sum()\n",
    "q /= q.sum()\n",
    "\n",
    "jsd = jensenshannon(p, q)\n",
    "print(f\"Jensen-Shannon distance = {jsd:.4f}\")\n",
    "\n",
    "kl_pq = entropy(p, q)   # KL(p || q)\n",
    "kl_qp = entropy(q, p)   # KL(q || p)\n",
    "print(f\"KL(p||q) = {kl_pq:.4f}, KL(q||p) = {kl_qp:.4f}\")\n"
   ]
  },
  {
   "cell_type": "markdown",
   "id": "ccca572e",
   "metadata": {},
   "source": [
    "**Evaluación de la similitud entre distribuciones**\n",
    "\n",
    "Además de la prueba Chi-cuadrado, se calcularon métricas de divergencia entre la distribución original de la variable *cylinders* y la distribución obtenida después de la imputación. Estas métricas permiten cuantificar cuán parecidas son ambas distribuciones, más allá de la significancia estadística.\n",
    "\n",
    "***Jensen–Shannon Distance (JSD)***\n",
    "\n",
    "La **Jensen–Shannon Distance** es una medida de similitud entre dos distribuciones de probabilidad.  \n",
    "- Su valor está acotado entre **0 y 1**.  \n",
    "- **0** indica que las distribuciones son idénticas.  \n",
    "- Valores pequeños (ej. < 0.05) indican que las distribuciones son **muy similares**.  \n",
    "\n",
    " \n",
    "el resultado obternido sugiere que la distribución de la variable imputada es prácticamente indistinguible de la original.\n",
    "\n",
    "---\n",
    "\n",
    "***Kullback–Leibler Divergence (KL)***\n",
    "\n",
    "La **divergencia de Kullback–Leibler (KL)** mide la diferencia entre dos distribuciones de probabilidad desde el punto de vista de la información.  \n",
    "- KL(p‖q) indica cuánta información se pierde al aproximar la distribución original (*p*) con la imputada (*q*).  \n",
    "- KL(q‖p) mide lo contrario.  \n",
    "- El valor mínimo es **0**, que implica distribuciones idénticas.  \n",
    "- Valores más grandes indican mayor diferencia.  \n",
    "\n",
    "En nuestro caso los valores obtenidos son muy cercanos a cero, lo que indica que las distribuciones son prácticamente equivalentes en términos de información."
   ]
  },
  {
   "cell_type": "code",
   "execution_count": 30,
   "id": "80e2416d",
   "metadata": {},
   "outputs": [],
   "source": [
    "def comparar_categoricas(df_original, df, columnas):\n",
    "\n",
    "    for col in columnas:\n",
    "        plt.figure(figsize=(14,5))\n",
    "        \n",
    "        plt.subplot(1, 2, 1)\n",
    "        sns.countplot(y=df_original[col], order=df_original[col].value_counts().index)\n",
    "        plt.title(f\"{col} - Original (con NA)\")\n",
    "        \n",
    "        plt.subplot(1, 2, 2)\n",
    "        sns.countplot(y=df[col], order=df[col].value_counts().index)\n",
    "        plt.title(f\"{col} - Después de imputar\")\n",
    "        \n",
    "        plt.tight_layout()\n",
    "        plt.show()"
   ]
  },
  {
   "cell_type": "markdown",
   "id": "d34d3f14",
   "metadata": {},
   "source": [
    "Esta función ayuda a comparar dos dsitribuciones gráficamente, específicamente para comprobar las distribuciones de una variable antes y depués de imputar los datos faltantes."
   ]
  },
  {
   "cell_type": "markdown",
   "id": "fa2045f3",
   "metadata": {},
   "source": [
    "#### ***3.3.2.2. `condition:`***"
   ]
  },
  {
   "cell_type": "markdown",
   "id": "b66462ed",
   "metadata": {},
   "source": [
    "En primer lugar, se observa la proporción de cada categoría según el total de los datos de la variable `condition`."
   ]
  },
  {
   "cell_type": "code",
   "execution_count": 31,
   "id": "81ce44bf",
   "metadata": {},
   "outputs": [
    {
     "data": {
      "text/html": [
       "<div>\n",
       "<style scoped>\n",
       "    .dataframe tbody tr th:only-of-type {\n",
       "        vertical-align: middle;\n",
       "    }\n",
       "\n",
       "    .dataframe tbody tr th {\n",
       "        vertical-align: top;\n",
       "    }\n",
       "\n",
       "    .dataframe thead th {\n",
       "        text-align: right;\n",
       "    }\n",
       "</style>\n",
       "<table border=\"1\" class=\"dataframe\">\n",
       "  <thead>\n",
       "    <tr style=\"text-align: right;\">\n",
       "      <th></th>\n",
       "      <th>Conteo</th>\n",
       "      <th>Porcentaje (%)</th>\n",
       "    </tr>\n",
       "  </thead>\n",
       "  <tbody>\n",
       "    <tr>\n",
       "      <th>NaN</th>\n",
       "      <td>174104</td>\n",
       "      <td>40.79</td>\n",
       "    </tr>\n",
       "    <tr>\n",
       "      <th>good</th>\n",
       "      <td>121456</td>\n",
       "      <td>28.45</td>\n",
       "    </tr>\n",
       "    <tr>\n",
       "      <th>excellent</th>\n",
       "      <td>101467</td>\n",
       "      <td>23.77</td>\n",
       "    </tr>\n",
       "    <tr>\n",
       "      <th>like new</th>\n",
       "      <td>21178</td>\n",
       "      <td>4.96</td>\n",
       "    </tr>\n",
       "    <tr>\n",
       "      <th>fair</th>\n",
       "      <td>6769</td>\n",
       "      <td>1.59</td>\n",
       "    </tr>\n",
       "    <tr>\n",
       "      <th>new</th>\n",
       "      <td>1305</td>\n",
       "      <td>0.31</td>\n",
       "    </tr>\n",
       "    <tr>\n",
       "      <th>salvage</th>\n",
       "      <td>601</td>\n",
       "      <td>0.14</td>\n",
       "    </tr>\n",
       "  </tbody>\n",
       "</table>\n",
       "</div>"
      ],
      "text/plain": [
       "           Conteo  Porcentaje (%)\n",
       "NaN        174104           40.79\n",
       "good       121456           28.45\n",
       "excellent  101467           23.77\n",
       "like new    21178            4.96\n",
       "fair         6769            1.59\n",
       "new          1305            0.31\n",
       "salvage       601            0.14"
      ]
     },
     "execution_count": 31,
     "metadata": {},
     "output_type": "execute_result"
    }
   ],
   "source": [
    "resumen_categorias(df,\"condition\")"
   ]
  },
  {
   "cell_type": "markdown",
   "id": "92c42796",
   "metadata": {},
   "source": [
    "Note que la categoría con mayor proporción es `NaN`, es decir, los valores faltantes."
   ]
  },
  {
   "cell_type": "markdown",
   "id": "938f7621",
   "metadata": {},
   "source": [
    "Como `condition` es una variable categórica politómica y los datos faltantes representan más del 40%, se toman los datos faltantes como una categoría con el fin de no perder la información y se decide no imputar porque podría generar overfiting."
   ]
  },
  {
   "cell_type": "code",
   "execution_count": 32,
   "id": "d7184d06",
   "metadata": {},
   "outputs": [],
   "source": [
    "df_imputado['condition'] = df_imputado['condition'].fillna(\"condition_missing\")"
   ]
  },
  {
   "cell_type": "markdown",
   "id": "69439e53",
   "metadata": {},
   "source": [
    "Se verifica que la nueva categoría se haya creado correctamente y no existan más valores faltantes."
   ]
  },
  {
   "cell_type": "code",
   "execution_count": 33,
   "id": "afc64e03",
   "metadata": {},
   "outputs": [
    {
     "name": "stdout",
     "output_type": "stream",
     "text": [
      "¿Hay NA en columnas imputadas? False\n",
      "Conteo de NA por columna imputada:\n",
      "0\n"
     ]
    }
   ],
   "source": [
    "hay_na = df_imputado['condition'].isnull().values.any()\n",
    "print(f\"¿Hay NA en columnas imputadas? {hay_na}\")\n",
    "\n",
    "na_por_col = df_imputado['condition'].isnull().sum()\n",
    "print(\"Conteo de NA por columna imputada:\")\n",
    "print(na_por_col)"
   ]
  },
  {
   "cell_type": "markdown",
   "id": "7b477581",
   "metadata": {},
   "source": [
    "Efectivamente se realizó correctamente el proceso de creación de la nueva categoría. "
   ]
  },
  {
   "cell_type": "markdown",
   "id": "b4cc6af5",
   "metadata": {},
   "source": [
    "Entonces observemos como cambia la distribución de la variable antes y después de la imputación."
   ]
  },
  {
   "cell_type": "code",
   "execution_count": 34,
   "id": "18e4ba5a",
   "metadata": {},
   "outputs": [
    {
     "data": {
      "image/png": "[encoded data removed]",
      "text/plain": [
       "<Figure size 1008x360 with 2 Axes>"
      ]
     },
     "metadata": {},
     "output_type": "display_data"
    }
   ],
   "source": [
    "comparar_categoricas(df, df_imputado, ['condition'])"
   ]
  },
  {
   "cell_type": "markdown",
   "id": "dc0dba46",
   "metadata": {},
   "source": [
    "En esta gráfica se compara la distribución de la variable categórica **`condition`** antes y después del proceso de imputación de valores faltantes. En el gráfico de la izquierda, correspondiente a los datos originales, se observa que la categoría predominante es **\"good\"**, seguida por **\"excellent\"** y **\"like new\"**, mientras que algunas observaciones presentan valores ausentes (NA). Tras la imputación, como se muestra en el gráfico de la derecha, se introduce explícitamente una nueva categoría llamada **\"condition_missing\"** para representar los datos que originalmente estaban ausentes, lo que permite conservar la información sobre la falta de datos sin eliminar registros. Además, se mantiene la misma jerarquía en las frecuencias de las otras categorías, aunque se evidencia un incremento en la frecuencia total, como resultado del tratamiento de los valores faltantes. "
   ]
  },
  {
   "cell_type": "markdown",
   "id": "5e6283d3",
   "metadata": {},
   "source": [
    "#### ***3.3.2.3. `drive:`***"
   ]
  },
  {
   "cell_type": "code",
   "execution_count": 35,
   "id": "f44b24f4",
   "metadata": {},
   "outputs": [
    {
     "data": {
      "text/html": [
       "<div>\n",
       "<style scoped>\n",
       "    .dataframe tbody tr th:only-of-type {\n",
       "        vertical-align: middle;\n",
       "    }\n",
       "\n",
       "    .dataframe tbody tr th {\n",
       "        vertical-align: top;\n",
       "    }\n",
       "\n",
       "    .dataframe thead th {\n",
       "        text-align: right;\n",
       "    }\n",
       "</style>\n",
       "<table border=\"1\" class=\"dataframe\">\n",
       "  <thead>\n",
       "    <tr style=\"text-align: right;\">\n",
       "      <th></th>\n",
       "      <th>Conteo</th>\n",
       "      <th>Porcentaje (%)</th>\n",
       "    </tr>\n",
       "  </thead>\n",
       "  <tbody>\n",
       "    <tr>\n",
       "      <th>4wd</th>\n",
       "      <td>131904</td>\n",
       "      <td>30.90</td>\n",
       "    </tr>\n",
       "    <tr>\n",
       "      <th>NaN</th>\n",
       "      <td>130567</td>\n",
       "      <td>30.59</td>\n",
       "    </tr>\n",
       "    <tr>\n",
       "      <th>fwd</th>\n",
       "      <td>105517</td>\n",
       "      <td>24.72</td>\n",
       "    </tr>\n",
       "    <tr>\n",
       "      <th>rwd</th>\n",
       "      <td>58892</td>\n",
       "      <td>13.80</td>\n",
       "    </tr>\n",
       "  </tbody>\n",
       "</table>\n",
       "</div>"
      ],
      "text/plain": [
       "     Conteo  Porcentaje (%)\n",
       "4wd  131904           30.90\n",
       "NaN  130567           30.59\n",
       "fwd  105517           24.72\n",
       "rwd   58892           13.80"
      ]
     },
     "execution_count": 35,
     "metadata": {},
     "output_type": "execute_result"
    }
   ],
   "source": [
    "resumen_categorias(df,\"drive\")"
   ]
  },
  {
   "cell_type": "markdown",
   "id": "fa6b0753",
   "metadata": {},
   "source": [
    "Se utiliza la función `resumen_categorias` para analizar la variable categórica `drive` dentro del DataFrame `df`. El resultado muestra un conteo y el porcentaje de ocurrencia de cada categoría presente en esta variable. Se observa que hay un valor ausente (`NaN`) que representa el 30.59% del total, casi igual al porcentaje de la categoría más frecuente, `4wd`, que representa el 30.90%. Esto sugiere que una gran proporción de los datos está incompleta en esta variable, lo que justifica la necesidad de una estrategia de imputación."
   ]
  },
  {
   "cell_type": "code",
   "execution_count": 36,
   "id": "f72c0590",
   "metadata": {},
   "outputs": [],
   "source": [
    "def imputar_por_moda(df, df_copy, columnas):\n",
    "    for col in columnas:\n",
    "        moda = df_copy[col].mode()\n",
    "        if not moda.empty:\n",
    "            df_copy[col].fillna(moda[0], inplace=True)\n",
    "        else:\n",
    "            print(f\"Advertencia: La columna {col} está vacía o no tiene moda.\")\n",
    "    return df_copy"
   ]
  },
  {
   "cell_type": "markdown",
   "id": "38299b3a",
   "metadata": {},
   "source": [
    "Ahora se define una función llamada `imputar_por_moda` que permite reemplazar los valores nulos en una o más columnas categóricas usando la moda (el valor más frecuente) como criterio de imputación. Esta función toma como entrada el DataFrame original (`df`), una copia del mismo (`df_copy`) y una lista de nombres de columnas a imputar. Para cada columna indicada, se calcula la moda; si existe, se rellena con ese valor, y si no hay moda (por ejemplo, si la columna está vacía), se muestra una advertencia. Finalmente, la función devuelve el DataFrame modificado."
   ]
  },
  {
   "cell_type": "code",
   "execution_count": 37,
   "id": "420b5f7f",
   "metadata": {},
   "outputs": [],
   "source": [
    "df_imputado['drive'] = df_imputado['drive'].fillna(\"drive_missing\")"
   ]
  },
  {
   "cell_type": "markdown",
   "id": "7d481dc4",
   "metadata": {},
   "source": [
    "Luego se aplica una imputación directa a la columna `drive` del DataFrame `df_imputado`, rellenando los valores nulos con una nueva categoría llamada `\"drive_missing\"`. Esta técnica de imputación permite conservar la información sobre la ausencia de datos sin recurrir a la eliminación de registros ni a una suposición sobre el valor ausente, como podría ser el uso de la moda."
   ]
  },
  {
   "cell_type": "code",
   "execution_count": 38,
   "id": "06d589dd",
   "metadata": {},
   "outputs": [
    {
     "name": "stdout",
     "output_type": "stream",
     "text": [
      "¿Hay NA en columnas imputadas? False\n",
      "Conteo de NA por columna imputada:\n",
      "0\n"
     ]
    }
   ],
   "source": [
    "hay_na = df_imputado['drive'].isnull().values.any()\n",
    "print(f\"¿Hay NA en columnas imputadas? {hay_na}\")\n",
    "\n",
    "na_por_col = df_imputado['drive'].isnull().sum()\n",
    "print(\"Conteo de NA por columna imputada:\")\n",
    "print(na_por_col)"
   ]
  },
  {
   "cell_type": "markdown",
   "id": "3bfe0359",
   "metadata": {},
   "source": [
    "Y se verifica que la imputación realizada en la columna `drive` fue exitosa. Primero, se evalúa si aún existen valores nulos en la columna mediante la función `isnull().values.any()`, lo cual devuelve `False`, indicando que no hay valores ausentes. Luego, se cuenta explícitamente la cantidad de valores nulos restantes con `isnull().sum()`, que arroja como resultado 0. Esto confirma que todos los valores `NaN` en la columna fueron reemplazados correctamente durante el proceso de imputación."
   ]
  },
  {
   "cell_type": "code",
   "execution_count": 39,
   "id": "dc039fd3",
   "metadata": {},
   "outputs": [],
   "source": [
    "def comparar_categoricas(df_original, df, columnas):\n",
    "\n",
    "    for col in columnas:\n",
    "        plt.figure(figsize=(14,5))\n",
    "        \n",
    "        plt.subplot(1, 2, 1)\n",
    "        sns.countplot(y=df_original[col], order=df_original[col].value_counts().index)\n",
    "        plt.title(f\"{col} - Original (con NA)\")\n",
    "        \n",
    "        plt.subplot(1, 2, 2)\n",
    "        sns.countplot(y=df[col], order=df[col].value_counts().index)\n",
    "        plt.title(f\"{col} - Después de imputar\")\n",
    "        \n",
    "        plt.tight_layout()\n",
    "        plt.show()"
   ]
  },
  {
   "cell_type": "markdown",
   "id": "d37b6a0f",
   "metadata": {},
   "source": [
    "Se define una función que permite visualizar comparativamente la distribución de variables categóricas antes y después de realizar una imputación. "
   ]
  },
  {
   "cell_type": "code",
   "execution_count": 40,
   "id": "ec634629",
   "metadata": {},
   "outputs": [
    {
     "data": {
      "image/png": "[encoded data removed]",
      "text/plain": [
       "<Figure size 1008x360 with 2 Axes>"
      ]
     },
     "metadata": {},
     "output_type": "display_data"
    }
   ],
   "source": [
    "comparar_categoricas(df, df_imputado, ['drive'])"
   ]
  },
  {
   "cell_type": "markdown",
   "id": "f837ef6a",
   "metadata": {},
   "source": [
    "\n",
    "Se realiza una comparación gráfica de la variable `drive` utilizando la función anterior. En el gráfico izquierdo se muestra la distribución original, donde las categorías `4wd`, `fwd` y `rwd` son visibles, sin que se representen los valores faltantes de forma explícita. En el gráfico derecho, correspondiente al DataFrame imputado, se observa una nueva categoría denominada `drive_missing`, que agrupa los registros que originalmente tenían valores nulos. La distribución general de las categorías principales se conserva, lo que sugiere que la imputación se realizó de forma controlada, sin afectar sustancialmente la estructura original de los datos.\n",
    "\n"
   ]
  },
  {
   "cell_type": "markdown",
   "id": "731dfec3",
   "metadata": {},
   "source": [
    "#### ***3.3.2.4. `paint_color:`***"
   ]
  },
  {
   "cell_type": "code",
   "execution_count": 41,
   "id": "ead33ccb",
   "metadata": {},
   "outputs": [
    {
     "data": {
      "text/html": [
       "<div>\n",
       "<style scoped>\n",
       "    .dataframe tbody tr th:only-of-type {\n",
       "        vertical-align: middle;\n",
       "    }\n",
       "\n",
       "    .dataframe tbody tr th {\n",
       "        vertical-align: top;\n",
       "    }\n",
       "\n",
       "    .dataframe thead th {\n",
       "        text-align: right;\n",
       "    }\n",
       "</style>\n",
       "<table border=\"1\" class=\"dataframe\">\n",
       "  <thead>\n",
       "    <tr style=\"text-align: right;\">\n",
       "      <th></th>\n",
       "      <th>Conteo</th>\n",
       "      <th>Porcentaje (%)</th>\n",
       "    </tr>\n",
       "  </thead>\n",
       "  <tbody>\n",
       "    <tr>\n",
       "      <th>NaN</th>\n",
       "      <td>130203</td>\n",
       "      <td>30.50</td>\n",
       "    </tr>\n",
       "    <tr>\n",
       "      <th>white</th>\n",
       "      <td>79285</td>\n",
       "      <td>18.57</td>\n",
       "    </tr>\n",
       "    <tr>\n",
       "      <th>black</th>\n",
       "      <td>62861</td>\n",
       "      <td>14.73</td>\n",
       "    </tr>\n",
       "    <tr>\n",
       "      <th>silver</th>\n",
       "      <td>42970</td>\n",
       "      <td>10.07</td>\n",
       "    </tr>\n",
       "    <tr>\n",
       "      <th>blue</th>\n",
       "      <td>31223</td>\n",
       "      <td>7.31</td>\n",
       "    </tr>\n",
       "    <tr>\n",
       "      <th>red</th>\n",
       "      <td>30473</td>\n",
       "      <td>7.14</td>\n",
       "    </tr>\n",
       "    <tr>\n",
       "      <th>grey</th>\n",
       "      <td>24416</td>\n",
       "      <td>5.72</td>\n",
       "    </tr>\n",
       "    <tr>\n",
       "      <th>green</th>\n",
       "      <td>7343</td>\n",
       "      <td>1.72</td>\n",
       "    </tr>\n",
       "    <tr>\n",
       "      <th>custom</th>\n",
       "      <td>6700</td>\n",
       "      <td>1.57</td>\n",
       "    </tr>\n",
       "    <tr>\n",
       "      <th>brown</th>\n",
       "      <td>6593</td>\n",
       "      <td>1.54</td>\n",
       "    </tr>\n",
       "    <tr>\n",
       "      <th>yellow</th>\n",
       "      <td>2142</td>\n",
       "      <td>0.50</td>\n",
       "    </tr>\n",
       "    <tr>\n",
       "      <th>orange</th>\n",
       "      <td>1984</td>\n",
       "      <td>0.46</td>\n",
       "    </tr>\n",
       "    <tr>\n",
       "      <th>purple</th>\n",
       "      <td>687</td>\n",
       "      <td>0.16</td>\n",
       "    </tr>\n",
       "  </tbody>\n",
       "</table>\n",
       "</div>"
      ],
      "text/plain": [
       "        Conteo  Porcentaje (%)\n",
       "NaN     130203           30.50\n",
       "white    79285           18.57\n",
       "black    62861           14.73\n",
       "silver   42970           10.07\n",
       "blue     31223            7.31\n",
       "red      30473            7.14\n",
       "grey     24416            5.72\n",
       "green     7343            1.72\n",
       "custom    6700            1.57\n",
       "brown     6593            1.54\n",
       "yellow    2142            0.50\n",
       "orange    1984            0.46\n",
       "purple     687            0.16"
      ]
     },
     "execution_count": 41,
     "metadata": {},
     "output_type": "execute_result"
    }
   ],
   "source": [
    "resumen_categorias(df,\"paint_color\")"
   ]
  },
  {
   "cell_type": "markdown",
   "id": "6e48235f",
   "metadata": {},
   "source": [
    "Los datos muestran una cantidad considerable de valores ausentes (NaN), que representan aproximadamente el 30.23 % del total, superando incluso a la categoría más frecuente, `white`. Esta observación pone en evidencia la necesidad de tratar los valores faltantes antes de continuar con el análisis."
   ]
  },
  {
   "cell_type": "code",
   "execution_count": 42,
   "id": "ae715893",
   "metadata": {},
   "outputs": [],
   "source": [
    "df_imputado['paint_color'] = df_imputado['paint_color'].fillna(\"paint_missing\")"
   ]
  },
  {
   "cell_type": "markdown",
   "id": "d96c2960",
   "metadata": {},
   "source": [
    "Auí se imputanlos datos. Esta imputación de los valores nulos en la columna `paint_color` consiste en asignarles una nueva categoría denominada `\"paint_missing\"`, lo que permite conservar la información sobre la ausencia de datos sin asumir valores arbitrarios ni eliminar registros del conjunto, lo cual resulta útil para mantener la integridad del análisis posterior."
   ]
  },
  {
   "cell_type": "code",
   "execution_count": 43,
   "id": "2c622480",
   "metadata": {},
   "outputs": [
    {
     "name": "stdout",
     "output_type": "stream",
     "text": [
      "¿Hay NA en columnas imputadas? False\n",
      "Conteo de NA por columna imputada:\n",
      "0\n"
     ]
    }
   ],
   "source": [
    "hay_na = df_imputado['paint_color'].isnull().values.any()\n",
    "print(f\"¿Hay NA en columnas imputadas? {hay_na}\")\n",
    "\n",
    "na_por_col = df_imputado['paint_color'].isnull().sum()\n",
    "print(\"Conteo de NA por columna imputada:\")\n",
    "print(na_por_col)"
   ]
  },
  {
   "cell_type": "markdown",
   "id": "0ec4069b",
   "metadata": {},
   "source": [
    "El resultado indica que no existe ningún valor faltante y que la cantidad de datos ausentes es cero. Esto confirma que el reemplazo fue aplicado correctamente y no quedaron valores sin imputar."
   ]
  },
  {
   "cell_type": "code",
   "execution_count": 44,
   "id": "7f1341b5",
   "metadata": {},
   "outputs": [
    {
     "data": {
      "image/png": "[encoded data removed]",
      "text/plain": [
       "<Figure size 1008x360 with 2 Axes>"
      ]
     },
     "metadata": {},
     "output_type": "display_data"
    }
   ],
   "source": [
    "comparar_categoricas(df, df_imputado, ['paint_color'])"
   ]
  },
  {
   "cell_type": "markdown",
   "id": "eef9da78",
   "metadata": {},
   "source": [
    "La visualización final muestra la comparación entre la distribución original de la variable `paint_color` y la distribución obtenida tras la imputación. En la versión original no aparece una categoría específica para los valores faltantes, mientras que en la versión modificada ya figura `\"paint_missing\"` como una nueva clase. El resto de las categorías mantiene proporciones similares, lo cual indica que la estructura general de la variable no fue alterada de manera significativa."
   ]
  },
  {
   "cell_type": "markdown",
   "id": "10bf755d",
   "metadata": {},
   "source": [
    "#### ***3.3.2.5. `type:`***"
   ]
  },
  {
   "cell_type": "code",
   "execution_count": 45,
   "id": "79970700",
   "metadata": {},
   "outputs": [
    {
     "data": {
      "text/html": [
       "<div>\n",
       "<style scoped>\n",
       "    .dataframe tbody tr th:only-of-type {\n",
       "        vertical-align: middle;\n",
       "    }\n",
       "\n",
       "    .dataframe tbody tr th {\n",
       "        vertical-align: top;\n",
       "    }\n",
       "\n",
       "    .dataframe thead th {\n",
       "        text-align: right;\n",
       "    }\n",
       "</style>\n",
       "<table border=\"1\" class=\"dataframe\">\n",
       "  <thead>\n",
       "    <tr style=\"text-align: right;\">\n",
       "      <th></th>\n",
       "      <th>Conteo</th>\n",
       "      <th>Porcentaje (%)</th>\n",
       "    </tr>\n",
       "  </thead>\n",
       "  <tbody>\n",
       "    <tr>\n",
       "      <th>NaN</th>\n",
       "      <td>92858</td>\n",
       "      <td>21.75</td>\n",
       "    </tr>\n",
       "    <tr>\n",
       "      <th>sedan</th>\n",
       "      <td>87056</td>\n",
       "      <td>20.39</td>\n",
       "    </tr>\n",
       "    <tr>\n",
       "      <th>SUV</th>\n",
       "      <td>77284</td>\n",
       "      <td>18.10</td>\n",
       "    </tr>\n",
       "    <tr>\n",
       "      <th>pickup</th>\n",
       "      <td>43510</td>\n",
       "      <td>10.19</td>\n",
       "    </tr>\n",
       "    <tr>\n",
       "      <th>truck</th>\n",
       "      <td>35279</td>\n",
       "      <td>8.26</td>\n",
       "    </tr>\n",
       "    <tr>\n",
       "      <th>other</th>\n",
       "      <td>22110</td>\n",
       "      <td>5.18</td>\n",
       "    </tr>\n",
       "    <tr>\n",
       "      <th>coupe</th>\n",
       "      <td>19204</td>\n",
       "      <td>4.50</td>\n",
       "    </tr>\n",
       "    <tr>\n",
       "      <th>hatchback</th>\n",
       "      <td>16598</td>\n",
       "      <td>3.89</td>\n",
       "    </tr>\n",
       "    <tr>\n",
       "      <th>wagon</th>\n",
       "      <td>10751</td>\n",
       "      <td>2.52</td>\n",
       "    </tr>\n",
       "    <tr>\n",
       "      <th>van</th>\n",
       "      <td>8548</td>\n",
       "      <td>2.00</td>\n",
       "    </tr>\n",
       "    <tr>\n",
       "      <th>convertible</th>\n",
       "      <td>7731</td>\n",
       "      <td>1.81</td>\n",
       "    </tr>\n",
       "    <tr>\n",
       "      <th>mini-van</th>\n",
       "      <td>4825</td>\n",
       "      <td>1.13</td>\n",
       "    </tr>\n",
       "    <tr>\n",
       "      <th>offroad</th>\n",
       "      <td>609</td>\n",
       "      <td>0.14</td>\n",
       "    </tr>\n",
       "    <tr>\n",
       "      <th>bus</th>\n",
       "      <td>517</td>\n",
       "      <td>0.12</td>\n",
       "    </tr>\n",
       "  </tbody>\n",
       "</table>\n",
       "</div>"
      ],
      "text/plain": [
       "             Conteo  Porcentaje (%)\n",
       "NaN           92858           21.75\n",
       "sedan         87056           20.39\n",
       "SUV           77284           18.10\n",
       "pickup        43510           10.19\n",
       "truck         35279            8.26\n",
       "other         22110            5.18\n",
       "coupe         19204            4.50\n",
       "hatchback     16598            3.89\n",
       "wagon         10751            2.52\n",
       "van            8548            2.00\n",
       "convertible    7731            1.81\n",
       "mini-van       4825            1.13\n",
       "offroad         609            0.14\n",
       "bus             517            0.12"
      ]
     },
     "execution_count": 45,
     "metadata": {},
     "output_type": "execute_result"
    }
   ],
   "source": [
    "resumen_categorias(df,\"type\")"
   ]
  },
  {
   "cell_type": "markdown",
   "id": "d9194222",
   "metadata": {},
   "source": [
    "La variable categórica `type` muestra una distribución encabezada por la categoría `sedan`, seguida de `SUV`, `pickup` y `truck`. Sin embargo, una proporción considerable de los registros no cuenta con información en esta variable, lo cual queda evidenciado por los más de 92,000 valores ausentes, que representan un 21.75 % del total. Esta cantidad de datos faltantes justifica la necesidad de aplicar una estrategia de imputación antes de continuar con el análisis."
   ]
  },
  {
   "cell_type": "code",
   "execution_count": 46,
   "id": "ffcd1e0f",
   "metadata": {},
   "outputs": [],
   "source": [
    "df_imputado['type'] = df_imputado['type'].fillna(\"type_missing\")"
   ]
  },
  {
   "cell_type": "markdown",
   "id": "42ffae3a",
   "metadata": {},
   "source": [
    "Los valores ausentes de la columna `type` son reemplazados por la etiqueta `\"type_missing\"`, incorporada como una nueva categoría. Esta forma de imputación permite mantener el tamaño original del conjunto de datos y conservar la información sobre la falta de contenido sin suponer un valor erróneo ni distorsionar las categorías existentes."
   ]
  },
  {
   "cell_type": "code",
   "execution_count": 47,
   "id": "8e8eeff1",
   "metadata": {},
   "outputs": [
    {
     "name": "stdout",
     "output_type": "stream",
     "text": [
      "¿Hay NA en columnas imputadas? False\n",
      "Conteo de NA por columna imputada:\n",
      "0\n"
     ]
    }
   ],
   "source": [
    "hay_na = df_imputado['type'].isnull().values.any()\n",
    "print(f\"¿Hay NA en columnas imputadas? {hay_na}\")\n",
    "\n",
    "na_por_col = df_imputado['type'].isnull().sum()\n",
    "print(\"Conteo de NA por columna imputada:\")\n",
    "print(na_por_col)"
   ]
  },
  {
   "cell_type": "markdown",
   "id": "3afe4d04",
   "metadata": {},
   "source": [
    "Esta verificación posterior confirma que no quedan datos faltantes en la columna `type` luego de aplicar la imputación. La comprobación lógica devuelve `False`, lo cual indica que no hay valores nulos presentes. Además, el conteo exacto muestra cero registros vacíos, lo que demuestra que la operación fue aplicada correctamente en todos los casos."
   ]
  },
  {
   "cell_type": "code",
   "execution_count": 48,
   "id": "6808d898",
   "metadata": {},
   "outputs": [
    {
     "data": {
      "image/png": "[encoded data removed]",
      "text/plain": [
       "<Figure size 1008x360 with 2 Axes>"
      ]
     },
     "metadata": {},
     "output_type": "display_data"
    }
   ],
   "source": [
    "comparar_categoricas(df, df_imputado, ['type'])"
   ]
  },
  {
   "cell_type": "markdown",
   "id": "0548c582",
   "metadata": {},
   "source": [
    "Esta visualización final ofrece una comparación entre la distribución original y la modificada de la variable `type`. El gráfico de la izquierda muestra la distribución antes de imputar, sin representar los valores nulos explícitamente. En cambio, el gráfico de la derecha incluye la nueva categoría `\"type_missing\"`, correspondiente a los registros que originalmente carecían de información. Las proporciones de las demás categorías se mantienen estables, lo que indica que la imputación no alteró la estructura general de la variable."
   ]
  },
  {
   "cell_type": "markdown",
   "id": "b6abc4ac",
   "metadata": {},
   "source": [
    "### ***3.3.3. Variables con menos del 5% de valores faltantes***"
   ]
  },
  {
   "cell_type": "markdown",
   "id": "6e65a6e0",
   "metadata": {},
   "source": [
    "***3.3.3.4. Variables numéricas:***"
   ]
  },
  {
   "cell_type": "code",
   "execution_count": 49,
   "id": "f0f487bd",
   "metadata": {},
   "outputs": [],
   "source": [
    "var_low_NA_num = [\"lat\", \"long\", \"odometer\",\"year\"]"
   ]
  },
  {
   "cell_type": "markdown",
   "id": "864c1a67",
   "metadata": {},
   "source": [
    "La lista `var_low_NA_num` agrupa las variables numéricas del conjunto de datos que presentan un porcentaje bajo de valores faltantes, específicamente menor al 5%. Esta selección permite aplicar un tratamiento diferenciado para valores ausentes en variables donde el problema es poco significativo, evitando imputaciones agresivas que podrían distorsionar los datos originales."
   ]
  },
  {
   "cell_type": "code",
   "execution_count": 50,
   "id": "46d59001",
   "metadata": {},
   "outputs": [
    {
     "data": {
      "text/html": [
       "<div>\n",
       "<style scoped>\n",
       "    .dataframe tbody tr th:only-of-type {\n",
       "        vertical-align: middle;\n",
       "    }\n",
       "\n",
       "    .dataframe tbody tr th {\n",
       "        vertical-align: top;\n",
       "    }\n",
       "\n",
       "    .dataframe thead th {\n",
       "        text-align: right;\n",
       "    }\n",
       "</style>\n",
       "<table border=\"1\" class=\"dataframe\">\n",
       "  <thead>\n",
       "    <tr style=\"text-align: right;\">\n",
       "      <th></th>\n",
       "      <th>Conteo</th>\n",
       "      <th>Porcentaje (%)</th>\n",
       "    </tr>\n",
       "  </thead>\n",
       "  <tbody>\n",
       "    <tr>\n",
       "      <th>NaN</th>\n",
       "      <td>6549</td>\n",
       "      <td>1.53</td>\n",
       "    </tr>\n",
       "    <tr>\n",
       "      <th>33.779214</th>\n",
       "      <td>3301</td>\n",
       "      <td>0.77</td>\n",
       "    </tr>\n",
       "    <tr>\n",
       "      <th>43.182400</th>\n",
       "      <td>2666</td>\n",
       "      <td>0.62</td>\n",
       "    </tr>\n",
       "    <tr>\n",
       "      <th>40.468785</th>\n",
       "      <td>2346</td>\n",
       "      <td>0.55</td>\n",
       "    </tr>\n",
       "    <tr>\n",
       "      <th>33.786500</th>\n",
       "      <td>2341</td>\n",
       "      <td>0.55</td>\n",
       "    </tr>\n",
       "    <tr>\n",
       "      <th>...</th>\n",
       "      <td>...</td>\n",
       "      <td>...</td>\n",
       "    </tr>\n",
       "    <tr>\n",
       "      <th>29.016844</th>\n",
       "      <td>1</td>\n",
       "      <td>0.00</td>\n",
       "    </tr>\n",
       "    <tr>\n",
       "      <th>35.143705</th>\n",
       "      <td>1</td>\n",
       "      <td>0.00</td>\n",
       "    </tr>\n",
       "    <tr>\n",
       "      <th>35.249000</th>\n",
       "      <td>1</td>\n",
       "      <td>0.00</td>\n",
       "    </tr>\n",
       "    <tr>\n",
       "      <th>35.123981</th>\n",
       "      <td>1</td>\n",
       "      <td>0.00</td>\n",
       "    </tr>\n",
       "    <tr>\n",
       "      <th>43.642930</th>\n",
       "      <td>1</td>\n",
       "      <td>0.00</td>\n",
       "    </tr>\n",
       "  </tbody>\n",
       "</table>\n",
       "<p>53182 rows × 2 columns</p>\n",
       "</div>"
      ],
      "text/plain": [
       "           Conteo  Porcentaje (%)\n",
       "NaN          6549            1.53\n",
       "33.779214    3301            0.77\n",
       "43.182400    2666            0.62\n",
       "40.468785    2346            0.55\n",
       "33.786500    2341            0.55\n",
       "...           ...             ...\n",
       "29.016844       1            0.00\n",
       "35.143705       1            0.00\n",
       "35.249000       1            0.00\n",
       "35.123981       1            0.00\n",
       "43.642930       1            0.00\n",
       "\n",
       "[53182 rows x 2 columns]"
      ]
     },
     "execution_count": 50,
     "metadata": {},
     "output_type": "execute_result"
    }
   ],
   "source": [
    "resumen_categorias(df,\"lat\")"
   ]
  },
  {
   "cell_type": "markdown",
   "id": "a7f315f2",
   "metadata": {},
   "source": [
    "La función `resumen_categorias` aplicada sobre la variable `lat` genera un conteo de los valores más frecuentes, junto con su porcentaje sobre el total. Aunque la variable es numérica, el resumen permite identificar rápidamente valores comunes, posiblemente relacionados con coordenadas geográficas repetidas en el conjunto. La presencia de aproximadamente 1.53 % de valores ausentes indica un nivel bajo de incompletitud, lo cual sugiere que una imputación simple o incluso la eliminación de estas pocas filas podría ser una opción viable sin comprometer la representatividad de la muestra."
   ]
  },
  {
   "cell_type": "code",
   "execution_count": 51,
   "id": "3393b2de",
   "metadata": {},
   "outputs": [
    {
     "data": {
      "text/html": [
       "<div>\n",
       "<style scoped>\n",
       "    .dataframe tbody tr th:only-of-type {\n",
       "        vertical-align: middle;\n",
       "    }\n",
       "\n",
       "    .dataframe tbody tr th {\n",
       "        vertical-align: top;\n",
       "    }\n",
       "\n",
       "    .dataframe thead th {\n",
       "        text-align: right;\n",
       "    }\n",
       "</style>\n",
       "<table border=\"1\" class=\"dataframe\">\n",
       "  <thead>\n",
       "    <tr style=\"text-align: right;\">\n",
       "      <th></th>\n",
       "      <th>Conteo</th>\n",
       "      <th>Porcentaje (%)</th>\n",
       "    </tr>\n",
       "  </thead>\n",
       "  <tbody>\n",
       "    <tr>\n",
       "      <th>NaN</th>\n",
       "      <td>6549</td>\n",
       "      <td>1.53</td>\n",
       "    </tr>\n",
       "    <tr>\n",
       "      <th>-84.411811</th>\n",
       "      <td>3301</td>\n",
       "      <td>0.77</td>\n",
       "    </tr>\n",
       "    <tr>\n",
       "      <th>-84.112200</th>\n",
       "      <td>2666</td>\n",
       "      <td>0.62</td>\n",
       "    </tr>\n",
       "    <tr>\n",
       "      <th>-74.281707</th>\n",
       "      <td>2346</td>\n",
       "      <td>0.55</td>\n",
       "    </tr>\n",
       "    <tr>\n",
       "      <th>-84.445400</th>\n",
       "      <td>2341</td>\n",
       "      <td>0.55</td>\n",
       "    </tr>\n",
       "    <tr>\n",
       "      <th>...</th>\n",
       "      <td>...</td>\n",
       "      <td>...</td>\n",
       "    </tr>\n",
       "    <tr>\n",
       "      <th>-95.112076</th>\n",
       "      <td>1</td>\n",
       "      <td>0.00</td>\n",
       "    </tr>\n",
       "    <tr>\n",
       "      <th>-93.807449</th>\n",
       "      <td>1</td>\n",
       "      <td>0.00</td>\n",
       "    </tr>\n",
       "    <tr>\n",
       "      <th>-94.154610</th>\n",
       "      <td>1</td>\n",
       "      <td>0.00</td>\n",
       "    </tr>\n",
       "    <tr>\n",
       "      <th>-94.161800</th>\n",
       "      <td>1</td>\n",
       "      <td>0.00</td>\n",
       "    </tr>\n",
       "    <tr>\n",
       "      <th>-108.222976</th>\n",
       "      <td>1</td>\n",
       "      <td>0.00</td>\n",
       "    </tr>\n",
       "  </tbody>\n",
       "</table>\n",
       "<p>53773 rows × 2 columns</p>\n",
       "</div>"
      ],
      "text/plain": [
       "             Conteo  Porcentaje (%)\n",
       " NaN           6549            1.53\n",
       "-84.411811     3301            0.77\n",
       "-84.112200     2666            0.62\n",
       "-74.281707     2346            0.55\n",
       "-84.445400     2341            0.55\n",
       "...             ...             ...\n",
       "-95.112076        1            0.00\n",
       "-93.807449        1            0.00\n",
       "-94.154610        1            0.00\n",
       "-94.161800        1            0.00\n",
       "-108.222976       1            0.00\n",
       "\n",
       "[53773 rows x 2 columns]"
      ]
     },
     "execution_count": 51,
     "metadata": {},
     "output_type": "execute_result"
    }
   ],
   "source": [
    "resumen_categorias(df,\"long\")"
   ]
  },
  {
   "cell_type": "markdown",
   "id": "74da60ff",
   "metadata": {},
   "source": [
    "El análisis aplicado a la variable `long` permite observar una distribución muy similar a la de `lat`, tanto en términos de valores frecuentes como en la proporción de datos ausentes. También aquí, el porcentaje de valores nulos se mantiene en torno al 1.53 %, lo que refuerza la idea de que el impacto de estos valores perdidos sobre el análisis general es mínimo. Este tipo de revisión facilita la toma de decisiones sobre imputación en variables numéricas, especialmente cuando se busca preservar la estructura espacial en conjuntos de datos con información geográfica."
   ]
  },
  {
   "cell_type": "code",
   "execution_count": 52,
   "id": "5f4b4076",
   "metadata": {},
   "outputs": [
    {
     "data": {
      "text/html": [
       "<div>\n",
       "<style scoped>\n",
       "    .dataframe tbody tr th:only-of-type {\n",
       "        vertical-align: middle;\n",
       "    }\n",
       "\n",
       "    .dataframe tbody tr th {\n",
       "        vertical-align: top;\n",
       "    }\n",
       "\n",
       "    .dataframe thead th {\n",
       "        text-align: right;\n",
       "    }\n",
       "</style>\n",
       "<table border=\"1\" class=\"dataframe\">\n",
       "  <thead>\n",
       "    <tr style=\"text-align: right;\">\n",
       "      <th></th>\n",
       "      <th>Conteo</th>\n",
       "      <th>Porcentaje (%)</th>\n",
       "    </tr>\n",
       "  </thead>\n",
       "  <tbody>\n",
       "    <tr>\n",
       "      <th>NaN</th>\n",
       "      <td>4400</td>\n",
       "      <td>1.03</td>\n",
       "    </tr>\n",
       "    <tr>\n",
       "      <th>100000.0</th>\n",
       "      <td>2263</td>\n",
       "      <td>0.53</td>\n",
       "    </tr>\n",
       "    <tr>\n",
       "      <th>1.0</th>\n",
       "      <td>2246</td>\n",
       "      <td>0.53</td>\n",
       "    </tr>\n",
       "    <tr>\n",
       "      <th>0.0</th>\n",
       "      <td>1965</td>\n",
       "      <td>0.46</td>\n",
       "    </tr>\n",
       "    <tr>\n",
       "      <th>200000.0</th>\n",
       "      <td>1728</td>\n",
       "      <td>0.40</td>\n",
       "    </tr>\n",
       "    <tr>\n",
       "      <th>...</th>\n",
       "      <td>...</td>\n",
       "      <td>...</td>\n",
       "    </tr>\n",
       "    <tr>\n",
       "      <th>149468.0</th>\n",
       "      <td>1</td>\n",
       "      <td>0.00</td>\n",
       "    </tr>\n",
       "    <tr>\n",
       "      <th>154259.0</th>\n",
       "      <td>1</td>\n",
       "      <td>0.00</td>\n",
       "    </tr>\n",
       "    <tr>\n",
       "      <th>111887.0</th>\n",
       "      <td>1</td>\n",
       "      <td>0.00</td>\n",
       "    </tr>\n",
       "    <tr>\n",
       "      <th>213826.0</th>\n",
       "      <td>1</td>\n",
       "      <td>0.00</td>\n",
       "    </tr>\n",
       "    <tr>\n",
       "      <th>26892.0</th>\n",
       "      <td>1</td>\n",
       "      <td>0.00</td>\n",
       "    </tr>\n",
       "  </tbody>\n",
       "</table>\n",
       "<p>104871 rows × 2 columns</p>\n",
       "</div>"
      ],
      "text/plain": [
       "          Conteo  Porcentaje (%)\n",
       "NaN         4400            1.03\n",
       "100000.0    2263            0.53\n",
       "1.0         2246            0.53\n",
       "0.0         1965            0.46\n",
       "200000.0    1728            0.40\n",
       "...          ...             ...\n",
       "149468.0       1            0.00\n",
       "154259.0       1            0.00\n",
       "111887.0       1            0.00\n",
       "213826.0       1            0.00\n",
       "26892.0        1            0.00\n",
       "\n",
       "[104871 rows x 2 columns]"
      ]
     },
     "execution_count": 52,
     "metadata": {},
     "output_type": "execute_result"
    }
   ],
   "source": [
    "resumen_categorias(df,\"odometer\")"
   ]
  },
  {
   "cell_type": "markdown",
   "id": "19d1dbb8",
   "metadata": {},
   "source": [
    "La variable `odometer`, correspondiente al kilometraje registrado, presenta un bajo porcentaje de valores ausentes (1.03 %). Las observaciones más comunes están concentradas en valores redondos como 100000, 1, y 0, lo cual podría estar relacionado con errores de registro, valores predeterminados o cortes en los datos. La presencia de estas concentraciones sugiere revisar posibles sesgos o problemas de calidad antes de realizar análisis más detallados o aplicar imputaciones."
   ]
  },
  {
   "cell_type": "code",
   "execution_count": 53,
   "id": "e91f8ed5",
   "metadata": {},
   "outputs": [
    {
     "data": {
      "text/html": [
       "<div>\n",
       "<style scoped>\n",
       "    .dataframe tbody tr th:only-of-type {\n",
       "        vertical-align: middle;\n",
       "    }\n",
       "\n",
       "    .dataframe tbody tr th {\n",
       "        vertical-align: top;\n",
       "    }\n",
       "\n",
       "    .dataframe thead th {\n",
       "        text-align: right;\n",
       "    }\n",
       "</style>\n",
       "<table border=\"1\" class=\"dataframe\">\n",
       "  <thead>\n",
       "    <tr style=\"text-align: right;\">\n",
       "      <th></th>\n",
       "      <th>Conteo</th>\n",
       "      <th>Porcentaje (%)</th>\n",
       "    </tr>\n",
       "  </thead>\n",
       "  <tbody>\n",
       "    <tr>\n",
       "      <th>2017.0</th>\n",
       "      <td>36420</td>\n",
       "      <td>8.53</td>\n",
       "    </tr>\n",
       "    <tr>\n",
       "      <th>2018.0</th>\n",
       "      <td>36369</td>\n",
       "      <td>8.52</td>\n",
       "    </tr>\n",
       "    <tr>\n",
       "      <th>2015.0</th>\n",
       "      <td>31538</td>\n",
       "      <td>7.39</td>\n",
       "    </tr>\n",
       "    <tr>\n",
       "      <th>2013.0</th>\n",
       "      <td>30794</td>\n",
       "      <td>7.21</td>\n",
       "    </tr>\n",
       "    <tr>\n",
       "      <th>2016.0</th>\n",
       "      <td>30434</td>\n",
       "      <td>7.13</td>\n",
       "    </tr>\n",
       "    <tr>\n",
       "      <th>...</th>\n",
       "      <td>...</td>\n",
       "      <td>...</td>\n",
       "    </tr>\n",
       "    <tr>\n",
       "      <th>1943.0</th>\n",
       "      <td>1</td>\n",
       "      <td>0.00</td>\n",
       "    </tr>\n",
       "    <tr>\n",
       "      <th>1915.0</th>\n",
       "      <td>1</td>\n",
       "      <td>0.00</td>\n",
       "    </tr>\n",
       "    <tr>\n",
       "      <th>1902.0</th>\n",
       "      <td>1</td>\n",
       "      <td>0.00</td>\n",
       "    </tr>\n",
       "    <tr>\n",
       "      <th>1905.0</th>\n",
       "      <td>1</td>\n",
       "      <td>0.00</td>\n",
       "    </tr>\n",
       "    <tr>\n",
       "      <th>1909.0</th>\n",
       "      <td>1</td>\n",
       "      <td>0.00</td>\n",
       "    </tr>\n",
       "  </tbody>\n",
       "</table>\n",
       "<p>115 rows × 2 columns</p>\n",
       "</div>"
      ],
      "text/plain": [
       "        Conteo  Porcentaje (%)\n",
       "2017.0   36420            8.53\n",
       "2018.0   36369            8.52\n",
       "2015.0   31538            7.39\n",
       "2013.0   30794            7.21\n",
       "2016.0   30434            7.13\n",
       "...        ...             ...\n",
       "1943.0       1            0.00\n",
       "1915.0       1            0.00\n",
       "1902.0       1            0.00\n",
       "1905.0       1            0.00\n",
       "1909.0       1            0.00\n",
       "\n",
       "[115 rows x 2 columns]"
      ]
     },
     "execution_count": 53,
     "metadata": {},
     "output_type": "execute_result"
    }
   ],
   "source": [
    "resumen_categorias(df,\"year\")"
   ]
  },
  {
   "cell_type": "markdown",
   "id": "4b4c7679",
   "metadata": {},
   "source": [
    "La variable `year` muestra una distribución centrada en años recientes, principalmente entre 2013 y 2018. No se detectan valores faltantes significativos, y aunque existen unos pocos registros con años extremos como 1900 o 1943, estos parecen ser errores o valores atípicos. Esta información ayuda a tener una visión clara del rango temporal cubierto por el dataset, así como de la necesidad de un tratamiento para casos raros o inconsistentes."
   ]
  },
  {
   "cell_type": "code",
   "execution_count": 54,
   "id": "5df63130",
   "metadata": {},
   "outputs": [],
   "source": [
    "def graficar_distribucion(df, columnas):\n",
    "    for col in columnas:\n",
    "        plt.figure(figsize=(12, 5))\n",
    "\n",
    "        plt.subplot(1, 2, 1)\n",
    "        sns.histplot(df[col].dropna(), kde=True)\n",
    "        plt.title(f\"Histograma: {col}\")\n",
    "\n",
    "        plt.subplot(1, 2, 2)\n",
    "        stats.probplot(df[col].dropna(), dist=\"norm\", plot=plt)\n",
    "        plt.title(f\"Q-Q Plot: {col}\")\n",
    "\n",
    "        plt.tight_layout()\n",
    "        plt.show()"
   ]
  },
  {
   "cell_type": "markdown",
   "id": "c31c93e7",
   "metadata": {},
   "source": [
    "La función `graficar_distribucion` permite visualizar la distribución de variables numéricas en dos formas complementarias. Por un lado, genera un histograma con densidad suavizada usando kernel (KDE), útil para observar la forma general de la distribución. Por otro lado, incluye un gráfico Q-Q (Quantile-Quantile), que facilita la evaluación de la normalidad comparando cuantiles teóricos con los observados."
   ]
  },
  {
   "cell_type": "code",
   "execution_count": 55,
   "id": "d1b22659",
   "metadata": {},
   "outputs": [
    {
     "data": {
      "image/png": "[encoded data removed]",
      "text/plain": [
       "<Figure size 864x360 with 2 Axes>"
      ]
     },
     "metadata": {},
     "output_type": "display_data"
    },
    {
     "data": {
      "image/png": "[encoded data removed]",
      "text/plain": [
       "<Figure size 864x360 with 2 Axes>"
      ]
     },
     "metadata": {},
     "output_type": "display_data"
    },
    {
     "data": {
      "image/png": "[encoded data removed]",
      "text/plain": [
       "<Figure size 864x360 with 2 Axes>"
      ]
     },
     "metadata": {},
     "output_type": "display_data"
    },
    {
     "data": {
      "image/png": "[encoded data removed]",
      "text/plain": [
       "<Figure size 864x360 with 2 Axes>"
      ]
     },
     "metadata": {},
     "output_type": "display_data"
    }
   ],
   "source": [
    "graficar_distribucion(df, var_low_NA_num)"
   ]
  },
  {
   "cell_type": "markdown",
   "id": "7e68f8d3",
   "metadata": {},
   "source": [
    "* La distribución de la variable `lat` aparece fuertemente concentrada en un rango estrecho entre aproximadamente 25 y 50, lo que coincide con latitudes de Estados Unidos. El histograma muestra una forma levemente sesgada y con picos, mientras que el gráfico Q-Q refleja desviaciones respecto a la línea teórica, sobre todo en los extremos, lo que indica que los datos no siguen una distribución normal exacta. A pesar de ello, gran parte de los valores se alinean moderadamente bien con los cuantiles teóricos.\n",
    "\n",
    "* En la variable `long`, la densidad está también fuertemente concentrada, en este caso en valores negativos que reflejan longitudes del hemisferio occidental. El histograma muestra múltiples picos, lo que sugiere la presencia de diferentes regiones geográficas dominantes. El gráfico Q-Q presenta importantes desviaciones, especialmente en las colas, lo que confirma una distribución no normal y la existencia de valores extremos o agrupaciones diferenciadas.\n",
    "\n",
    "* Los datos de `odometer` muestran una distribución altamente asimétrica, con una gran concentración de vehículos con bajo kilometraje, incluyendo valores como 0 o 1, probablemente introducidos como registros erróneos o predeterminados. El histograma tiene una larga cola hacia la derecha. En el gráfico Q-Q, la curvatura extrema confirma una fuerte desviación de la normalidad, lo cual sugiere que esta variable debería tratarse con transformaciones logarítmicas u otras técnicas si se piensa aplicar algún modelo estadístico sensible a este tipo de distribución.\n",
    "\n",
    "* La variable `year` evidencia una clara acumulación en años recientes, con una mayor densidad entre 2010 y 2020. El histograma presenta un patrón creciente que refleja la mayor cantidad de registros de autos modernos, mientras que los años anteriores a 1980 aparecen en números insignificantes. El gráfico Q-Q confirma que los datos no tienen un comportamiento normal: existe una marcada curvatura en ambos extremos y un cambio abrupto en la pendiente media, lo que indica que se trata de una distribución sesgada y posiblemente truncada en los años más antiguos."
   ]
  },
  {
   "cell_type": "code",
   "execution_count": 56,
   "id": "7c43d00a",
   "metadata": {},
   "outputs": [],
   "source": [
    "def test_ks_normalidad(df, columnas, alpha=0.05):\n",
    "    resultados = {}\n",
    "    for col in columnas:\n",
    "        data = df[col].dropna()\n",
    "\n",
    "        data_std = (data - data.mean()) / data.std()\n",
    "\n",
    "        stat, p = kstest(data_std, 'norm')\n",
    "        resultados[col] = {\n",
    "            \"statistic\": stat,\n",
    "            \"p-value\": p,\n",
    "            \"normal\": p > alpha\n",
    "        }\n",
    "    return pd.DataFrame(resultados).T\n"
   ]
  },
  {
   "cell_type": "markdown",
   "id": "58e2d485",
   "metadata": {},
   "source": [
    "La función `test_ks_normalidad` evalúa si las variables numéricas siguen una distribución normal utilizando la prueba de Kolmogorov-Smirnov. Cada columna es estandarizada y luego se calcula el estadístico y el p-valor comparando con una distribución normal. El resultado incluye un indicador lógico (`True` o `False`) que refleja si la hipótesis nula de normalidad puede aceptarse al nivel de significancia definido (por defecto, 0.05)."
   ]
  },
  {
   "cell_type": "code",
   "execution_count": 57,
   "id": "6d689902",
   "metadata": {},
   "outputs": [
    {
     "name": "stdout",
     "output_type": "stream",
     "text": [
      "         statistic p-value normal\n",
      "lat       0.061442     0.0  False\n",
      "long      0.135748     0.0  False\n",
      "odometer  0.323332     0.0  False\n",
      "year      0.170948     0.0  False\n"
     ]
    }
   ],
   "source": [
    "resultados_ks = test_ks_normalidad(df, var_low_NA_num)\n",
    "print(resultados_ks)"
   ]
  },
  {
   "cell_type": "markdown",
   "id": "96cc55d9",
   "metadata": {},
   "source": [
    "La ejecución de la prueba de normalidad para las variables `lat`, `long`, `odometer` y `year` muestra que todas obtienen un p-valor de 0.0, indicando una fuerte evidencia contra la normalidad en todos los casos. Esto valida lo observado visualmente en los gráficos Q-Q anteriores y sugiere que aplicar métodos estadísticos que asumen normalidad sobre estas variables requeriría transformaciones previas."
   ]
  },
  {
   "cell_type": "code",
   "execution_count": 58,
   "id": "25f6b6ae",
   "metadata": {},
   "outputs": [],
   "source": [
    "def imputar_por_mediana(df, df_copy, columnas):\n",
    "\n",
    "    for col in columnas:\n",
    "        mediana = df_copy[col].median()\n",
    "        df_copy[col].fillna(mediana, inplace=True)\n",
    "    return df_copy\n"
   ]
  },
  {
   "cell_type": "markdown",
   "id": "7057d337",
   "metadata": {},
   "source": [
    "La función `imputar_por_mediana` reemplaza los valores faltantes en las columnas especificadas utilizando la mediana de cada variable. Esta estrategia resulta útil cuando la distribución no es normal, ya que la mediana ofrece mayor robustez frente a valores extremos o asimetrías."
   ]
  },
  {
   "cell_type": "code",
   "execution_count": 59,
   "id": "ef8375e8",
   "metadata": {},
   "outputs": [],
   "source": [
    "df_imputado = imputar_por_mediana(df, df_imputado, [\"odometer\",\"year\"])"
   ]
  },
  {
   "cell_type": "markdown",
   "id": "2ae847cb",
   "metadata": {},
   "source": [
    "Las columnas `odometer` y `year` son imputadas mediante la función anterior, aplicando la mediana global de cada una. Esta decisión resulta coherente con los resultados de la prueba de normalidad y las distribuciones previamente observadas, donde la media no es una medida representativa.\n"
   ]
  },
  {
   "cell_type": "code",
   "execution_count": 60,
   "id": "1797337a",
   "metadata": {},
   "outputs": [],
   "source": [
    "df_imputado['lat'] = df_imputado.groupby('region')['lat'].transform(lambda x: x.fillna(x.median()))\n",
    "df_imputado['long'] = df_imputado.groupby('region')['long'].transform(lambda x: x.fillna(x.median()))"
   ]
  },
  {
   "cell_type": "markdown",
   "id": "a57472fb",
   "metadata": {},
   "source": [
    "Para las variables `lat` y `long`, la imputación se realiza a nivel regional, utilizando la mediana por grupo según la columna `region`. Esta estrategia permite una imputación más contextualizada, capturando diferencias geográficas sin introducir valores que no correspondan a las condiciones particulares de cada área."
   ]
  },
  {
   "cell_type": "code",
   "execution_count": 61,
   "id": "31a453fc",
   "metadata": {},
   "outputs": [
    {
     "name": "stdout",
     "output_type": "stream",
     "text": [
      "¿Hay NA en columnas imputadas? False\n",
      "Conteo de NA por columna imputada:\n",
      "lat         0\n",
      "long        0\n",
      "odometer    0\n",
      "year        0\n",
      "dtype: int64\n"
     ]
    }
   ],
   "source": [
    "df_imputado.isnull().values.any()\n",
    "\n",
    "hay_na = df_imputado[var_low_NA_num].isnull().values.any()\n",
    "print(f\"¿Hay NA en columnas imputadas? {hay_na}\")\n",
    "\n",
    "na_por_col = df_imputado[var_low_NA_num].isnull().sum()\n",
    "print(\"Conteo de NA por columna imputada:\")\n",
    "print(na_por_col)"
   ]
  },
  {
   "cell_type": "markdown",
   "id": "3609ac3b",
   "metadata": {},
   "source": [
    "La verificación final confirma que todas las variables de baja proporción de valores faltantes han sido correctamente imputadas. No se detectan valores nulos en `lat`, `long`, `odometer` ni `year`, lo que garantiza la consistencia de los datos antes de continuar con etapas posteriores del análisis."
   ]
  },
  {
   "cell_type": "code",
   "execution_count": 62,
   "id": "b938de40",
   "metadata": {},
   "outputs": [],
   "source": [
    "def comparar_distribuciones_graf(df_original, df_imputado, columnas):\n",
    "    for col in columnas:\n",
    "        plt.figure(figsize=(12,5))\n",
    "        \n",
    "        plt.subplot(1, 2, 1)\n",
    "        sns.histplot(df_original[col].dropna(), kde=True, color='steelblue')\n",
    "        plt.title(f\"{col} - Original (con NaNs)\")\n",
    "        plt.xlabel(col)\n",
    "        \n",
    "        plt.subplot(1, 2, 2)\n",
    "        sns.histplot(df_imputado[col], kde=True, color='darkorange')\n",
    "        plt.title(f\"{col} - Imputado\")\n",
    "        plt.xlabel(col)\n",
    "        \n",
    "        plt.tight_layout()\n",
    "        plt.show()"
   ]
  },
  {
   "cell_type": "markdown",
   "id": "66be77a5",
   "metadata": {},
   "source": [
    "La función `comparar_distribuciones_graf` permite visualizar cómo cambia la distribución de variables numéricas antes y después de la imputación. Para cada columna indicada, genera una figura con dos gráficos de distribución: el primero corresponde a los datos originales (ignorando los valores faltantes), y el segundo muestra la distribución de la misma variable tras imputar los valores ausentes. Los histogramas incorporan curvas de densidad estimada (`kde=True`), lo que facilita comparar la forma de ambas distribuciones. "
   ]
  },
  {
   "cell_type": "code",
   "execution_count": 63,
   "id": "362efa37",
   "metadata": {},
   "outputs": [
    {
     "data": {
      "image/png": "[encoded data removed]",
      "text/plain": [
       "<Figure size 864x360 with 2 Axes>"
      ]
     },
     "metadata": {},
     "output_type": "display_data"
    },
    {
     "data": {
      "image/png": "[encoded data removed]",
      "text/plain": [
       "<Figure size 864x360 with 2 Axes>"
      ]
     },
     "metadata": {},
     "output_type": "display_data"
    },
    {
     "data": {
      "image/png": "[encoded data removed]",
      "text/plain": [
       "<Figure size 864x360 with 2 Axes>"
      ]
     },
     "metadata": {},
     "output_type": "display_data"
    },
    {
     "data": {
      "image/png": "[encoded data removed]",
      "text/plain": [
       "<Figure size 864x360 with 2 Axes>"
      ]
     },
     "metadata": {},
     "output_type": "display_data"
    }
   ],
   "source": [
    "comparar_distribuciones_graf(df, df_imputado, var_low_NA_num)"
   ]
  },
  {
   "cell_type": "markdown",
   "id": "0621c866",
   "metadata": {},
   "source": [
    "* La variable `lat` mantiene una distribución consistente después de imputar, lo cual indica que la estrategia utilizada no alteró significativamente su comportamiento general. Esto sugiere que la imputación respetó la forma original de los datos.\n",
    "\n",
    "* Para la variable `long`, la comparación muestra un patrón similar al caso anterior. Aunque hay ligeros cambios en la densidad, la forma principal de la distribución persiste, lo que refleja una imputación adecuada que conserva la estructura geográfica.\n",
    "\n",
    "* En el caso de `odometer`, la distribución presenta una fuerte concentración en valores bajos tanto antes como después de imputar. Esto sugiere que los valores imputados no distorsionan los patrones típicos del kilometraje registrado.\n",
    "\n",
    "* La variable `year` presenta una clara acumulación de datos en los años recientes en ambos gráficos. La imputación no modifica esa tendencia, lo que sugiere que la estrategia adoptada para completar los datos ausentes fue efectiva y consistente con la distribución original."
   ]
  },
  {
   "cell_type": "markdown",
   "id": "2ad12118",
   "metadata": {},
   "source": [
    "***3.3.3.4. Variables categóricas***"
   ]
  },
  {
   "cell_type": "code",
   "execution_count": 64,
   "id": "f7537bed",
   "metadata": {},
   "outputs": [],
   "source": [
    "var_low_NA_cat = [\"manufacturer\", \"title_status\", \"fuel\", \"transmission\", \"model\"]"
   ]
  },
  {
   "cell_type": "markdown",
   "id": "95a1101f",
   "metadata": {},
   "source": [
    "La lista `var_low_NA_cat` agrupa aquellas variables categóricas con menos del 5% de valores faltantes. Estas columnas serán analizadas posteriormente para imputación o evaluación de su distribución. "
   ]
  },
  {
   "cell_type": "code",
   "execution_count": 65,
   "id": "bf638ef6",
   "metadata": {},
   "outputs": [
    {
     "data": {
      "text/html": [
       "<div>\n",
       "<style scoped>\n",
       "    .dataframe tbody tr th:only-of-type {\n",
       "        vertical-align: middle;\n",
       "    }\n",
       "\n",
       "    .dataframe tbody tr th {\n",
       "        vertical-align: top;\n",
       "    }\n",
       "\n",
       "    .dataframe thead th {\n",
       "        text-align: right;\n",
       "    }\n",
       "</style>\n",
       "<table border=\"1\" class=\"dataframe\">\n",
       "  <thead>\n",
       "    <tr style=\"text-align: right;\">\n",
       "      <th></th>\n",
       "      <th>Conteo</th>\n",
       "      <th>Porcentaje (%)</th>\n",
       "    </tr>\n",
       "  </thead>\n",
       "  <tbody>\n",
       "    <tr>\n",
       "      <th>ford</th>\n",
       "      <td>70985</td>\n",
       "      <td>16.63</td>\n",
       "    </tr>\n",
       "    <tr>\n",
       "      <th>chevrolet</th>\n",
       "      <td>55064</td>\n",
       "      <td>12.90</td>\n",
       "    </tr>\n",
       "    <tr>\n",
       "      <th>toyota</th>\n",
       "      <td>34202</td>\n",
       "      <td>8.01</td>\n",
       "    </tr>\n",
       "    <tr>\n",
       "      <th>honda</th>\n",
       "      <td>21269</td>\n",
       "      <td>4.98</td>\n",
       "    </tr>\n",
       "    <tr>\n",
       "      <th>nissan</th>\n",
       "      <td>19067</td>\n",
       "      <td>4.47</td>\n",
       "    </tr>\n",
       "    <tr>\n",
       "      <th>jeep</th>\n",
       "      <td>19014</td>\n",
       "      <td>4.45</td>\n",
       "    </tr>\n",
       "    <tr>\n",
       "      <th>ram</th>\n",
       "      <td>18342</td>\n",
       "      <td>4.30</td>\n",
       "    </tr>\n",
       "    <tr>\n",
       "      <th>NaN</th>\n",
       "      <td>17646</td>\n",
       "      <td>4.13</td>\n",
       "    </tr>\n",
       "    <tr>\n",
       "      <th>gmc</th>\n",
       "      <td>16785</td>\n",
       "      <td>3.93</td>\n",
       "    </tr>\n",
       "    <tr>\n",
       "      <th>bmw</th>\n",
       "      <td>14699</td>\n",
       "      <td>3.44</td>\n",
       "    </tr>\n",
       "    <tr>\n",
       "      <th>dodge</th>\n",
       "      <td>13707</td>\n",
       "      <td>3.21</td>\n",
       "    </tr>\n",
       "    <tr>\n",
       "      <th>mercedes-benz</th>\n",
       "      <td>11817</td>\n",
       "      <td>2.77</td>\n",
       "    </tr>\n",
       "    <tr>\n",
       "      <th>hyundai</th>\n",
       "      <td>10338</td>\n",
       "      <td>2.42</td>\n",
       "    </tr>\n",
       "    <tr>\n",
       "      <th>subaru</th>\n",
       "      <td>9495</td>\n",
       "      <td>2.22</td>\n",
       "    </tr>\n",
       "    <tr>\n",
       "      <th>volkswagen</th>\n",
       "      <td>9345</td>\n",
       "      <td>2.19</td>\n",
       "    </tr>\n",
       "    <tr>\n",
       "      <th>kia</th>\n",
       "      <td>8457</td>\n",
       "      <td>1.98</td>\n",
       "    </tr>\n",
       "    <tr>\n",
       "      <th>lexus</th>\n",
       "      <td>8200</td>\n",
       "      <td>1.92</td>\n",
       "    </tr>\n",
       "    <tr>\n",
       "      <th>audi</th>\n",
       "      <td>7573</td>\n",
       "      <td>1.77</td>\n",
       "    </tr>\n",
       "    <tr>\n",
       "      <th>cadillac</th>\n",
       "      <td>6953</td>\n",
       "      <td>1.63</td>\n",
       "    </tr>\n",
       "    <tr>\n",
       "      <th>chrysler</th>\n",
       "      <td>6031</td>\n",
       "      <td>1.41</td>\n",
       "    </tr>\n",
       "    <tr>\n",
       "      <th>acura</th>\n",
       "      <td>5978</td>\n",
       "      <td>1.40</td>\n",
       "    </tr>\n",
       "    <tr>\n",
       "      <th>buick</th>\n",
       "      <td>5501</td>\n",
       "      <td>1.29</td>\n",
       "    </tr>\n",
       "    <tr>\n",
       "      <th>mazda</th>\n",
       "      <td>5427</td>\n",
       "      <td>1.27</td>\n",
       "    </tr>\n",
       "    <tr>\n",
       "      <th>infiniti</th>\n",
       "      <td>4802</td>\n",
       "      <td>1.12</td>\n",
       "    </tr>\n",
       "    <tr>\n",
       "      <th>lincoln</th>\n",
       "      <td>4220</td>\n",
       "      <td>0.99</td>\n",
       "    </tr>\n",
       "    <tr>\n",
       "      <th>volvo</th>\n",
       "      <td>3374</td>\n",
       "      <td>0.79</td>\n",
       "    </tr>\n",
       "    <tr>\n",
       "      <th>mitsubishi</th>\n",
       "      <td>3292</td>\n",
       "      <td>0.77</td>\n",
       "    </tr>\n",
       "    <tr>\n",
       "      <th>mini</th>\n",
       "      <td>2376</td>\n",
       "      <td>0.56</td>\n",
       "    </tr>\n",
       "    <tr>\n",
       "      <th>pontiac</th>\n",
       "      <td>2288</td>\n",
       "      <td>0.54</td>\n",
       "    </tr>\n",
       "    <tr>\n",
       "      <th>rover</th>\n",
       "      <td>2113</td>\n",
       "      <td>0.49</td>\n",
       "    </tr>\n",
       "    <tr>\n",
       "      <th>jaguar</th>\n",
       "      <td>1946</td>\n",
       "      <td>0.46</td>\n",
       "    </tr>\n",
       "    <tr>\n",
       "      <th>porsche</th>\n",
       "      <td>1384</td>\n",
       "      <td>0.32</td>\n",
       "    </tr>\n",
       "    <tr>\n",
       "      <th>mercury</th>\n",
       "      <td>1184</td>\n",
       "      <td>0.28</td>\n",
       "    </tr>\n",
       "    <tr>\n",
       "      <th>saturn</th>\n",
       "      <td>1090</td>\n",
       "      <td>0.26</td>\n",
       "    </tr>\n",
       "    <tr>\n",
       "      <th>alfa-romeo</th>\n",
       "      <td>897</td>\n",
       "      <td>0.21</td>\n",
       "    </tr>\n",
       "    <tr>\n",
       "      <th>tesla</th>\n",
       "      <td>868</td>\n",
       "      <td>0.20</td>\n",
       "    </tr>\n",
       "    <tr>\n",
       "      <th>fiat</th>\n",
       "      <td>792</td>\n",
       "      <td>0.19</td>\n",
       "    </tr>\n",
       "    <tr>\n",
       "      <th>harley-davidson</th>\n",
       "      <td>153</td>\n",
       "      <td>0.04</td>\n",
       "    </tr>\n",
       "    <tr>\n",
       "      <th>ferrari</th>\n",
       "      <td>95</td>\n",
       "      <td>0.02</td>\n",
       "    </tr>\n",
       "    <tr>\n",
       "      <th>datsun</th>\n",
       "      <td>63</td>\n",
       "      <td>0.01</td>\n",
       "    </tr>\n",
       "    <tr>\n",
       "      <th>aston-martin</th>\n",
       "      <td>24</td>\n",
       "      <td>0.01</td>\n",
       "    </tr>\n",
       "    <tr>\n",
       "      <th>land rover</th>\n",
       "      <td>21</td>\n",
       "      <td>0.00</td>\n",
       "    </tr>\n",
       "    <tr>\n",
       "      <th>morgan</th>\n",
       "      <td>3</td>\n",
       "      <td>0.00</td>\n",
       "    </tr>\n",
       "  </tbody>\n",
       "</table>\n",
       "</div>"
      ],
      "text/plain": [
       "                 Conteo  Porcentaje (%)\n",
       "ford              70985           16.63\n",
       "chevrolet         55064           12.90\n",
       "toyota            34202            8.01\n",
       "honda             21269            4.98\n",
       "nissan            19067            4.47\n",
       "jeep              19014            4.45\n",
       "ram               18342            4.30\n",
       "NaN               17646            4.13\n",
       "gmc               16785            3.93\n",
       "bmw               14699            3.44\n",
       "dodge             13707            3.21\n",
       "mercedes-benz     11817            2.77\n",
       "hyundai           10338            2.42\n",
       "subaru             9495            2.22\n",
       "volkswagen         9345            2.19\n",
       "kia                8457            1.98\n",
       "lexus              8200            1.92\n",
       "audi               7573            1.77\n",
       "cadillac           6953            1.63\n",
       "chrysler           6031            1.41\n",
       "acura              5978            1.40\n",
       "buick              5501            1.29\n",
       "mazda              5427            1.27\n",
       "infiniti           4802            1.12\n",
       "lincoln            4220            0.99\n",
       "volvo              3374            0.79\n",
       "mitsubishi         3292            0.77\n",
       "mini               2376            0.56\n",
       "pontiac            2288            0.54\n",
       "rover              2113            0.49\n",
       "jaguar             1946            0.46\n",
       "porsche            1384            0.32\n",
       "mercury            1184            0.28\n",
       "saturn             1090            0.26\n",
       "alfa-romeo          897            0.21\n",
       "tesla               868            0.20\n",
       "fiat                792            0.19\n",
       "harley-davidson     153            0.04\n",
       "ferrari              95            0.02\n",
       "datsun               63            0.01\n",
       "aston-martin         24            0.01\n",
       "land rover           21            0.00\n",
       "morgan                3            0.00"
      ]
     },
     "execution_count": 65,
     "metadata": {},
     "output_type": "execute_result"
    }
   ],
   "source": [
    "resumen_categorias(df,\"manufacturer\")"
   ]
  },
  {
   "cell_type": "markdown",
   "id": "f9731120",
   "metadata": {},
   "source": [
    "El resumen de la columna `manufacturer` muestra la distribución de marcas en el conjunto de datos. Ford, Chevrolet y Toyota son las marcas más frecuentes, acumulando entre las tres casi el 38% del total. La presencia de valores nulos (`NaN`) alcanza el 4.13%, lo cual confirma que la variable entra en el grupo de aquellas con baja proporción de faltantes. También destaca una larga cola de fabricantes con presencia marginal, donde varios aparecen con menos del 1% de representación, incluyendo casos casi anecdóticos como Morgan o Aston Martin. "
   ]
  },
  {
   "cell_type": "code",
   "execution_count": 66,
   "id": "cc3c2d98",
   "metadata": {},
   "outputs": [
    {
     "data": {
      "text/html": [
       "<div>\n",
       "<style scoped>\n",
       "    .dataframe tbody tr th:only-of-type {\n",
       "        vertical-align: middle;\n",
       "    }\n",
       "\n",
       "    .dataframe tbody tr th {\n",
       "        vertical-align: top;\n",
       "    }\n",
       "\n",
       "    .dataframe thead th {\n",
       "        text-align: right;\n",
       "    }\n",
       "</style>\n",
       "<table border=\"1\" class=\"dataframe\">\n",
       "  <thead>\n",
       "    <tr style=\"text-align: right;\">\n",
       "      <th></th>\n",
       "      <th>Conteo</th>\n",
       "      <th>Porcentaje (%)</th>\n",
       "    </tr>\n",
       "  </thead>\n",
       "  <tbody>\n",
       "    <tr>\n",
       "      <th>clean</th>\n",
       "      <td>405117</td>\n",
       "      <td>94.90</td>\n",
       "    </tr>\n",
       "    <tr>\n",
       "      <th>NaN</th>\n",
       "      <td>8242</td>\n",
       "      <td>1.93</td>\n",
       "    </tr>\n",
       "    <tr>\n",
       "      <th>rebuilt</th>\n",
       "      <td>7219</td>\n",
       "      <td>1.69</td>\n",
       "    </tr>\n",
       "    <tr>\n",
       "      <th>salvage</th>\n",
       "      <td>3868</td>\n",
       "      <td>0.91</td>\n",
       "    </tr>\n",
       "    <tr>\n",
       "      <th>lien</th>\n",
       "      <td>1422</td>\n",
       "      <td>0.33</td>\n",
       "    </tr>\n",
       "    <tr>\n",
       "      <th>missing</th>\n",
       "      <td>814</td>\n",
       "      <td>0.19</td>\n",
       "    </tr>\n",
       "    <tr>\n",
       "      <th>parts only</th>\n",
       "      <td>198</td>\n",
       "      <td>0.05</td>\n",
       "    </tr>\n",
       "  </tbody>\n",
       "</table>\n",
       "</div>"
      ],
      "text/plain": [
       "            Conteo  Porcentaje (%)\n",
       "clean       405117           94.90\n",
       "NaN           8242            1.93\n",
       "rebuilt       7219            1.69\n",
       "salvage       3868            0.91\n",
       "lien          1422            0.33\n",
       "missing        814            0.19\n",
       "parts only     198            0.05"
      ]
     },
     "execution_count": 66,
     "metadata": {},
     "output_type": "execute_result"
    }
   ],
   "source": [
    "resumen_categorias(df,\"title_status\")"
   ]
  },
  {
   "cell_type": "markdown",
   "id": "d4915f3a",
   "metadata": {},
   "source": [
    "La tabla de frecuencia para la columna `title_status` evidencia que la mayoría de los vehículos tienen un título “clean”, representando el 94.90% del total. Las demás categorías como “rebuilt”, “salvage” o “lien” están presentes en proporciones considerablemente menores, y los valores faltantes apenas alcanzan el 1.93%. "
   ]
  },
  {
   "cell_type": "code",
   "execution_count": 67,
   "id": "dee22e60",
   "metadata": {},
   "outputs": [
    {
     "data": {
      "text/html": [
       "<div>\n",
       "<style scoped>\n",
       "    .dataframe tbody tr th:only-of-type {\n",
       "        vertical-align: middle;\n",
       "    }\n",
       "\n",
       "    .dataframe tbody tr th {\n",
       "        vertical-align: top;\n",
       "    }\n",
       "\n",
       "    .dataframe thead th {\n",
       "        text-align: right;\n",
       "    }\n",
       "</style>\n",
       "<table border=\"1\" class=\"dataframe\">\n",
       "  <thead>\n",
       "    <tr style=\"text-align: right;\">\n",
       "      <th></th>\n",
       "      <th>Conteo</th>\n",
       "      <th>Porcentaje (%)</th>\n",
       "    </tr>\n",
       "  </thead>\n",
       "  <tbody>\n",
       "    <tr>\n",
       "      <th>gas</th>\n",
       "      <td>356209</td>\n",
       "      <td>83.44</td>\n",
       "    </tr>\n",
       "    <tr>\n",
       "      <th>other</th>\n",
       "      <td>30728</td>\n",
       "      <td>7.20</td>\n",
       "    </tr>\n",
       "    <tr>\n",
       "      <th>diesel</th>\n",
       "      <td>30062</td>\n",
       "      <td>7.04</td>\n",
       "    </tr>\n",
       "    <tr>\n",
       "      <th>hybrid</th>\n",
       "      <td>5170</td>\n",
       "      <td>1.21</td>\n",
       "    </tr>\n",
       "    <tr>\n",
       "      <th>NaN</th>\n",
       "      <td>3013</td>\n",
       "      <td>0.71</td>\n",
       "    </tr>\n",
       "    <tr>\n",
       "      <th>electric</th>\n",
       "      <td>1698</td>\n",
       "      <td>0.40</td>\n",
       "    </tr>\n",
       "  </tbody>\n",
       "</table>\n",
       "</div>"
      ],
      "text/plain": [
       "          Conteo  Porcentaje (%)\n",
       "gas       356209           83.44\n",
       "other      30728            7.20\n",
       "diesel     30062            7.04\n",
       "hybrid      5170            1.21\n",
       "NaN         3013            0.71\n",
       "electric    1698            0.40"
      ]
     },
     "execution_count": 67,
     "metadata": {},
     "output_type": "execute_result"
    }
   ],
   "source": [
    "resumen_categorias(df,\"fuel\")"
   ]
  },
  {
   "cell_type": "markdown",
   "id": "f5562212",
   "metadata": {},
   "source": [
    "La variable `fuel` muestra una clara mayoría de vehículos que usan gasolina, con un 83.44% de los registros. Las otras categorías como “other”, “diesel” e “hybrid” tienen menor presencia, mientras que los vehículos eléctricos apenas representan un 0.40% del total. "
   ]
  },
  {
   "cell_type": "code",
   "execution_count": 68,
   "id": "f4162479",
   "metadata": {},
   "outputs": [
    {
     "data": {
      "text/html": [
       "<div>\n",
       "<style scoped>\n",
       "    .dataframe tbody tr th:only-of-type {\n",
       "        vertical-align: middle;\n",
       "    }\n",
       "\n",
       "    .dataframe tbody tr th {\n",
       "        vertical-align: top;\n",
       "    }\n",
       "\n",
       "    .dataframe thead th {\n",
       "        text-align: right;\n",
       "    }\n",
       "</style>\n",
       "<table border=\"1\" class=\"dataframe\">\n",
       "  <thead>\n",
       "    <tr style=\"text-align: right;\">\n",
       "      <th></th>\n",
       "      <th>Conteo</th>\n",
       "      <th>Porcentaje (%)</th>\n",
       "    </tr>\n",
       "  </thead>\n",
       "  <tbody>\n",
       "    <tr>\n",
       "      <th>automatic</th>\n",
       "      <td>336524</td>\n",
       "      <td>78.83</td>\n",
       "    </tr>\n",
       "    <tr>\n",
       "      <th>other</th>\n",
       "      <td>62682</td>\n",
       "      <td>14.68</td>\n",
       "    </tr>\n",
       "    <tr>\n",
       "      <th>manual</th>\n",
       "      <td>25118</td>\n",
       "      <td>5.88</td>\n",
       "    </tr>\n",
       "    <tr>\n",
       "      <th>NaN</th>\n",
       "      <td>2556</td>\n",
       "      <td>0.60</td>\n",
       "    </tr>\n",
       "  </tbody>\n",
       "</table>\n",
       "</div>"
      ],
      "text/plain": [
       "           Conteo  Porcentaje (%)\n",
       "automatic  336524           78.83\n",
       "other       62682           14.68\n",
       "manual      25118            5.88\n",
       "NaN          2556            0.60"
      ]
     },
     "execution_count": 68,
     "metadata": {},
     "output_type": "execute_result"
    }
   ],
   "source": [
    "resumen_categorias(df,\"transmission\")"
   ]
  },
  {
   "cell_type": "markdown",
   "id": "1574820f",
   "metadata": {},
   "source": [
    "En la columna `transmission`, la mayoría de los vehículos cuentan con transmisión automática, sumando un 78.83% del total. Las transmisiones manuales sólo representan el 5.88%, y existe un 14.68% que cae en la categoría “other”. La proporción de valores nulos es de apenas 0.60%, lo cual permite incluir esta variable en análisis posteriores sin mayor tratamiento. "
   ]
  },
  {
   "cell_type": "code",
   "execution_count": 69,
   "id": "f5974469",
   "metadata": {},
   "outputs": [
    {
     "data": {
      "text/html": [
       "<div>\n",
       "<style scoped>\n",
       "    .dataframe tbody tr th:only-of-type {\n",
       "        vertical-align: middle;\n",
       "    }\n",
       "\n",
       "    .dataframe tbody tr th {\n",
       "        vertical-align: top;\n",
       "    }\n",
       "\n",
       "    .dataframe thead th {\n",
       "        text-align: right;\n",
       "    }\n",
       "</style>\n",
       "<table border=\"1\" class=\"dataframe\">\n",
       "  <thead>\n",
       "    <tr style=\"text-align: right;\">\n",
       "      <th></th>\n",
       "      <th>Conteo</th>\n",
       "      <th>Porcentaje (%)</th>\n",
       "    </tr>\n",
       "  </thead>\n",
       "  <tbody>\n",
       "    <tr>\n",
       "      <th>f-150</th>\n",
       "      <td>8009</td>\n",
       "      <td>1.88</td>\n",
       "    </tr>\n",
       "    <tr>\n",
       "      <th>NaN</th>\n",
       "      <td>5277</td>\n",
       "      <td>1.24</td>\n",
       "    </tr>\n",
       "    <tr>\n",
       "      <th>silverado 1500</th>\n",
       "      <td>5140</td>\n",
       "      <td>1.20</td>\n",
       "    </tr>\n",
       "    <tr>\n",
       "      <th>1500</th>\n",
       "      <td>4211</td>\n",
       "      <td>0.99</td>\n",
       "    </tr>\n",
       "    <tr>\n",
       "      <th>camry</th>\n",
       "      <td>3135</td>\n",
       "      <td>0.73</td>\n",
       "    </tr>\n",
       "    <tr>\n",
       "      <th>...</th>\n",
       "      <td>...</td>\n",
       "      <td>...</td>\n",
       "    </tr>\n",
       "    <tr>\n",
       "      <th>Huyndai Sante Fe Limited</th>\n",
       "      <td>1</td>\n",
       "      <td>0.00</td>\n",
       "    </tr>\n",
       "    <tr>\n",
       "      <th>astro awd 4x4</th>\n",
       "      <td>1</td>\n",
       "      <td>0.00</td>\n",
       "    </tr>\n",
       "    <tr>\n",
       "      <th>escalade and</th>\n",
       "      <td>1</td>\n",
       "      <td>0.00</td>\n",
       "    </tr>\n",
       "    <tr>\n",
       "      <th>cx 3</th>\n",
       "      <td>1</td>\n",
       "      <td>0.00</td>\n",
       "    </tr>\n",
       "    <tr>\n",
       "      <th>Paige Glenbrook Touring</th>\n",
       "      <td>1</td>\n",
       "      <td>0.00</td>\n",
       "    </tr>\n",
       "  </tbody>\n",
       "</table>\n",
       "<p>29668 rows × 2 columns</p>\n",
       "</div>"
      ],
      "text/plain": [
       "                          Conteo  Porcentaje (%)\n",
       "f-150                       8009            1.88\n",
       "NaN                         5277            1.24\n",
       "silverado 1500              5140            1.20\n",
       "1500                        4211            0.99\n",
       "camry                       3135            0.73\n",
       "...                          ...             ...\n",
       "Huyndai Sante Fe Limited       1            0.00\n",
       "astro awd 4x4                  1            0.00\n",
       "escalade and                   1            0.00\n",
       "cx 3                           1            0.00\n",
       "Paige Glenbrook Touring        1            0.00\n",
       "\n",
       "[29668 rows x 2 columns]"
      ]
     },
     "execution_count": 69,
     "metadata": {},
     "output_type": "execute_result"
    }
   ],
   "source": [
    "resumen_categorias(df,\"model\")"
   ]
  },
  {
   "cell_type": "markdown",
   "id": "bc94be96",
   "metadata": {},
   "source": [
    "La variable `model` contiene una gran cantidad de categorías distintas, lo que indica una alta cardinalidad. Aunque hay modelos relativamente comunes como “f-150” o “silverado 1500”, la mayoría de los registros se encuentran distribuidos entre cientos de modelos con muy baja frecuencia individual. Algunos modelos aparecen una sola vez.  Los valores faltantes representan un 1.24% del total."
   ]
  },
  {
   "cell_type": "code",
   "execution_count": 70,
   "id": "b7d9a7d8",
   "metadata": {},
   "outputs": [],
   "source": [
    "df_imputado = imputar_por_moda(df,df_imputado, var_low_NA_cat)"
   ]
  },
  {
   "cell_type": "markdown",
   "id": "d4172e00",
   "metadata": {},
   "source": [
    "Se realiza la imputación de valores faltantes en las variables categóricas con baja proporción de NA (`manufacturer`, `title_status`, `fuel`, `transmission`, `model`). El método usado es la moda, lo cual implica rellenar los valores ausentes con la categoría más frecuente en cada columna. "
   ]
  },
  {
   "cell_type": "code",
   "execution_count": 71,
   "id": "7169c2ce",
   "metadata": {},
   "outputs": [
    {
     "name": "stdout",
     "output_type": "stream",
     "text": [
      "¿Hay NA en columnas imputadas? False\n",
      "Conteo de NA por columna imputada:\n",
      "manufacturer    0\n",
      "title_status    0\n",
      "fuel            0\n",
      "transmission    0\n",
      "model           0\n",
      "dtype: int64\n"
     ]
    }
   ],
   "source": [
    "df_imputado.isnull().values.any()\n",
    "\n",
    "hay_na = df_imputado[var_low_NA_cat].isnull().values.any()\n",
    "print(f\"¿Hay NA en columnas imputadas? {hay_na}\")\n",
    "\n",
    "na_por_col = df_imputado[var_low_NA_cat].isnull().sum()\n",
    "print(\"Conteo de NA por columna imputada:\")\n",
    "print(na_por_col)"
   ]
  },
  {
   "cell_type": "markdown",
   "id": "465eba37",
   "metadata": {},
   "source": [
    "Se verifica si aún quedan valores faltantes en el DataFrame imputado, tanto de forma general como específicamente en las columnas categóricas que fueron imputadas. La salida confirma que no hay valores faltantes restantes en estas variables, ya que todos los conteos son cero. Esto valida que la imputación por moda se aplicó correctamente, dejando el conjunto de datos listo para análisis o modelado sin problemas derivados de datos ausentes.\n"
   ]
  },
  {
   "cell_type": "code",
   "execution_count": 72,
   "id": "3bf2879d",
   "metadata": {},
   "outputs": [
    {
     "data": {
      "image/png": "[encoded data removed]",
      "text/plain": [
       "<Figure size 1008x360 with 2 Axes>"
      ]
     },
     "metadata": {},
     "output_type": "display_data"
    },
    {
     "data": {
      "image/png": "[encoded data removed]",
      "text/plain": [
       "<Figure size 1008x360 with 2 Axes>"
      ]
     },
     "metadata": {},
     "output_type": "display_data"
    },
    {
     "data": {
      "image/png": "[encoded data removed]",
      "text/plain": [
       "<Figure size 1008x360 with 2 Axes>"
      ]
     },
     "metadata": {},
     "output_type": "display_data"
    },
    {
     "data": {
      "image/png": "[encoded data removed]",
      "text/plain": [
       "<Figure size 1008x360 with 2 Axes>"
      ]
     },
     "metadata": {},
     "output_type": "display_data"
    }
   ],
   "source": [
    "var_cargar = var_low_NA_cat = [\"manufacturer\", \"title_status\", \"fuel\", \"transmission\"]\n",
    "comparar_categoricas(df, df_imputado, var_low_NA_cat)"
   ]
  },
  {
   "cell_type": "markdown",
   "id": "cce11659",
   "metadata": {},
   "source": [
    "La función `comparar_categoricas` genera gráficos comparativos de barras para visualizar la distribución de las categorías antes y después de la imputación. \n",
    "* En el caso de la variable `manufacturer`, se observa que la distribución no cambia de forma significativa luego de imputar, lo cual indica que los valores ausentes fueron reemplazados por la categoría más frecuente, sin alterar el perfil general de la variable.\n",
    "* En la variable `title_status`, la categoría predominante es \"clean\", y esta también es la que fue utilizada para imputar los valores faltantes. El gráfico posterior a la imputación muestra un leve incremento en la altura de esta barra, correspondiente a los datos faltantes que fueron reemplazados. La distribución general permanece prácticamente idéntica.\n",
    "* Para la variable `fuel`, se nota que \"gas\" es, con gran diferencia, la categoría más común. Como era de esperarse, los valores ausentes fueron reemplazados por esta categoría mayoritaria. La gráfica después de imputar presenta un ligero aumento en la barra de \"gas\", manteniéndose estable el resto de la distribución.\n",
    "* La variable `transmission` muestra que la mayoría de los registros tienen transmisión automática. Al imputar los valores faltantes, la barra correspondiente a \"automatic\" crece un poco, lo que indica que fue la categoría usada para rellenar los NA. La distribución original se conserva, con apenas una mínima alteración."
   ]
  },
  {
   "cell_type": "markdown",
   "id": "030a6bc8",
   "metadata": {},
   "source": [
    "### ***3.3.4. Verificación de valores faltantes***"
   ]
  },
  {
   "cell_type": "code",
   "execution_count": 73,
   "id": "e7f417e0",
   "metadata": {},
   "outputs": [],
   "source": [
    "def resumen_faltantes(df):\n",
    "    faltantes = df.isnull().sum()\n",
    "    porcentaje = (faltantes / len(df)) * 100\n",
    "\n",
    "    tabla_faltantes = pd.DataFrame({\n",
    "        'Valores faltantes': faltantes,\n",
    "        'Porcentaje (%)': porcentaje\n",
    "    })\n",
    "\n",
    "    # Filtrar solo las columnas que tienen NA\n",
    "    tabla_faltantes = tabla_faltantes[tabla_faltantes['Valores faltantes'] > 0]\n",
    "    \n",
    "    # Ordenar por porcentaje descendente\n",
    "    tabla_faltantes = tabla_faltantes.sort_values('Porcentaje (%)', ascending=False)\n",
    "\n",
    "    return tabla_faltantes"
   ]
  },
  {
   "cell_type": "markdown",
   "id": "32cb3a49",
   "metadata": {},
   "source": [
    "La función `resumen_faltantes` calcula el total y porcentaje de valores faltantes en cada columna del DataFrame. Crea un DataFrame que contiene esta información, filtra para mostrar solo las columnas con valores faltantes y ordena el resultado en orden descendente según el porcentaje."
   ]
  },
  {
   "cell_type": "code",
   "execution_count": 74,
   "id": "063a4898",
   "metadata": {},
   "outputs": [
    {
     "data": {
      "text/html": [
       "<div>\n",
       "<style scoped>\n",
       "    .dataframe tbody tr th:only-of-type {\n",
       "        vertical-align: middle;\n",
       "    }\n",
       "\n",
       "    .dataframe tbody tr th {\n",
       "        vertical-align: top;\n",
       "    }\n",
       "\n",
       "    .dataframe thead th {\n",
       "        text-align: right;\n",
       "    }\n",
       "</style>\n",
       "<table border=\"1\" class=\"dataframe\">\n",
       "  <thead>\n",
       "    <tr style=\"text-align: right;\">\n",
       "      <th></th>\n",
       "      <th>Valores faltantes</th>\n",
       "      <th>Porcentaje (%)</th>\n",
       "    </tr>\n",
       "  </thead>\n",
       "  <tbody>\n",
       "  </tbody>\n",
       "</table>\n",
       "</div>"
      ],
      "text/plain": [
       "Empty DataFrame\n",
       "Columns: [Valores faltantes, Porcentaje (%)]\n",
       "Index: []"
      ]
     },
     "execution_count": 74,
     "metadata": {},
     "output_type": "execute_result"
    }
   ],
   "source": [
    "resumen_faltantes(df_imputado)"
   ]
  },
  {
   "cell_type": "markdown",
   "id": "c2ec0547",
   "metadata": {},
   "source": [
    "La llamada a `resumen_faltantes` con el DataFrame imputado verifica que no existen valores faltantes tras la limpieza y la imputación. El resultado indica que el DataFrame está completamente limpio, sin valores nulos, lo cual confirma la correcta ejecución del proceso previo.\n"
   ]
  },
  {
   "cell_type": "code",
   "execution_count": 75,
   "id": "ec1852be",
   "metadata": {},
   "outputs": [
    {
     "data": {
      "image/png": "[encoded data removed]",
      "text/plain": [
       "<Figure size 864x432 with 1 Axes>"
      ]
     },
     "metadata": {},
     "output_type": "display_data"
    }
   ],
   "source": [
    "plt.figure(figsize=(12, 6))\n",
    "sns.heatmap(df_imputado.isnull(), cbar=False, yticklabels=False, cmap='plasma')\n",
    "plt.title(\"Mapa de calor de valores faltantes\", fontsize=14)\n",
    "plt.show()"
   ]
  },
  {
   "cell_type": "markdown",
   "id": "ac0e15aa",
   "metadata": {},
   "source": [
    "El mapa de calor generado con `sns.heatmap` visualiza la ausencia de valores faltantes en el DataFrame imputado. La ausencia de zonas coloreadas indica que ninguna columna contiene datos faltantes, corroborando la limpieza total de datos nulos y validando el estado óptimo del conjunto de datos para análisis posteriores.\n"
   ]
  },
  {
   "cell_type": "markdown",
   "id": "3887e61a",
   "metadata": {},
   "source": [
    "### **3.5. Codificación de variables categóricas**"
   ]
  },
  {
   "cell_type": "code",
   "execution_count": 76,
   "id": "4207256e",
   "metadata": {},
   "outputs": [],
   "source": [
    "from sklearn.preprocessing import OneHotEncoder\n",
    "\n",
    "def codificar_one_hot_sklearn(df_imputado, columnas_categoricas):\n",
    "    df_imputado = df_imputado.copy()\n",
    "    df_cat = df_imputado[columnas_categoricas]\n",
    "    df_num = df_imputado.drop(columns=columnas_categoricas)\n",
    "\n",
    "    encoder = OneHotEncoder(sparse_output=False, handle_unknown='ignore')\n",
    "    encoded_array = encoder.fit_transform(df_cat)\n",
    "\n",
    "    encoded_cols = encoder.get_feature_names_out(columnas_categoricas)\n",
    "    df_encoded_cat = pd.DataFrame(encoded_array, columns=encoded_cols, index=df_imputado.index)\n",
    "\n",
    "    df_encoded = pd.concat([df_num, df_encoded_cat], axis=1)\n",
    "    return df_encoded, encoder"
   ]
  },
  {
   "cell_type": "markdown",
   "id": "20c5f944",
   "metadata": {},
   "source": [
    "Esta función codifica variables categóricas en un DataFrame usando OneHotEncoder de sklearn. Primero crea copias de las columnas categóricas y las numéricas para mantener los datos originales intactos. Luego aplica el codificador para transformar las variables categóricas en variables binarias (one-hot encoding). Finalmente, concatena las variables numéricas con las codificadas y devuelve el DataFrame resultante junto con el objeto encoder para uso posterior.\n"
   ]
  },
  {
   "cell_type": "code",
   "execution_count": 77,
   "id": "bb626910",
   "metadata": {},
   "outputs": [],
   "source": [
    "columnas_categoricas = ['region', 'manufacturer', 'model', 'condition', 'fuel', 'title_status','transmission', 'drive', 'type', 'paint_color', 'state']"
   ]
  },
  {
   "cell_type": "markdown",
   "id": "a97a39b0",
   "metadata": {},
   "source": [
    "Acá se define una lista con las columnas categóricas que serán codificadas y procesadas. Incluye atributos como región, fabricante, modelo, condición, tipo de combustible, estado del título, transmisión, tipo de conducción, color y estado del vehículo. "
   ]
  },
  {
   "cell_type": "code",
   "execution_count": 78,
   "id": "7d08766f",
   "metadata": {},
   "outputs": [],
   "source": [
    "def agrupar_categorias_rare(df, columnas, threshold=0.01, nombre_otros='Other'):\n",
    "    df_modificado = df.copy()\n",
    "    for col in columnas:\n",
    "        if col in df_modificado.columns:\n",
    "            freqs = df_modificado[col].value_counts(normalize=True)\n",
    "            categorias_a_agrupadas = freqs[freqs < threshold].index\n",
    "\n",
    "            df_modificado[col] = df_modificado[col].apply(\n",
    "                lambda x: nombre_otros if x in categorias_a_agrupadas else x\n",
    "            )\n",
    "\n",
    "            # Si la columna es categórica, actualiza las categorías\n",
    "            if df_modificado[col].dtype.name == 'category':\n",
    "                df_modificado[col] = df_modificado[col].cat.add_categories([nombre_otros])\n",
    "                df_modificado[col] = df_modificado[col].cat.remove_unused_categories()\n",
    "                \n",
    "    return df_modificado\n"
   ]
  },
  {
   "cell_type": "markdown",
   "id": "b7422a4e",
   "metadata": {},
   "source": [
    "Función que agrupa categorías poco frecuentes dentro de variables categóricas para evitar que el modelo se disperse con muchas categorías raras. Copia el DataFrame original y analiza cada columna especificada para identificar las categorías cuya frecuencia relativa es menor que un umbral dado. Estas categorías raras se agrupan bajo una etiqueta común, como 'Other'. También actualiza el tipo categórico para reflejar los cambios en las categorías disponibles."
   ]
  },
  {
   "cell_type": "code",
   "execution_count": 79,
   "id": "0624f179",
   "metadata": {},
   "outputs": [],
   "source": [
    "columnas_cat_redu = ['manufacturer', 'model', 'condition', 'fuel', 'title_status','transmission', 'drive', 'type', 'paint_color', 'state']"
   ]
  },
  {
   "cell_type": "markdown",
   "id": "6177dd65",
   "metadata": {},
   "source": [
    "Se define una lista de columnas categóricas reducidas, excluyendo algunas de la lista original para enfocarse en variables con mayor relevancia o menor cantidad de categorías. Esta selección se utiliza para aplicar la función de agrupación de categorías raras, optimizando así la representación de los datos y mejorando la eficiencia del modelo.\n"
   ]
  },
  {
   "cell_type": "code",
   "execution_count": 80,
   "id": "ac071b40",
   "metadata": {},
   "outputs": [],
   "source": [
    "df_reducido = agrupar_categorias_rare(df_imputado, columnas_cat_redu, threshold=0.01)"
   ]
  },
  {
   "cell_type": "markdown",
   "id": "c9cb5ba9",
   "metadata": {},
   "source": [
    "Aquí se crea una función para revisar qué valores únicos tiene cada columna que le pases, y te dice cuántos hay. También avisa si alguna columna no está en el DataFrame. Sirve para entender rápido qué categorías hay en cada columna."
   ]
  },
  {
   "cell_type": "code",
   "execution_count": 81,
   "id": "2473e912",
   "metadata": {},
   "outputs": [],
   "source": [
    "def mostrar_categorias_y_cuenta(df, columnas):\n",
    "    resultados = {}\n",
    "\n",
    "    for col in columnas:\n",
    "        if col in df.columns:\n",
    "            categorias = df[col].dropna().unique()\n",
    "            resultados[col] = (list(categorias), len(categorias))\n",
    "        else:\n",
    "            print(f\"Columna '{col}' no encontrada en el DataFrame.\")\n",
    "\n",
    "    return resultados\n"
   ]
  },
  {
   "cell_type": "markdown",
   "id": "f9884688",
   "metadata": {},
   "source": [
    "Se usa la función con un DataFrame y un grupo de columnas que son categóricas. Después imprime los resultados para ver qué valores hay y cuántos por cada columna. "
   ]
  },
  {
   "cell_type": "code",
   "execution_count": 82,
   "id": "8098fe54",
   "metadata": {},
   "outputs": [
    {
     "name": "stdout",
     "output_type": "stream",
     "text": [
      "region: (['prescott', 'fayetteville', 'florida keys', 'worcester / central MA', 'greensboro', 'hudson valley', 'medford-ashland', 'erie', 'el paso', 'bellingham', 'skagit / island / SJI', 'la crosse', 'auburn', 'birmingham', 'dothan', 'florence / muscle shoals', 'gadsden-anniston', 'huntsville / decatur', 'mobile', 'montgomery', 'tuscaloosa', 'anchorage / mat-su', 'fairbanks', 'kenai peninsula', 'southeast alaska', 'flagstaff / sedona', 'mohave county', 'phoenix', 'show low', 'sierra vista', 'tucson', 'yuma', 'fort smith', 'jonesboro', 'little rock', 'texarkana', 'bakersfield', 'chico', 'fresno / madera', 'gold country', 'hanford-corcoran', 'humboldt county', 'imperial county', 'inland empire', 'los angeles', 'mendocino county', 'merced', 'modesto', 'monterey bay', 'orange county', 'palm springs', 'redding', 'reno / tahoe', 'sacramento', 'san diego', 'san luis obispo', 'santa barbara', 'santa maria', 'SF bay area', 'siskiyou county', 'stockton', 'susanville', 'ventura county', 'visalia-tulare', 'yuba-sutter', 'boulder', 'colorado springs', 'denver', 'eastern CO', 'fort collins / north CO', 'high rockies', 'pueblo', 'western slope', 'eastern CT', 'hartford', 'new haven', 'northwest CT', 'washington, DC', 'delaware', 'daytona beach', 'ft myers / SW florida', 'gainesville', 'heartland florida', 'jacksonville', 'lakeland', 'north central FL', 'ocala', 'okaloosa / walton', 'orlando', 'panama city', 'pensacola', 'sarasota-bradenton', 'south florida', 'space coast', 'st augustine', 'tallahassee', 'tampa bay area', 'treasure coast', 'albany', 'athens', 'atlanta', 'augusta', 'brunswick', 'columbus', 'macon / warner robins', 'northwest GA', 'savannah / hinesville', 'statesboro', 'valdosta', 'hawaii', 'boise', 'east idaho', 'lewiston / clarkston', 'pullman / moscow', \"spokane / coeur d'alene\", 'twin falls', 'bloomington-normal', 'champaign urbana', 'chicago', 'decatur', 'la salle co', 'mattoon-charleston', 'peoria', 'quad cities, IA/IL', 'rockford', 'southern illinois', 'springfield', 'st louis, MO', 'western IL', 'bloomington', 'evansville', 'fort wayne', 'indianapolis', 'kokomo', 'lafayette / west lafayette', 'muncie / anderson', 'richmond', 'south bend / michiana', 'terre haute', 'ames', 'cedar rapids', 'des moines', 'dubuque', 'fort dodge', 'iowa city', 'mason city', 'omaha / council bluffs', 'sioux city', 'southeast IA', 'waterloo / cedar falls', 'kansas city, MO', 'lawrence', 'manhattan', 'northwest KS', 'salina', 'southeast KS', 'southwest KS', 'topeka', 'wichita', 'bowling green', 'eastern kentucky', 'huntington-ashland', 'lexington', 'louisville', 'owensboro', 'western KY', 'baton rouge', 'central louisiana', 'houma', 'lafayette', 'lake charles', 'monroe', 'new orleans', 'shreveport', 'maine', 'annapolis', 'baltimore', 'cumberland valley', 'eastern shore', 'frederick', 'southern maryland', 'western maryland', 'boston', 'cape cod / islands', 'south coast', 'western massachusetts', 'ann arbor', 'battle creek', 'central michigan', 'detroit metro', 'flint', 'grand rapids', 'holland', 'jackson', 'kalamazoo', 'lansing', 'muskegon', 'northern michigan', 'port huron', 'saginaw-midland-baycity', 'southwest michigan', 'the thumb', 'upper peninsula', 'bemidji', 'brainerd', 'duluth / superior', 'fargo / moorhead', 'mankato', 'minneapolis / st paul', 'rochester', 'southwest MN', 'st cloud', 'gulfport / biloxi', 'hattiesburg', 'meridian', 'north mississippi', 'southwest MS', 'columbia / jeff city', 'joplin', 'kansas city', 'kirksville', 'lake of the ozarks', 'southeast missouri', 'st joseph', 'st louis', 'billings', 'bozeman', 'butte', 'eastern montana', 'great falls', 'helena', 'kalispell', 'missoula', 'asheville', 'boone', 'charlotte', 'eastern NC', 'hickory / lenoir', 'outer banks', 'raleigh / durham / CH', 'wilmington', 'winston-salem', 'grand island', 'lincoln', 'north platte', 'scottsbluff / panhandle', 'elko', 'las vegas', 'central NJ', 'jersey shore', 'north jersey', 'south jersey', 'albuquerque', 'clovis / portales', 'farmington', 'las cruces', 'roswell / carlsbad', 'santa fe / taos', 'binghamton', 'buffalo', 'catskills', 'chautauqua', 'elmira-corning', 'finger lakes', 'glens falls', 'ithaca', 'long island', 'new york city', 'oneonta', 'plattsburgh-adirondacks', 'potsdam-canton-massena', 'syracuse', 'twin tiers NY/PA', 'utica-rome-oneida', 'watertown', 'new hampshire', 'bismarck', 'grand forks', 'north dakota', 'akron / canton', 'ashtabula', 'chillicothe', 'cincinnati', 'cleveland', 'dayton / springfield', 'lima / findlay', 'mansfield', 'northern panhandle', 'parkersburg-marietta', 'sandusky', 'toledo', 'tuscarawas co', 'youngstown', 'zanesville / cambridge', 'fort smith, AR', 'lawton', 'northwest OK', 'oklahoma city', 'stillwater', 'texoma', 'tulsa', 'bend', 'corvallis/albany', 'east oregon', 'eugene', 'klamath falls', 'oregon coast', 'portland', 'roseburg', 'salem', 'altoona-johnstown', 'harrisburg', 'lancaster', 'lehigh valley', 'meadville', 'philadelphia', 'pittsburgh', 'poconos', 'reading', 'scranton / wilkes-barre', 'state college', 'williamsport', 'york', 'rhode island', 'charleston', 'columbia', 'florence', 'greenville / upstate', 'hilton head', 'myrtle beach', 'northeast SD', 'pierre / central SD', 'rapid city / west SD', 'sioux falls / SE SD', 'south dakota', 'chattanooga', 'clarksville', 'cookeville', 'knoxville', 'memphis', 'nashville', 'tri-cities', 'abilene', 'amarillo', 'austin', 'beaumont / port arthur', 'brownsville', 'college station', 'corpus christi', 'dallas / fort worth', 'deep east texas', 'del rio / eagle pass', 'galveston', 'houston', 'killeen / temple / ft hood', 'laredo', 'lubbock', 'mcallen / edinburg', 'odessa / midland', 'san angelo', 'san antonio', 'san marcos', 'southwest TX', 'tyler / east TX', 'victoria', 'waco', 'wichita falls', 'logan', 'ogden-clearfield', 'provo / orem', 'salt lake city', 'st george', 'vermont', 'charlottesville', 'danville', 'fredericksburg', 'harrisonburg', 'lynchburg', 'new river valley', 'norfolk / hampton roads', 'roanoke', 'southwest VA', 'winchester', 'kennewick-pasco-richland', 'moses lake', 'olympic peninsula', 'seattle-tacoma', 'wenatchee', 'yakima', 'eastern panhandle', 'morgantown', 'southern WV', 'west virginia (old)', 'appleton-oshkosh-FDL', 'eau claire', 'green bay', 'janesville', 'kenosha-racine', 'madison', 'milwaukee', 'northern WI', 'sheboygan', 'wausau', 'wyoming'], 404)\n",
      "manufacturer: (['ford', 'gmc', 'chevrolet', 'toyota', 'jeep', 'nissan', 'ram', 'mazda', 'cadillac', 'honda', 'dodge', 'lexus', 'Other', 'buick', 'chrysler', 'audi', 'infiniti', 'subaru', 'acura', 'hyundai', 'mercedes-benz', 'bmw', 'volkswagen', 'kia'], 24)\n",
      "model: (['f-150', 'Other', 'silverado 1500'], 3)\n",
      "condition: (['condition_missing', 'good', 'excellent', 'fair', 'like new', 'Other'], 6)\n",
      "fuel: (['gas', 'other', 'diesel', 'hybrid', 'Other'], 5)\n",
      "title_status: (['clean', 'rebuilt', 'Other'], 3)\n",
      "transmission: (['automatic', 'other', 'manual'], 3)\n",
      "drive: (['drive_missing', 'rwd', '4wd', 'fwd'], 4)\n",
      "type: (['type_missing', 'pickup', 'truck', 'other', 'coupe', 'SUV', 'hatchback', 'mini-van', 'sedan', 'Other', 'van', 'convertible', 'wagon'], 13)\n",
      "paint_color: (['paint_missing', 'white', 'blue', 'red', 'black', 'silver', 'grey', 'brown', 'Other', 'green', 'custom'], 11)\n",
      "state: (['az', 'Other', 'fl', 'ma', 'nc', 'ny', 'or', 'pa', 'tx', 'wa', 'wi', 'al', 'ca', 'co', 'ct', 'ga', 'id', 'il', 'in', 'ia', 'ks', 'md', 'mi', 'mn', 'mo', 'mt', 'nj', 'nm', 'oh', 'ok', 'sc', 'tn', 'va'], 33)\n"
     ]
    }
   ],
   "source": [
    "categorias = mostrar_categorias_y_cuenta(df_reducido, columnas_categoricas)\n",
    "\n",
    "for col, cats in categorias.items():\n",
    "    print(f\"{col}: {cats}\")\n"
   ]
  },
  {
   "cell_type": "markdown",
   "id": "2dafdb08",
   "metadata": {},
   "source": [
    "Esta es la salida que muestra algunas columnas con sus valores únicos y cuántos tiene cada uno. "
   ]
  },
  {
   "cell_type": "code",
   "execution_count": 83,
   "id": "0b9d985d",
   "metadata": {},
   "outputs": [
    {
     "data": {
      "text/html": [
       "<div>\n",
       "<style scoped>\n",
       "    .dataframe tbody tr th:only-of-type {\n",
       "        vertical-align: middle;\n",
       "    }\n",
       "\n",
       "    .dataframe tbody tr th {\n",
       "        vertical-align: top;\n",
       "    }\n",
       "\n",
       "    .dataframe thead th {\n",
       "        text-align: right;\n",
       "    }\n",
       "</style>\n",
       "<table border=\"1\" class=\"dataframe\">\n",
       "  <thead>\n",
       "    <tr style=\"text-align: right;\">\n",
       "      <th></th>\n",
       "      <th>Conteo</th>\n",
       "      <th>Porcentaje (%)</th>\n",
       "    </tr>\n",
       "  </thead>\n",
       "  <tbody>\n",
       "    <tr>\n",
       "      <th>Other</th>\n",
       "      <td>408454</td>\n",
       "      <td>95.68</td>\n",
       "    </tr>\n",
       "    <tr>\n",
       "      <th>f-150</th>\n",
       "      <td>13286</td>\n",
       "      <td>3.11</td>\n",
       "    </tr>\n",
       "    <tr>\n",
       "      <th>silverado 1500</th>\n",
       "      <td>5140</td>\n",
       "      <td>1.20</td>\n",
       "    </tr>\n",
       "  </tbody>\n",
       "</table>\n",
       "</div>"
      ],
      "text/plain": [
       "                Conteo  Porcentaje (%)\n",
       "Other           408454           95.68\n",
       "f-150            13286            3.11\n",
       "silverado 1500    5140            1.20"
      ]
     },
     "execution_count": 83,
     "metadata": {},
     "output_type": "execute_result"
    }
   ],
   "source": [
    "resumen_categorias(df_reducido, 'model')"
   ]
  },
  {
   "cell_type": "markdown",
   "id": "8a4ac75c",
   "metadata": {},
   "source": [
    "Aquí se observan como quedaron finalmente las categorías de la variable model."
   ]
  },
  {
   "cell_type": "markdown",
   "id": "afbf957f",
   "metadata": {},
   "source": [
    "## ***4. Actualización de la base de datos***"
   ]
  },
  {
   "cell_type": "markdown",
   "id": "64090345",
   "metadata": {},
   "source": [
    "Finalmente, se guarda el DataFrame limpio en un archivo CSV para poder usarlo después."
   ]
  },
  {
   "cell_type": "code",
   "execution_count": 84,
   "id": "a21454ef",
   "metadata": {},
   "outputs": [],
   "source": [
    "df_reducido.to_csv(\"limpio_miniproyecto_3.csv\",index=False, encoding=\"utf-8\")"
   ]
  }
 ],
 "metadata": {
  "kernelspec": {
   "display_name": "ml_venv",
   "language": "python",
   "name": "python3"
  },
  "language_info": {
   "codemirror_mode": {
    "name": "ipython",
    "version": 3
   },
   "file_extension": ".py",
   "mimetype": "text/x-python",
   "name": "python",
   "nbconvert_exporter": "python",
   "pygments_lexer": "ipython3",
   "version": "3.9.23"
  }
 },
 "nbformat": 4,
 "nbformat_minor": 5
}
